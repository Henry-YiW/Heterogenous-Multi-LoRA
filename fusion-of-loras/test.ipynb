{
 "cells": [
  {
   "cell_type": "code",
   "execution_count": 13,
   "metadata": {},
   "outputs": [
    {
     "name": "stdout",
     "output_type": "stream",
     "text": [
      "Collecting torchvision\n",
      "  Downloading torchvision-0.20.1-cp310-cp310-macosx_11_0_arm64.whl.metadata (6.1 kB)\n",
      "Requirement already satisfied: numpy in /Users/henryyi/opt/anaconda3/envs/ML-Algorithm-LowerVersion/lib/python3.10/site-packages (from torchvision) (1.24.3)\n",
      "Requirement already satisfied: torch==2.5.1 in /Users/henryyi/opt/anaconda3/envs/ML-Algorithm-LowerVersion/lib/python3.10/site-packages (from torchvision) (2.5.1)\n",
      "Requirement already satisfied: pillow!=8.3.*,>=5.3.0 in /Users/henryyi/opt/anaconda3/envs/ML-Algorithm-LowerVersion/lib/python3.10/site-packages (from torchvision) (11.0.0)\n",
      "Requirement already satisfied: filelock in /Users/henryyi/opt/anaconda3/envs/ML-Algorithm-LowerVersion/lib/python3.10/site-packages (from torch==2.5.1->torchvision) (3.16.1)\n",
      "Requirement already satisfied: typing-extensions>=4.8.0 in /Users/henryyi/opt/anaconda3/envs/ML-Algorithm-LowerVersion/lib/python3.10/site-packages (from torch==2.5.1->torchvision) (4.12.2)\n",
      "Requirement already satisfied: networkx in /Users/henryyi/opt/anaconda3/envs/ML-Algorithm-LowerVersion/lib/python3.10/site-packages (from torch==2.5.1->torchvision) (3.4.2)\n",
      "Requirement already satisfied: jinja2 in /Users/henryyi/opt/anaconda3/envs/ML-Algorithm-LowerVersion/lib/python3.10/site-packages (from torch==2.5.1->torchvision) (3.1.4)\n",
      "Requirement already satisfied: fsspec in /Users/henryyi/opt/anaconda3/envs/ML-Algorithm-LowerVersion/lib/python3.10/site-packages (from torch==2.5.1->torchvision) (2024.6.1)\n",
      "Requirement already satisfied: sympy==1.13.1 in /Users/henryyi/opt/anaconda3/envs/ML-Algorithm-LowerVersion/lib/python3.10/site-packages (from torch==2.5.1->torchvision) (1.13.1)\n",
      "Requirement already satisfied: mpmath<1.4,>=1.1.0 in /Users/henryyi/opt/anaconda3/envs/ML-Algorithm-LowerVersion/lib/python3.10/site-packages (from sympy==1.13.1->torch==2.5.1->torchvision) (1.3.0)\n",
      "Requirement already satisfied: MarkupSafe>=2.0 in /Users/henryyi/opt/anaconda3/envs/ML-Algorithm-LowerVersion/lib/python3.10/site-packages (from jinja2->torch==2.5.1->torchvision) (3.0.2)\n",
      "Downloading torchvision-0.20.1-cp310-cp310-macosx_11_0_arm64.whl (1.8 MB)\n",
      "\u001b[2K   \u001b[90m━━━━━━━━━━━━━━━━━━━━━━━━━━━━━━━━━━━━━━━━\u001b[0m \u001b[32m1.8/1.8 MB\u001b[0m \u001b[31m34.2 MB/s\u001b[0m eta \u001b[36m0:00:00\u001b[0m\n",
      "\u001b[?25hInstalling collected packages: torchvision\n",
      "Successfully installed torchvision-0.20.1\n",
      "Note: you may need to restart the kernel to use updated packages.\n"
     ]
    }
   ],
   "source": [
    "%pip install torchvision"
   ]
  },
  {
   "cell_type": "code",
   "execution_count": 7,
   "metadata": {},
   "outputs": [],
   "source": [
    "\n",
    "from glob import glob\n",
    "import pandas as pd\n",
    "import requests\n",
    "from PIL import Image\n",
    "from io import BytesIO\n",
    "from tqdm import tqdm\n",
    "import os\n",
    "\n",
    "import random\n",
    "from datasets import load_dataset\n",
    "from torchvision.transforms import Compose, Resize, ToTensor, Normalize\n",
    "from datasets import load_from_disk\n",
    "from PIL import Image\n",
    "\n",
    "import json\n",
    "from datasets import Dataset"
   ]
  },
  {
   "cell_type": "code",
   "execution_count": 8,
   "metadata": {},
   "outputs": [
    {
     "name": "stderr",
     "output_type": "stream",
     "text": [
      "usage: ipykernel_launcher.py [-h] [--lora_path LORA_PATH]\n",
      "                             [--prompt_path PROMPT_PATH] [--height HEIGHT]\n",
      "                             [--width WIDTH] [--denoise_steps DENOISE_STEPS]\n",
      "                             [--cfg_scale CFG_SCALE] [--seed SEED]\n",
      "ipykernel_launcher.py: error: unrecognized arguments: --f=/Users/henryyi/Library/Jupyter/runtime/kernel-v3b1e5c8686930d1791caec94c1192a081f57f59ab.json\n"
     ]
    },
    {
     "ename": "SystemExit",
     "evalue": "2",
     "output_type": "error",
     "traceback": [
      "An exception has occurred, use %tb to see the full traceback.\n",
      "\u001b[0;31mSystemExit\u001b[0m\u001b[0;31m:\u001b[0m 2\n"
     ]
    },
    {
     "name": "stderr",
     "output_type": "stream",
     "text": [
      "/Users/henryyi/opt/anaconda3/envs/ML-Algorithm-LowerVersion/lib/python3.10/site-packages/IPython/core/interactiveshell.py:3585: UserWarning: To exit: use 'exit', 'quit', or Ctrl-D.\n",
      "  warn(\"To exit: use 'exit', 'quit', or Ctrl-D.\", stacklevel=1)\n"
     ]
    }
   ],
   "source": [
    "\n",
    "\n",
    "\n",
    "def load_image(example):\n",
    "  image = Image.open(example['image_path']).convert(\"RGB\")\n",
    "  example[\"image\"] = image\n",
    "  return example\n",
    "\n",
    "image_transforms = Compose([\n",
    "    Resize((512, 512)),  # Resize to model input resolution\n",
    "    ToTensor(),          # Convert image to tensor and normalize to [0, 1]\n",
    "    Normalize(mean=[0.5, 0.5, 0.5], std=[0.5, 0.5, 0.5])  # Normalize to [-1, 1]\n",
    "])\n",
    "\n",
    "def preprocess_image(example):\n",
    "  image = example[\"image\"]\n",
    "  return example\n",
    "\n",
    "\n",
    "def match_files(dir1, dir2):\n",
    "    \"\"\"\n",
    "    Matches files from two directories by their filenames.\n",
    "    Args:\n",
    "        dir1: Path to the first directory.\n",
    "        dir2: Path to the second directory.\n",
    "    Returns:\n",
    "        A list of tuples where each tuple contains matched filenames from dir1 and dir2.\n",
    "    \"\"\"\n",
    "    # Get list of filenames in each directory\n",
    "    files_dir1 = list(set(os.listdir(dir1)))\n",
    "    files_dir2 = list(set(os.listdir(dir2)))\n",
    "    random.shuffle(files_dir1)\n",
    "    random.shuffle(files_dir2)\n",
    "\n",
    "    dataset = []\n",
    "    for file_name in files_dir1:\n",
    "        file_name_prefix = file_name.split('.')[0]\n",
    "        if file_name_prefix == '':\n",
    "            continue\n",
    "        for file_name_2 in files_dir2:\n",
    "            file_name_prefix_2 = file_name_2.split('.')[0]\n",
    "            if (file_name_prefix == file_name_prefix_2):\n",
    "                with open(os.path.join(dir2, file_name_2), \"r\", encoding=\"utf-8\") as file:\n",
    "                  description = file.read()\n",
    "                  dataset.append({ \"name\": file_name_prefix,\n",
    "                                \"pool-data-full-path\": os.path.join(dir1, file_name),\n",
    "                                \"pool-data\": file_name,\n",
    "                                \"description\": description,\n",
    "                                \"pool-meta-full-path\": os.path.join(dir2, file_name_2),\n",
    "                                \"pool-meta\": file_name_2 })\n",
    "\n",
    "    return dataset\n",
    "\n",
    "\n",
    "def load_lora_list(dir_path_prefix):\n",
    "  lora_pool_path = dir_path_prefix + '/LoRA-compos-data/lora-pool'\n",
    "  lora_pool_meta_path = dir_path_prefix + '/LoRA-compos-data/lora-pool-meta'\n",
    "  lora_dataset = match_files(lora_pool_path, lora_pool_meta_path)\n",
    "  return lora_dataset\n",
    "\n",
    "def load_lora_model_path(dataset, model_storage_dir):\n",
    "  for lora_data in dataset:\n",
    "    saving_dir = model_storage_dir + lora_data['name'];\n",
    "    if os.path.exists(saving_dir):\n",
    "      lora_data['model_path'] = saving_dir\n",
    "  return dataset\n",
    "\n",
    "def load_dataset(dataset_name, split=\"train\"):\n",
    "    filtered_dataset = load_from_disk(\"/content/drive/MyDrive/Graduate School/Stable Diffusion Finetuning/filtered_data\")\n",
    "    processed_dataset = filtered_dataset.map(load_image)\n",
    "    lora_dataset = load_lora_list('/content/drive/MyDrive/Graduate School/Stable Diffusion Finetuning')\n",
    "    lora_dataset = load_lora_model_path(lora_dataset, '/content/drive/MyDrive/Graduate School/Stable Diffusion Finetuning/stable-diffusion-1.5-with-lora/stable-diffusion-1.5-fused-with')\n",
    "    dataset = load_dataset(\"laion/laion2B-en-aesthetic\", split=\"train[:1%]\", keep_in_memory=True)\n",
    "    return dataset\n",
    "\n",
    "def get_corresponding_prompt_prefix(lora_name, category = None):\n",
    "    # Anime\n",
    "    # 01:Arknights\n",
    "    # 04: Nezuko\n",
    "    # 06: Garreg\n",
    "    # 07: Auroral\n",
    "    # 08: Bamboolight\n",
    "    # 10: Zero\n",
    "    # 11: Handdrawn/line art\n",
    "    # 14: MoXin\n",
    "    # 17: Burger\n",
    "    # 18: Goku\n",
    "    # 22: Toast\n",
    "    anime_lora_mapping = {\n",
    "        \"01\": \"Arknights\",\n",
    "        \"04\": \"Nezuko\",\n",
    "        \"06\": \"Garreg\",\n",
    "        \"07\": \"Auroral\",\n",
    "        \"08\": \"Bamboolight\",\n",
    "        \"10\": \"Zero\",\n",
    "        \"11\": \"Handdrawn\", # line art\n",
    "        \"14\": \"MoXin\",\n",
    "        \"17\": \"Burger\",\n",
    "        \"18\": \"Goku\",\n",
    "        \"22\": \"Toast\",\n",
    "    }\n",
    "    reverse_anime_lora_mapping = {v: k for k, v in anime_lora_mapping.items()}\n",
    "\n",
    "    # Reality\n",
    "    # 02: JFC\n",
    "    # 03: IU\n",
    "    # 05: Bright\n",
    "    # 09: Library\n",
    "    # 12: Scarlett\n",
    "    # 13: Umbrella\n",
    "    # 15: Rock\n",
    "    # 16: Forest (buggy prompt)\n",
    "    # 19: Univ-Uniform (mahalai, Thai)\n",
    "    # 20: School-Dress\n",
    "    # 21: Gum\n",
    "    reality_lora_mapping = {\n",
    "        \"02\": \"JFC\",\n",
    "        \"03\": \"IU\",\n",
    "        \"05\": \"Bright\",\n",
    "        \"09\": \"Library\",\n",
    "        \"12\": \"Scarlett\",\n",
    "        \"13\": \"Umbrella\",\n",
    "        \"15\": \"Rock\",\n",
    "        \"16\": \"Forest\", # (buggy prompt)\n",
    "        \"19\": \"Univ-Uniform\", # (mahalai, Thai)\n",
    "        \"20\": \"School-Dress\",\n",
    "        \"21\": \"Gum\",\n",
    "    }\n",
    "    reverse_reality_lora_mapping = {v: k for k, v in reality_lora_mapping.items()}\n",
    "    prefix = lora_name.split('.')[0].strip()\n",
    "    matching_part = prefix.split('_')[1].strip()\n",
    "    if matching_part in reverse_anime_lora_mapping and (category == \"anime\" or category is None):\n",
    "        return reverse_anime_lora_mapping[matching_part]\n",
    "    elif matching_part in reverse_reality_lora_mapping and (category == \"reality\" or category is None):\n",
    "        return reverse_reality_lora_mapping[matching_part]\n",
    "    else:\n",
    "        raise ValueError(f\"LoRA name {lora_name} not found in anime or reality mappings\")\n",
    "    \n",
    "def get_corresponding_lora_name(prompt_prefix, category = None):\n",
    "    anime_lora_mapping = {\n",
    "        \"01\": \"Arknights\",\n",
    "        \"04\": \"Nezuko\",\n",
    "        \"06\": \"Garreg\",\n",
    "        \"07\": \"Auroral\",\n",
    "        \"08\": \"Bamboolight\",\n",
    "        \"10\": \"Zero\",\n",
    "        \"11\": \"Handdrawn\", # line art\n",
    "        \"14\": \"MoXin\",\n",
    "        \"17\": \"Burger\",\n",
    "        \"18\": \"Goku\",\n",
    "        \"22\": \"Toast\",\n",
    "    }\n",
    "\n",
    "    reality_lora_mapping = {\n",
    "        \"02\": \"JFC\",\n",
    "        \"03\": \"IU\",\n",
    "        \"05\": \"Bright\",\n",
    "        \"09\": \"Library\",\n",
    "        \"12\": \"Scarlett\",\n",
    "        \"13\": \"Umbrella\",\n",
    "        \"15\": \"Rock\",\n",
    "        \"16\": \"Forest\", # (buggy prompt)\n",
    "        \"19\": \"Univ-Uniform\", # (mahalai, Thai)\n",
    "        \"20\": \"School-Dress\",\n",
    "        \"21\": \"Gum\",\n",
    "    }\n",
    "    if prompt_prefix in anime_lora_mapping and (category == \"anime\" or category is None):\n",
    "        return anime_lora_mapping[prompt_prefix]\n",
    "    elif prompt_prefix in reality_lora_mapping and (category == \"reality\" or category is None):\n",
    "        return reality_lora_mapping[prompt_prefix]\n",
    "    else:\n",
    "        raise ValueError(f\"LoRA name {lora_name} not found in anime or reality mappings\")\n",
    "    \n",
    "\n",
    "if __name__ == \"__main__\":\n",
    "    import argparse\n",
    "    parser = argparse.ArgumentParser(\n",
    "        description=\"Train the fusion of LoRAs.\"\n",
    "    )\n",
    "\n",
    "    parser.add_argument('--lora_path', default='models/lora/reality',\n",
    "                        help='Path to the directory containing LoRA files', type=str)\n",
    "    parser.add_argument('--prompt_path', default='models/prompts/reality',\n",
    "                        help='Path to the directory containing prompt files', type=str)\n",
    "    parser.add_argument('--height', default=1024,\n",
    "                        help='Height of the generated images', type=int)\n",
    "    parser.add_argument('--width', default=768,\n",
    "                        help='Width of the generated images', type=int)\n",
    "    parser.add_argument('--denoise_steps', default=50,\n",
    "                        help='Number of denoising steps', type=int)\n",
    "    parser.add_argument('--cfg_scale', default=7,\n",
    "                        help='Scale for classifier-free guidance', type=float)\n",
    "    parser.add_argument('--seed', default=11,\n",
    "                        help='Seed for generating images', type=int)\n",
    "\n",
    "    args = parser.parse_args()\n",
    "    main(**vars(args))\n",
    "\n",
    "\"python train_fusion_of_loras.py --prompt_path '/projects/bdpp/hyi1/stable-diffusion/Heterogenous-Multi-LoRA/Multi-LoRA-Composition/gen_prompts_compose' --lora_path '/projects/bdpp/hyi1/stable-diffusion/LoRA-compos-data/lora-pool/compose'\""
   ]
  },
  {
   "cell_type": "code",
   "execution_count": 113,
   "metadata": {},
   "outputs": [],
   "source": [
    "import torch\n",
    "import torch.nn as nn\n",
    "from transformers import T5Tokenizer, T5Model\n",
    "\n",
    "class EncoderDecoderForClassification(nn.Module):\n",
    "    def __init__(self, model_name, lora_set):\n",
    "        super().__init__()\n",
    "        self.lora_set = lora_set\n",
    "        self.encoder_decoder = T5Model.from_pretrained(model_name)\n",
    "        self.classifier = nn.Sequential(\n",
    "            nn.Linear(self.encoder_decoder.config.d_model, 2 * self.encoder_decoder.config.d_model), \n",
    "            nn.GELU(),\n",
    "            nn.Linear(2 * self.encoder_decoder.config.d_model, 1),\n",
    "            )  # Classification head\n",
    "        self.softmax = nn.Softmax(dim=-1)  # Convert logits to probabilities\n",
    "\n",
    "    def forward(self, decoder_input_ids, decoder_attention_mask, class_token_indexes):\n",
    "        # Get encoder and decoder outputs\n",
    "        outputs = self.encoder_decoder(\n",
    "            input_ids=self.lora_set.input_ids,\n",
    "            attention_mask=self.lora_set.attention_mask,\n",
    "            decoder_input_ids=decoder_input_ids,\n",
    "            decoder_attention_mask=decoder_attention_mask,\n",
    "        )\n",
    "\n",
    "        # Use the last hidden state of the decoder (first token representation)\n",
    "        decoder_hidden_state = outputs.last_hidden_state  # Shape: (batch_size, sequence_length, hidden_size)\n",
    "        # class_token_hidden_state = decoder_hidden_state[:, class_token_indexes, :]\n",
    "\n",
    "        # Gather class token hidden states using torch.gather\n",
    "        index_expanded = class_token_indexes.unsqueeze(-1).expand(-1, -1, decoder_hidden_state.shape[-1])  # Shape: (batch_size, num_classes, hidden_size)\n",
    "        class_token_hidden_state = torch.gather(decoder_hidden_state, dim=1, index=index_expanded)  # Shape: (batch_size, num_classes, hidden_size)\n",
    "\n",
    "        # Pass through classification head\n",
    "        logits = self.classifier(class_token_hidden_state).squeeze(-1)  # Shape: (batch_size, num_classes)\n",
    "        probabilities = self.softmax(logits)\n",
    "\n",
    "        return logits, probabilities  # Logits for training, probabilities for inference\n",
    "    \n",
    "from transformers import Trainer\n",
    "import torch\n",
    "import torch.nn as nn\n",
    "from typing import Any, Dict, Union\n",
    "\n",
    "class CustomTrainer(Trainer):\n",
    "    def __init__(self, *args, **kwargs):\n",
    "        \"\"\"\n",
    "        A custom Trainer for fine-tuning the EncoderDecoderForClassification model.\n",
    "        \"\"\"\n",
    "        super().__init__(*args, **kwargs)\n",
    "\n",
    "    def compute_loss(self, model, inputs, return_outputs=False):\n",
    "        \"\"\"\n",
    "        Custom loss computation to handle EncoderDecoderForClassification.\n",
    "        \"\"\"\n",
    "        # Extract inputs\n",
    "        labels = inputs[\"labels\"]  # Shape: (batch_size)\n",
    "        # Forward pass\n",
    "        outputs = model(decoder_input_ids=inputs['decoder_input_ids'], decoder_attention_mask=inputs['decoder_attention_mask'], class_token_indexes=inputs['class_token_index_group'])\n",
    "        logits = outputs[0]  # First output is the logits\n",
    "\n",
    "        # Compute cross-entropy loss\n",
    "        loss_fn = nn.CrossEntropyLoss()\n",
    "        loss = loss_fn(logits, labels)\n",
    "\n",
    "        return (loss, outputs) if return_outputs else loss\n",
    "    \n",
    "    def prediction_step(self, model, inputs, prediction_loss_only, ignore_keys=None):\n",
    "\n",
    "        with torch.no_grad():\n",
    "            loss, outputs = self.compute_loss(model, inputs, return_outputs=True)\n",
    "        # Return loss only if required\n",
    "        if prediction_loss_only:\n",
    "            return loss, None, None\n",
    "\n",
    "        # For evaluation, predictions are the rewards\n",
    "\n",
    "        return loss, outputs, inputs['labels']\n",
    "\n",
    "\n",
    "def load_dataset_from_prompts(prompts_path, loras_path, lora_metas_path):\n",
    "    dataset = glob(os.path.join(prompts_path, \"*.txt\"))\n",
    "    prompt_list = []\n",
    "    lora_set = {}\n",
    "    for prompt_file in dataset:\n",
    "       prompt = open(prompt_file, \"r\", encoding=\"utf-8\").read()\n",
    "       prompt_name = prompt_file.split('/')[-1].split('.')[0].strip()\n",
    "       lora_prefixes = prompt_name.split('_')[:-1]\n",
    "       lora_names = [get_corresponding_lora_name(prefix) for prefix in lora_prefixes]\n",
    "       lora_paths = []\n",
    "       lora_meta_paths = []\n",
    "       for lora_name in lora_names:\n",
    "          temp_lora_meta_paths = glob(os.path.join(lora_metas_path, f'*{lora_name}.txt'))\n",
    "          lora_meta_path = temp_lora_meta_paths[0] if len(temp_lora_meta_paths) > 0 else None\n",
    "          lora_meta_paths.append(lora_meta_path)\n",
    "\n",
    "          temp_lora_paths = glob(os.path.join(loras_path, f'*{lora_name}.safetensors'))\n",
    "          lora_path = temp_lora_paths[0] if len(temp_lora_paths) > 0 else None\n",
    "          lora_paths.append(lora_path)\n",
    "          \n",
    "          if lora_name not in lora_set:\n",
    "            lora_meta = open(lora_meta_path, \"r\", encoding=\"utf-8\").read() if lora_meta_path is not None else None\n",
    "            lora_set[lora_name] = { \"lora_meta\": lora_meta, \"lora_path\": lora_path, \"lora_meta_path\": lora_meta_path }\n",
    "\n",
    "       prompt_list.append({ \"prompt\": prompt.strip('\"'), \"lora_name\": lora_names, \"lora_path\": lora_paths, \"lora_meta_path\": lora_meta_paths })\n",
    "    return prompt_list, len(lora_set.keys()), lora_set\n",
    "\n",
    "def build_labels(prompt_instance, lora_index, temperature = 0.2):\n",
    "    labels = [ 0 ] * len(lora_index)\n",
    "    for temp_lora_name in prompt_instance['lora_name']:\n",
    "        labels[lora_index[temp_lora_name]] = 1\n",
    "    # print('labels: ', labels)\n",
    "    loss_fn = torch.nn.Softmax(dim=0)\n",
    "    return { **prompt_instance, \"labels\": labels, \"normalized_labels\": loss_fn(torch.tensor(labels) / temperature).tolist() }\n",
    "\n",
    "def main(lora_path, prompt_path, *args, **kwargs):\n",
    "    prompt_list, num_loras, lora_set = load_dataset(prompt_path, lora_path)\n",
    "    list_lora_set = list(lora_set)\n",
    "    lora_index = { list_lora_set[i]: i for i in range(len(list_lora_set)) }\n",
    "\n",
    "    # model_name = \"t5-small\"\n",
    "    # num_classes = num_loras  # Replace with the actual number of classes\n",
    "    # model = EncoderDecoderForClassification(model_name, num_classes)\n",
    "    processed_prompt_list = [build_labels(prompt_instance, lora_index, temperature=0.1) for prompt_instance in prompt_list]\n",
    "    dataset = Dataset.from_list(processed_prompt_list)\n",
    "    output = { \"prompt_list\": processed_prompt_list, \"num_loras\": num_loras, \"lora_set\": list_lora_set }\n",
    "    with open(\"prompt_list.json\", \"w\") as f:\n",
    "      json.dump(output, f)\n",
    "    print(dataset[2])\n",
    "\n",
    "    tokenizer = T5Tokenizer.from_pretrained(\"t5-small\")\n",
    "    tokenized_dataset = dataset.map(lambda x: tokenize_function(x, tokenizer), batched=True)\n",
    "    train_model(tokenized_dataset, tokenizer)"
   ]
  },
  {
   "cell_type": "code",
   "execution_count": 10,
   "metadata": {},
   "outputs": [
    {
     "name": "stderr",
     "output_type": "stream",
     "text": [
      "You are using the default legacy behaviour of the <class 'transformers.models.t5.tokenization_t5.T5Tokenizer'>. This is expected, and simply means that the `legacy` (previous) behavior will be used so nothing changes for you. If you want to use the new behaviour, set `legacy=False`. This should only be set if you understand what it means, and thoroughly read the reason why this was added as explained in https://github.com/huggingface/transformers/pull/24565\n"
     ]
    }
   ],
   "source": [
    "import torch\n",
    "from transformers import T5Tokenizer, T5Model\n",
    "tokenizer = T5Tokenizer.from_pretrained(\"t5-small\");"
   ]
  },
  {
   "cell_type": "code",
   "execution_count": 114,
   "metadata": {},
   "outputs": [],
   "source": [
    "prompt_path = '/Users/henryyi/Documents/University/Systems for Gen AI/Final Project/Heterogenous-Multi-LoRA/Multi-LoRA-Composition/gen_prompts_compose'\n",
    "lora_path = '/Users/henryyi/Documents/University/Systems for Gen AI/Final Project/Heterogenous-Multi-LoRA/LoRA-compos-data/lora-pool/compose'\n",
    "lora_meta_path = '/Users/henryyi/Documents/University/Systems for Gen AI/Final Project/Heterogenous-Multi-LoRA/LoRA-compos-data/lora-pool-meta'\n",
    "prompt_list, num_loras, lora_set = load_dataset_from_prompts(prompt_path, lora_path, lora_meta_path)\n",
    "list_lora_set = list(lora_set.keys())\n",
    "lora_index = { list_lora_set[i]: i for i in range(len(list_lora_set)) }"
   ]
  },
  {
   "cell_type": "code",
   "execution_count": 118,
   "metadata": {},
   "outputs": [
    {
     "data": {
      "text/plain": [
       "{'Rock': 0, 'Gum': 1, 'Library': 2, 'JFC': 3, 'Scarlett': 4}"
      ]
     },
     "execution_count": 118,
     "metadata": {},
     "output_type": "execute_result"
    }
   ],
   "source": [
    "lora_index"
   ]
  },
  {
   "cell_type": "code",
   "execution_count": 117,
   "metadata": {},
   "outputs": [
    {
     "name": "stdout",
     "output_type": "stream",
     "text": [
      "{'prompt': \"Envision Dwayne 'The Rock' Johnson with an infectious grin, moments after successfully blowing the biggest, most vibrant bubble gum creation in history during a playful interaction with Bubble Gum (バブルガム / 泡泡糖 / Kaugummi) at image index 18.\", 'lora_name': ['Rock', 'Gum'], 'lora_path': ['/Users/henryyi/Documents/University/Systems for Gen AI/Final Project/Heterogenous-Multi-LoRA/LoRA-compos-data/lora-pool/compose/14_Rock.safetensors', '/Users/henryyi/Documents/University/Systems for Gen AI/Final Project/Heterogenous-Multi-LoRA/LoRA-compos-data/lora-pool/compose/22_Gum.safetensors'], 'lora_meta_path': ['/Users/henryyi/Documents/University/Systems for Gen AI/Final Project/Heterogenous-Multi-LoRA/LoRA-compos-data/lora-pool-meta/15_Rock.txt', '/Users/henryyi/Documents/University/Systems for Gen AI/Final Project/Heterogenous-Multi-LoRA/LoRA-compos-data/lora-pool-meta/21_Gum.txt'], 'labels': [1, 1, 0, 0, 0], 'normalized_labels': [0.499966025352478, 0.499966025352478, 2.269842298119329e-05, 2.269842298119329e-05, 2.269842298119329e-05]}\n"
     ]
    }
   ],
   "source": [
    "processed_prompt_list = [build_labels(prompt_instance, lora_index, temperature=0.1) for prompt_instance in prompt_list]\n",
    "dataset = Dataset.from_list(processed_prompt_list)\n",
    "output = { \"prompt_list\": processed_prompt_list, \"num_loras\": num_loras, \"lora_set\": list_lora_set }\n",
    "with open(\"prompt_list.json\", \"w\") as f:\n",
    "    json.dump(output, f)\n",
    "print(dataset[2])"
   ]
  },
  {
   "cell_type": "code",
   "execution_count": 19,
   "metadata": {},
   "outputs": [],
   "source": [
    "def get_class_tokens(lora_indexes):\n",
    "    num_classes = len(lora_indexes)\n",
    "    special_tokens = [f\"[CLASS_{i}]\" for i in range(num_classes)]\n",
    "    print(special_tokens)\n",
    "    return special_tokens\n",
    "\n",
    "def add_class_tokens_to_tokenizer(tokenizer, lora_indexes):\n",
    "    class_tokens = get_class_tokens(lora_indexes)\n",
    "    tokenizer.add_tokens(class_tokens)\n",
    "    return tokenizer, class_tokens"
   ]
  },
  {
   "cell_type": "code",
   "execution_count": 22,
   "metadata": {},
   "outputs": [
    {
     "name": "stdout",
     "output_type": "stream",
     "text": [
      "['[CLASS_0]', '[CLASS_1]', '[CLASS_2]', '[CLASS_3]', '[CLASS_4]']\n"
     ]
    }
   ],
   "source": [
    "tokenizer, class_tokens = add_class_tokens_to_tokenizer(tokenizer, list_lora_set)\n"
   ]
  },
  {
   "cell_type": "code",
   "execution_count": 30,
   "metadata": {},
   "outputs": [],
   "source": [
    "def get_class_token_input_ids(class_tokens):\n",
    "    return tokenizer.encode(''.join(class_tokens))[:len(class_tokens)]"
   ]
  },
  {
   "cell_type": "code",
   "execution_count": 38,
   "metadata": {},
   "outputs": [
    {
     "data": {
      "text/plain": [
       "[32100, 32101, 32102, 32103, 32104]"
      ]
     },
     "execution_count": 38,
     "metadata": {},
     "output_type": "execute_result"
    }
   ],
   "source": [
    "class_token_input_ids = get_class_token_input_ids(class_tokens)"
   ]
  },
  {
   "cell_type": "code",
   "execution_count": 89,
   "metadata": {},
   "outputs": [],
   "source": [
    "def tokenize_function(examples, tokenizer, class_tokens, class_token_input_ids, max_length=512):\n",
    "    prompts = examples['prompt']\n",
    "    prompts_with_class_tokens = [prompt + ' ' + ''.join(class_tokens) for prompt in prompts]\n",
    "    print(prompts_with_class_tokens)\n",
    "    tokenized_prompts = tokenizer(prompts_with_class_tokens, truncation=True, padding='max_length', max_length=max_length)\n",
    "    class_token_index_group = []\n",
    "    for input_ids, attention_mask in zip(tokenized_prompts['input_ids'], tokenized_prompts['attention_mask']):\n",
    "        class_token_indexes = []\n",
    "        for token_input_id in class_token_input_ids:\n",
    "            if token_input_id in input_ids:\n",
    "                index = input_ids.index(token_input_id)\n",
    "                class_token_indexes.append(index)\n",
    "            attention_mask[index] = 0\n",
    "        class_token_index_group.append(class_token_indexes)\n",
    "\n",
    "    return {\n",
    "        \"input_ids\": tokenized_prompts['input_ids'],\n",
    "        \"attention_mask\": tokenized_prompts['attention_mask'],\n",
    "        \"class_token_index_group\": class_token_index_group,\n",
    "        \"lables\": examples['labels'],\n",
    "        \"normalized_labels\": examples['normalized_labels']\n",
    "    }\n",
    "  \n",
    "#   tokenized_examples = tokenizer(examples['prompt'] + , truncation=True, padding='max_length', max_length=512)\n",
    "#   class_token_input_ids = tokenizer(class_tokens, truncation=True, padding='max_length', max_length=512)\n",
    "#   return {**examples, **tokenized_examples}\n",
    "\n",
    "def get_class_tokens(lora_indexes):\n",
    "    num_classes = len(lora_indexes)\n",
    "    special_tokens = [f\"[CLASS_{i}]\" for i in range(num_classes)]\n",
    "    return special_tokens\n",
    "\n",
    "def add_class_tokens_to_tokenizer(tokenizer, lora_indexes):\n",
    "    special_tokens = get_class_tokens(lora_indexes)\n",
    "    tokenizer.add_tokens(special_tokens)\n",
    "\n",
    "def add_class_tokens(prompt_instance, lora_indexes, tokenizer):\n",
    "    num_classes = len(lora_indexes)\n",
    "    special_tokens = [f\"[CLASS_{i}]\" for i in range(num_classes)]\n",
    "    tokenizer.add_tokens(special_tokens)\n",
    "\n",
    "    # Example prompt with special tokens\n",
    "    decoder_input = tokenizer(\"Classify this text\", return_tensors=\"pt\")\n",
    "    class_tokens = tokenizer(special_tokens, add_special_tokens=False, return_tensors=\"pt\")\n",
    "\n",
    "    # Append special tokens to decoder input\n",
    "    decoder_input[\"input_ids\"] = torch.cat([decoder_input[\"input_ids\"], class_tokens[\"input_ids\"]], dim=1)\n",
    "    class_tokens = [0] * len(lora_index)\n",
    "    for temp_lora_name in prompt_instance['lora_name']:\n",
    "        class_tokens[lora_index[temp_lora_name]] = 1\n",
    "    return { **prompt_instance, \"class_tokens\": class_tokens }"
   ]
  },
  {
   "cell_type": "code",
   "execution_count": 90,
   "metadata": {},
   "outputs": [
    {
     "data": {
      "application/vnd.jupyter.widget-view+json": {
       "model_id": "69689b44f01e40d6bc92012447b92a5d",
       "version_major": 2,
       "version_minor": 0
      },
      "text/plain": [
       "Map:   0%|          | 0/250 [00:00<?, ? examples/s]"
      ]
     },
     "metadata": {},
     "output_type": "display_data"
    },
    {
     "name": "stdout",
     "output_type": "stream",
     "text": [
      "[\"Envision the unstoppable force, Dwayne 'The Rock' Johnson, in a moment of relaxation as he captivatingly blows massive, iridescent bubble gum with vivid swirls that seem to echo his legendary strength and serious demeanor. [CLASS_0][CLASS_1][CLASS_2][CLASS_3][CLASS_4]\", 'Dwayne \\'The Rock\\' Johnson, in the spirit of th3r0ck, embodies raw power as he focuses intently with no hair glistening under the spotlight, while simultaneously showcasing a mesmerizing display of blown bubble gum artistry—the epitome of muscle-bound precision and playful charm.\"\\n\\n--- Metadata for LoRA 1 & LoRA 2 (Combined) ---\\nName: Dwayne \"The Rock\" Johnson, Bubble Gum Mastery\\n\\nDescription: A cross between the iconic th3r0ck vibe of Dwayne \\'The Rock\\' Johnson and a whimsical scene where blowing bubble gum becomes an artistic expression. The image captures his serious demeanor juxtaposed with the light-heartedness of creating elaborate bubbles, embodying strength and childlike wonder in one frame.\\n\\nImage Index: 48 [CLASS_0][CLASS_1][CLASS_2][CLASS_3][CLASS_4]', \"Envision Dwayne 'The Rock' Johnson with an infectious grin, moments after successfully blowing the biggest, most vibrant bubble gum creation in history during a playful interaction with Bubble Gum (バブルガム / 泡泡糖 / Kaugummi) at image index 18. [CLASS_0][CLASS_1][CLASS_2][CLASS_3][CLASS_4]\", 'Envision an intricately designed library bookshelf bathed in warm, ambient lighting, with each spine of the books gently embossed to resemble classic Japanese film frames; overlay subtle film grain and a touch of vibrant Japan color palette for an immersive fusion of literary charm and cultural nostalgia. [CLASS_0][CLASS_1][CLASS_2][CLASS_3][CLASS_4]', 'Envision an elegant library bookshelf in the background, filled with classic literature books under soft, warm lighting that captures the essence of Japan\\'s serene ambiance (Japan Vibes - Film color). Overlay a subtle film grain texture and add a touch of nostalgic film overlay to bring an old-world charm into this contemporary scene.\"\\n\\n-----\\n\\n\"Visualize a vibrant, meticulously arranged library bookshelf as the backdrop (Library bookshelf), where each spine of books is gently illuminated. Overlay this tranquil setting with the captivating color palette and film grain texture reminiscent of iconic Japanese cinema scenes (Japan Vibes - Film color, Film grain) to create a harmonious blend of timeless literature and cinematic beauty. [CLASS_0][CLASS_1][CLASS_2][CLASS_3][CLASS_4]', 'Scarlett Johansson channeling her inner Japanese film icon, radiating warmth with her short red hair framing delicate blue eyes, amidst the nostalgic ambiance of film grain overlay at Image Index 48. [CLASS_0][CLASS_1][CLASS_2][CLASS_3][CLASS_4]', 'Create an artistic digital portrait where Scarlett Johansson\\'s iconic short red hair is styled with playful bubble gum bubbles encircling her, accented by the nostalgic vibe of Japan Vibes - Film color aesthetics, incorporating film overlay and grain to evoke an old-school charm.\"\\n\\n--- Metadata for LoRA 4 ---\\nName: Tokyo Nightlife\\n\\nDescription: bustling night scene in Tokyo with neon lights\\n\\nTrigger Words: Tokyo at night\\n\\n--- Metadata for LoRA 5 ---\\nName: Hana Yori Dango (はなよりだんどう)\\n\\nDescription: colorful and cheerful youth culture inspired by the manga/anime series Hana Yori Dango\\n\\nTrigger Words: Hana Yori Dango, high school life\\n\\n--- Metadata for LoRA 6 ---\\nName: Sakura Bloom (桜)\\n\\nDescription: Japanese cherry blossoms in full bloom against a clear blue sky\\n\\nTrigger Words: sakura, cherry blossoms, springtime beauty\\n\\nImage Index: 72\\nCompose a single positive prompt that weaves together the elements from LoRAs with index number 4 and 6 for an image generation. [CLASS_0][CLASS_1][CLASS_2][CLASS_3][CLASS_4]', 'Envision a serene library bookshelf with an artistic touch, where the colors of a captivating Japanese vibes scene gently blend over the classic black-and-white backdrop (film overlay), subtly imbuing each shelf and spine with film grain textures, creating a harmonious fusion of traditional library charm and exotic cultural essence. [CLASS_0][CLASS_1][CLASS_2][CLASS_3][CLASS_4]', \"Dwayne 'The Rock' Johnson with film grain overlay, exuding an iconic th3r0ck vibe against a backdrop of Japan Vibes - Film color, depicted in a dynamic scene set within the organized serenity of a Library bookshelf (Image Index: 18). [CLASS_0][CLASS_1][CLASS_2][CLASS_3][CLASS_4]\", \"Envision Dwayne 'The Rock' Johnson showcasing his th3r0ck-inspired presence amidst a tranquil Japan Vibes film overlay, with gently textured film grain enhancing the scene set against an intricate library bookshelf backdrop (Image Index: 30). [CLASS_0][CLASS_1][CLASS_2][CLASS_3][CLASS_4]\", 'Dwayne \\'The Rock\\' Johnson stands proudly amidst an old-world Japanese film scene, his muscular silhouette accentuated by a cinematic film overlay with distinct grain that pays homage to classic cinema while surrounded by a serene library bookshelf filled with diverse literature.\"\\n\\n(Image Index: 24) [CLASS_0][CLASS_1][CLASS_2][CLASS_3][CLASS_4]', \"A majestic visual blending Dwayne 'The Rock' Johnson with the vibrant essence of Japan Vibes - Film color, where his iconic th3r0ck physique is artfully overlaid onto a rich film grain backdrop reminiscent of classic Japanese cinema. Introducing an unexpected twist, place this dynamic character amidst a serene library bookshelf scene (Image Index: 25), with each leather-bound tome echoing the strength and depth from his serious demeanor. [CLASS_0][CLASS_1][CLASS_2][CLASS_3][CLASS_4]\", \"Depict Dwayne 'The Rock' Johnson standing proudly amidst an immersive Japan film vibes setting, with subtle film grain overlay enhancing the scene, surrounded by meticulously organized library bookshelves filled with ancient tomes as a symbol of his intellectual prowess. [CLASS_0][CLASS_1][CLASS_2][CLASS_3][CLASS_4]\", 'Dwayne \\'The Rock\\' Johnson showcasing his th3r0ck nature with an artistic film overlay, capturing the iconic seriousness in a Japan Vibes color palette against a serene library bookshelf background.\"\\n\\n--- Metadata for LoRA 1 ---\\nName: Fierce Female Gamer\\n\\nDescription: female gaming character - fierce and focused expression, with neon-lit hair accessories.\\n\\nTrigger Words: gaming, neon, focus\\n\\n--- Metadata for LoRA 2 ---\\nName: Urban Fantasy Mashup\\n\\nDescription: a mystical urban setting blended with fantasy elements, showcasing the vibrant fusion of modern and ancient cultures.\\n\\nTrigger Words: urban fantasy, mashup, cultural fusion\\n\\n--- Metadata for LoRA 3 ---\\nName: Sci-Fi Bookshelf\\n\\nDescription: futuristic sci-fi themed library bookshelf with holographic books floating around and otherworldly decorations.\\n_\\n1. \"Fierce Female Gamer immersed in an epic virtual battle scene, her neon accessories illuminating a vibrant urban fantasy cityscape that transforms the ordinary library bookshelf into a portal to another dimension.\"\\n2. \"Dwayne \\'The Rock\\' Johnson channeling his inner gamer spirit amidst a sci-fi wonderland of books with holographic displays, set against an illuminating neon urban fantasy backdrop inspired by Japan Vibes color scheme. [CLASS_0][CLASS_1][CLASS_2][CLASS_3][CLASS_4]', 'Envision an idyllic library bookshelf, overflowing with classic Japanese literature, under the warm glow of vintage lighting; incorporating film overlays that mimic the iconic color palette from a beloved Japan-inspired movie (Image Index: 9). [CLASS_0][CLASS_1][CLASS_2][CLASS_3][CLASS_4]', 'Envision Scarlett Johansson with vibrant red hair, her sparkling blue eyes capturing the essence of Japan\\'s film industry charm while playfully blowing bubbles in syncopated dance-like patterns, overlaid with a subtle film grain and colorized to evoke the exotic allure of \\'Japan Vibes - Film color\\' index 46.\"\\n\\n\"Capture a scene where Scarlett Johansson embodies Japan\\'s artistic spirit, adorned in vivid hues reminiscent of classic Japanese cinema (\\'film overlay\\'), her fingers skillfully crafting an intricate bubble gum ring that mirrors the delicate complexity of film-making itself. Her radiant blue eyes and red locks are framed by a soft grainy texture, as if she\\'s been animated into \\'Japan Vibes - Film color\\' index 46. [CLASS_0][CLASS_1][CLASS_2][CLASS_3][CLASS_4]', 'A serene library bookshelf filled with vintage Japanese literature-themed books, showcasing a harmonious blend of a classic library background with the warm, film grain textures typical to Japan Vibes - Film color (Image Index: 35), accented by soft film overlay that adds an air of nostalgic charm. [CLASS_0][CLASS_1][CLASS_2][CLASS_3][CLASS_4]', 'Envision Scarlett Johansson with vibrant blue eyes, capturing an essence of Japan Vibes - Film Grain aesthetic in Image Index #49, where her short red hair dances against the delicate film overlay background. [CLASS_0][CLASS_1][CLASS_2][CLASS_3][CLASS_4]', \"Envision an immersive library bookshelf where each shelf is dedicated to showcasing iconic scenes from classic Japanese films, filled with the vibrant color palette of 'Japan Vibes' and a film grain overlay for that authentic cinematic feel. [CLASS_0][CLASS_1][CLASS_2][CLASS_3][CLASS_4]\", \"Create an image of Dwayne 'The Rock' Johnson, with his signature no-hair style, capturing the essence of strength and determination as he blows a giant bubble gum (Bubble Gum v2.0) that defies gravity in front of a monumental backdrop reminiscent of an epic wrestling match, at image index 19. [CLASS_0][CLASS_1][CLASS_2][CLASS_3][CLASS_4]\", \"Envision the iconic Dwayne 'The Rock' Johnson, epitomizing strength and determination with an almost th3r0ck gravity in his serious gaze, as he playfully engages in blowing bubble gum bubbles of pure joy on a sunlit beach—image index 25. [CLASS_0][CLASS_1][CLASS_2][CLASS_3][CLASS_4]\", \"In the midst of thunderous applause, Dwayne 'The Rock' Johnson holds his head high with an intense gaze while simultaneously showcasing his strength by blowing out a massive bubble gum creation in mid-air—capturing the essence of th3r0ck and playful resilience at image index 31. [CLASS_0][CLASS_1][CLASS_2][CLASS_3][CLASS_4]\", \"Dwayne 'The Rock' Johnson, captured in an epic moment of strength and determination, stands at the center of the frame with his signature no-hair look, channeling the essence of th3r0ck as he blows a colossal bubble gum vortex around him - a whimsical fusion of muscular power and childhood joy. [CLASS_0][CLASS_1][CLASS_2][CLASS_3][CLASS_4]\", \"Dwayne 'The Rock' Johnson channeling his inner child, with an expression of pure joy as he playfully attempts to blow the biggest bubble gum bubble alongside Bubble Gum v2.0 at Image Index 33. [CLASS_0][CLASS_1][CLASS_2][CLASS_3][CLASS_4]\", \"Envision an elegant library bookshelf bathed in warm ambient light, where each shelf is adorned with classic Japanese literature-themed covers (lib bg), seamlessly blended with the vintage film grain effect reminiscent of a bygone era's storytelling charm (film overlay, film grain), creating an immersive Japan Vibes atmosphere in image index 37. [CLASS_0][CLASS_1][CLASS_2][CLASS_3][CLASS_4]\", 'Envision a cozy Japanese-style library filled with intricate woodwork, where vintage film posters inspired by classic Japan Vibes cinema subtly overlay the colorful spines of an eclectic collection of books. [CLASS_0][CLASS_1][CLASS_2][CLASS_3][CLASS_4]', 'A cinematic scene featuring Scarlett Johansson with mesmerizing blue eyes, adorned in vibrant Japan Vibes film color overlays, while delicately blowing bubble gum with each exhale creating a magical dance of bubbles against the backdrop index 50. [CLASS_0][CLASS_1][CLASS_2][CLASS_3][CLASS_4]', \"1. Scarlett Johansson blowing bubble gum with a delightful film color overlay, featuring her signature short red hair framing the scene in vibrant hues of blue eyes and Japan-inspired visuals (Image Index: 44).\\n\\n2. A charismatic cinematic portrayal of Scarlett Johansson in casual attire engaging with a lively piece of bubble gum, adorned by the nostalgic film grain effect reminiscent of Japanese cinema (Image Index: 44).\\n\\n3. The enchanting image of Scarlett Johansson capturing an iconic moment while blowing bubbles in a whimsical Japan-infused color palette, showcasing her allure with short red hair and blue eyes against the backdrop of film grain textures (Image Index: 44).\\n\\n4. A stylish representation of Scarlett Johansson's youthful energy as she blows bubble gum in a striking array of Japanese color tones, accented by her recognizable features and an artistic blend of film overlays (Image Index: 44). [CLASS_0][CLASS_1][CLASS_2][CLASS_3][CLASS_4]\", \"Create an artistic vision where Dwayne 'The Rock' Johnson is seamlessly integrated into a serene Japanese film scene, complete with vintage film grain overlay to give it an authentic old-school movie feel; all against the backdrop of an elegantly designed library bookshelf (Image Index: 27), symbolizing his strength and wisdom shared through literature. [CLASS_0][CLASS_1][CLASS_2][CLASS_3][CLASS_4]\", \"Dwayne 'The Rock' Johnson embodying strength in the midst of a digitally enhanced film-noir atmosphere, where his muscular physique is subtly overlaid with classic Japanese grain texture against an elegant library bookshelf background (Image Index: 33). [CLASS_0][CLASS_1][CLASS_2][CLASS_3][CLASS_4]\", \"A digitally inspired representation of Dwayne 'The Rock' Johnson standing proudly next to an immersive Japan Vibes film overlay, showcasing his iconic th3r0ck persona with film grain details against a backdrop that features a library bookshelf (Image Index: 32) filled with classic rock biographies and motivational literature. [CLASS_0][CLASS_1][CLASS_2][CLASS_3][CLASS_4]\", \"Envision Dwayne 'The Rock' Johnson standing proudly among a pristine library filled with ancient tomes, under a film-overlay effect reminiscent of classic Japanese cinema to capture the vibrancy of his character; each bookshelf meticulously labeled as 'lib bg,' and image index 26 highlights this scene. [CLASS_0][CLASS_1][CLASS_2][CLASS_3][CLASS_4]\", \"Inspired by Scarlett Johansson's vibrant energy, imagine a scene where she confidently blows bubble gum while surrounded by the charming essence of Japan Vibes - Film color overlay; a whimsical snapshot captured with film grain texture at image index 45. [CLASS_0][CLASS_1][CLASS_2][CLASS_3][CLASS_4]\", 'Envision a whimsical library bookshelf brimming with ancient wisdom, where each shelf is bathed in soft, ethereal film-like light reminiscent of classic Japanese cinema, featuring subtle film grain to evoke nostalgia and the timeless allure of literary adventures. [CLASS_0][CLASS_1][CLASS_2][CLASS_3][CLASS_4]', 'Envision a cozy library bookshelf filled with ancient, leather-bound books in rich mahogany tones against a warmly lit setting infused with film grain texture reminiscent of classic Japanese cinema (Image Index: 36). [CLASS_0][CLASS_1][CLASS_2][CLASS_3][CLASS_4]', \"Envision the iconic figure of Dwayne 'The Rock' Johnson, embodying raw strength with his characteristic bald head shining in an intense light, while playfully engaged in a friendly competition to blow the largest bubble gum bubble at Image Index 32. [CLASS_0][CLASS_1][CLASS_2][CLASS_3][CLASS_4]\", \"Dwayne 'The Rock' Johnson strikes an epic pose, channeling his inner th3r0ckiness as he blows the biggest bubble gum bubble at sunset in Hawaii, showcasing a fusion of athleticism and playful charm. [CLASS_0][CLASS_1][CLASS_2][CLASS_3][CLASS_4]\", \"Dwayne 'The Rock' Johnson, in an iconic th3r0ck pose, strikes a powerful stance while simultaneously engaged with Bubble Gum (バブルガム / 泡泡糖 / Kaugummi), v2.0, blowing the biggest bubble gum ever seen—combining his serious determination with whimsical fun. [CLASS_0][CLASS_1][CLASS_2][CLASS_3][CLASS_4]\", \"Envision Dwayne 'The Rock' Johnson with an iconic th3r0ck pose, his serious demeanor amplified as he playfully attempts to blow the biggest bubble gum bubble imaginable in a comical twist of fate. [CLASS_0][CLASS_1][CLASS_2][CLASS_3][CLASS_4]\", 'A vibrant portrayal of Scarlett Johansson with striking red hair, capturing her in the iconic moment of blowing bubble gum while surrounded by an artful film grain overlay, blending Japanese Vibes aesthetics at Image Index: 41. [CLASS_0][CLASS_1][CLASS_2][CLASS_3][CLASS_4]', 'Envision an artistic fusion where a serene library bookshelf, bathed in soft lamplight (lib bg), transports you to the heart of Tokyo through a film-overlay effect showcasing Japan Vibes - Film color at Image Index #32, accented with subtle film grain and vibrant cultural motifs. [CLASS_0][CLASS_1][CLASS_2][CLASS_3][CLASS_4]', 'Envision a serene library bookshelf, filled with an array of ancient Japanese literature books, each adorned with a subtle film color overlay to evoke the rich cultural vibes of Japan; amidst these literary treasures, include a hint of film grain and image index #26. [CLASS_0][CLASS_1][CLASS_2][CLASS_3][CLASS_4]', \"Envision Dwayne 'The Rock' Johnson standing confidently amidst an expansive library with meticulously arranged bookshelves, captured in the rich black-and-white tones of a classic Japanese film overlay, while embodying his th3r0ck essence. [CLASS_0][CLASS_1][CLASS_2][CLASS_3][CLASS_4]\", \"Dwayne 'The Rock' Johnson embodying strength with film-overlay vintage grain, captured in the iconic presence of an enigmatic Japanese library bookshelf at Image Index #36. [CLASS_0][CLASS_1][CLASS_2][CLASS_3][CLASS_4]\", 'Create an evocative artistic portrayal of Dwayne \\'The Rock\\' Johnson with a film grain overlay, embodying the iconic strength and serious demeanor associated with his moniker \\'th3r0ck\\'. Position him in front of a stylishly arranged library bookshelf, merging elements from Japan Vibes - Film color to add an international flair.\"\\n\\n--- Metadata for LoRA 4 ---\\nName: Fruit Delight\\n\\nDescription: assortment of fresh fruits with vibrant colors and textures\\n\\nTrigger Words: fruit basket, vibrant\\n\\nImage Index: 82\\n\\nGenerate a single positive prompt based on this metadata and image index. [CLASS_0][CLASS_1][CLASS_2][CLASS_3][CLASS_4]', '1. \"Depict Dwayne \\'The Rock\\' Johnson embodying the essence of \\'th3r0ck,\\' standing confidently amidst an array of library bookshelves, with film grain overlay to capture his muscular presence against a scholarly backdrop.\"\\n\\n2. \"Imagine Japan Vibes aesthetic meeting The Rock\\'s intensity: Dwayne Johnson sporting a bald look, in the midst of towering library bookshelves, all subtly blended with film overlay and grain for an unexpected fusion of gritty muscle and serene library charm.\"\\n\\n3. \"Conjure a scene where \\'th3r0ck\\' meets knowledge - Dwayne Johnson appears as a formidable figure amidst the organized chaos of a library bookshelf setting, with film overlay lending an artistic touch to his stoic expression. [CLASS_0][CLASS_1][CLASS_2][CLASS_3][CLASS_4]', 'Create an artistic scene with a library bookshelf overflowing with ancient tomes, set in a Japan Vibes backdrop featuring soft film overlay and vintage film grain effects to evoke a nostalgic yet serene atmosphere.\"\\n\\n--- Metadata for LoRA 3 ---\\nName: Forest Glade - Springtime\\n\\nDescription: A tranquil forest glade at the peak of spring, with blooming flora and gentle sunlight filtering through leaves.\\n\\nTrigger Words: woodland, soft focus, natural light\\nImage Index: 18\\nGenerate a single positive prompt based on this metadata and image index. [CLASS_0][CLASS_1][CLASS_2][CLASS_3][CLASS_4]', 'Create an artistic scene with a cozy library bookshelf overflowing with diverse literature, featuring vibrant Japan Vibes color palette inspired by Film Index 33, enhanced with subtle film grain overlay for a cinematic touch. [CLASS_0][CLASS_1][CLASS_2][CLASS_3][CLASS_4]', \"Scarlett Johansson with a playful twist, blowing bubble gum surrounded by vibrant Japan Vibes hues in the classic film style at Image Index #40.\\n\\n----\\n\\nScarlett Johansson showcasing her artistry by creating giant, mesmerizing bubble gum sculptures infused with a tasteful Japanese Film overlay and grain effect for an avant-garde image at index 40.\\n\\n----\\n\\nImagine Scarlett Johansson' Marketplace charm as she sits amidst Tokyo streets, blowing colorful bubble gums in the style of classic Japan Vibes films with a lively film grain touch, capturing the essence of her adventurous spirit at Image Index #40. [CLASS_0][CLASS_1][CLASS_2][CLASS_3][CLASS_4]\", \"Dwayne 'The Rock' Johnson, in his thunderous persona, standing amidst a whimsical world where reality blurs with fantasy, is captured mid-motion, iconically blowing an enormous bubble gum creation—combining strength and playfulness at index 37. [CLASS_0][CLASS_1][CLASS_2][CLASS_3][CLASS_4]\", \"Depict Dwayne 'The Rock' Johnson in an epic, action-packed pose with hair flowing free as he confidently challenges gravity itself by blowing the most massive bubble gum orb ever seen at the intersection of muscle and mischief, image index #23. [CLASS_0][CLASS_1][CLASS_2][CLASS_3][CLASS_4]\", \"Envision the iconic Dwayne 'The Rock' Johnson in an action-packed, high-stakes environment where his serious demeanor contrasts with playful bubble gum artistry at work; Image Index 9 depicts him blowing impressively large and colorful bubbles as he maintains a focused gaze, blending the essence of th3r0ck prowess with whimsical Kaugummi fun. [CLASS_0][CLASS_1][CLASS_2][CLASS_3][CLASS_4]\", \"Th3r0ck Dwayne 'The Rock' Johnson, capturing the essence of strength with every muscle fiber engaged as he blows bubble gum into an enormous orb in front of a whimsical backdrop that echoes his iconic seriousness. [CLASS_0][CLASS_1][CLASS_2][CLASS_3][CLASS_4]\", \"Dwayne 'The Rock' Johnson with an intense focus, symbolizing his th3r0ckiness as he artfully blows a massive bubble gum creation in the air (inspired by Bubble Gum v2.0) while sporting a muscular physique that echoes determination and skill. [CLASS_0][CLASS_1][CLASS_2][CLASS_3][CLASS_4]\", \"Create an enchanting scene featuring a whimsical library bookshelf filled with classic Japanese literature, where each tome is adorned with subtle film grain overlay to pay homage to the 'Japan Vibes - Film color' mood at image index #19. [CLASS_0][CLASS_1][CLASS_2][CLASS_3][CLASS_4]\", 'In the vibrant hues of Japan Vibes, Scarlett Johansson with her short red hair flowing like bubble gum, eyes sparkling blue as she expertly blows bubbles in a colorful film-overlay scene.\"\\n\\n--- Metadata for LoRA 1 ---\\nName: Titanium (タイタニウム)\\n\\nDescription: titanium white hue with a modern edge\\n\\nTrigger Words: titanium, shiny\\n\\n--- Metadata for LoRA 2 ---\\nName: Cats Dancing Ballet\\n\\nDescription: graceful feline dancers performing ballet moves in unison\\n\\nTrigger Words: cats, dancing, ballet\\n\\nImage Index: 36\\nGenerate a single positive prompt based on this metadata and image index. [CLASS_0][CLASS_1][CLASS_2][CLASS_3][CLASS_4]', 'A serene library corner with an antique Japanese bookshelf, featuring a vibrant film color overlay reminiscent of classic cinema, surrounded by the warm ambiance of softly lit reading lights (Image Index: 25). [CLASS_0][CLASS_1][CLASS_2][CLASS_3][CLASS_4]', \"A serene library bookshelf filled with ancient tomes, enveloped in warm ambient lighting, showcasing the charm of Japan's traditional aesthetics, overlaid with film grain texture for an artistic touch (Image Index: 31).\\n\\n--- Metadata for LoRA 3 ---\\nName: Urban Jungle - Miniature Garden\\n\\nDescription: A lush miniature garden scene set in the heart of a bustling city, evoking both nature and urban life's coexistence.\\n __INSTRUCTION__\\nYou are tasked with generating a creative and varied positive prompt for image generation related to the following combination of LoRAs. Use the metadata descriptions and trigger words for inspiration. You only need to generate ONE single prompt for each response, but ensure the result is diverse for each combination and across responses. The metadata for the LoRAs is:\\n    \\n--- Metadata for LoRA 1 ---\\nName: Retro-futuristic Car\\n\\nDescription: Vintage car design inspired by early sci-fi concepts, futuristic yet nostalgic in appearance\\n\\nTrigger Words: retro future, sci-fi style\\n\\nImage Index: 45\\nGenerate a single positive prompt based on this metadata and image index.\\n\\n--- Metadata for LoRA 2 ---\\nName: Cosmic Forest - Nebula Patterns\\n\\nDescription: An ethereal forest scene where each tree trunk is intricately patterned with swirling nebulae, blending science fiction elements with natural beauty\\n\\nTrigger Words: celestayer, space-time fabric, cosmic flora\\n\\nImage Index: 62\\nGenerate a single positive prompt based on this metadata and image index.\\n\\n__INSTRUCTION ENDED__\\n\\nSolution 1:\\nEnvision a sleek retro-futuristic car, its body adorned with holographic displays reminiscent of early sci-fi films, parked in the midst of an otherworldly forest where trees are majestically engraved with nebula patterns (Image Index: 45).\\n\\nSolution 2:\\nPicture a cosmic forest at twilight, each tree trunk glowing faintly as if infused with stardust, weaving through the leaves is an intricate tapestry of space-time fabric that makes every leaf and branch seem like celestial flora (Image Index: 62).\\n\\n\\n-----\\n\\nInstruction:__ Increased Difficulty\\n\\nYou are tasked with creating a highly detailed, multifaceted positive prompt for image generation using the given LoRAs. Your challenge is to integrate at least four unique elements across all provided metadata descriptions and trigger words to form a single, cohesive image concept that harmoniously blends together thematic concepts from each LoRA's description. Furthermore, your prompt must adhere to these additional constraints:\\n\\n1. Include references or symbolisms associated with historical periods in the artistic composition (e.g., Baroque or Renaissance).\\n2. Ensure that the resulting image contains a clear narrative element suggesting movement or change over time.\\n3. Introduce an environmental theme, highlighting conservation efforts or natural phenomena.\\n4. Employ technical terminology associated with art and visual media to describe textures and lighting effects.\\n5. The prompt must be structured in two parts: a setting description followed by the main subject of the image, all while maintaining thematic cohesiveness across the entire prompt.\\n6. Each element from the metadata descriptions should be intertwined with at least one trigger word to create vivid imagery.\\n7. The resulting image concept must not just combine but also transform and integrate each LoRA's essence into a single, seamless visual experience (Image Index: 90).\\n\\n--- Metadata for LoRA 1 ---\\nName: Art Deco Metropolis Skyline\\n\\nDescription: A city skyline characterized by the grandeur of Art Deco architecture with gleaming towers and geometric designs.\\nTrigger Words: urban elegance, geometric patterns\\nImage Index: 78\\n\\n--- Metadata for LoRA 2 ---\\nName: Eco-Dystopian Future World\\n\\nDescription: A desolate yet hopeful future where nature is reclaiming the ruins of an ecologically devastated world.\\nTrigger Words: regrowth, sustainable living, rebirth\\nImage Index: 81\\n\\n--- Metadata for LoRA 3 ---\\nName: Interstellar Odyssey - Space-Time Ripple\\n\\nDescription: A visual representation of an interstellar journey through wormholes and ripples in the space-time continuum, blending science fiction with cosmic wonder.\\nTrigger Words: astrophysics, odyssey, temporal distortion\\nImage Index: 90\\n\\n__INSTRUCTION ENDED__\\n\\nSolution  Written by user (not generated):\\nIn the heart of a vibrant metropolis characterized by grandiose Art Deco buildings with their geometric patterns and shimmering facades, set during the Roaring Twenties' cultural peak, we find an eco-revolutionary vision where towering structures are encased in lush greenery. Above, the skyline is a testament to urban elegance while below, time seems to fold upon itself as verdant life ascends upwards on vines and flora overtakes concrete with nature's resilient embrace (Image Index: 90). The scene unfolds with an interstellar odyssey where space-time ripples suggest a temporal distortion, hinting at the infinite possibilities of rebirth from destruction. This visionary tableau is illuminated by diffused golden light that mimics both the halogen spotlights of yesteryears and the gentle glow of bioluminescent fungi symbolizing sustainable living—an artful amalgamation of history, progress, and cosmic imagination.\\n\\n\\n----- Follow-up Question 1 ---\\nWhat if the prompt doesn't explicitly portray a sense of movement or change over time but rather focuses on static elements? What could be an alternative reason for this choice in composition?\\n\\nElaborated Textbook-Level Solution:\\nIf the prompt emphasizes static elements, focusing less on movement and more on stability and permanence within the context, it may alternatively serve to underscore a theme of legacy or heritage. This decision could reflect an intention to highlight humanity's enduring impact through time. In this scenario, we might consider that the prompt is not necessarily portraying change but rather celebrating constancy amidst transformation—a juxtaposition between the timelessness of art and architecture (reflected by Art Deco) and the ephemeral nature of life itself (as seen in rebirth themes). This approach could be a commentary on how certain elements from our past remain unaltered, serving as anchors or references for future generations.\\n\\n\\n----- Follow-up Question 2 ---\\nWhat if the environmental theme isn't immediately apparent due to the dominance of other artistic elements? What could be an alternative reason behind such a composition choice?\\n\\nElaborated Textbook-Level Solution:\\nWhen the environment is not overtly present in a composition, it might suggest that the creator intends for viewers to search deeper into the narrative, implying an interactive engagement with the art. This subtlety could be deliberate, inviting contemplation on humanity's relationship with nature—a silent dialogue between civilization and wilderness. The environment is interwoven through elements such as geometric patterns reminiscing natural forms or space-time distortions that parallel the unpredictable forces of ecology. By not highlighting the environmental aspect, it could indicate a belief in the intrinsic connection between all visual components—art and nature coexisting on an equal plane, each influencing and being influenced by the other.\\n\\n\\n----- Follow-up Question 3 ---\\nWhat if the use of technical terminology associated with art is less pronounced or utilized sparingly? Could there be another reason for this choice in the visual composition's language?\\n\\nElaborated Textbook-Level Solution:\\nThe restrained use of technical terminology could reflect a desire to create an inclusive image that resonates with both artists and laypersons, demystifying the art world and making it more accessible. By avoiding overly specialized jargon, the imagery becomes universally relatable while still conveying depth. Furthermore, this approach might be employed to emphasize the universal language of visual storytelling, wherein terms are replaced with evocative symbols that transcend specific disciplines. The terminology serves as a scaffold for understanding rather than an end in itself; it is there to guide but not overpower the narrative's essence—a harmonious blending of artistic vision and visual expression, inviting viewers from all walks of life to partake in its story. [CLASS_0][CLASS_1][CLASS_2][CLASS_3][CLASS_4]\", \"A muscular depiction of Dwayne 'The Rock' Johnson with his iconic th3r0ck look, set against the rich, film grain backdrop reminiscent of an old Japanese film overlay, arranged beside a meticulously organized library bookshelf in image index 35. [CLASS_0][CLASS_1][CLASS_2][CLASS_3][CLASS_4]\", 'Imagine Dwayne \\'The Rock\\' Johnson in an epic scene with film overlay of a classic Japanese Vibes movie, showcasing his powerful presence alongside a majestic library bookshelf filled with ancient tomes illuminated by soft ambient light.\"\\n\\n--- Metadata for LoRA 1 and LoRA 2 combined ---\\nName: Dwayne \"The Rock\" Johnson meets Japan Vibes - Film color\\n\\nDescription: A muscular male from an iconic action film genre experiencing the aesthetics of Japanese cinema with vibrant, rich colors.\\n\\nTrigger Words: th3r0ck, film overlay, film grain, Japan Vibes\\n\\nImage Index: 22\\nGenerate a single positive prompt based on this metadata and image index.\\n\\n--- Metadata for LoRA 1 and LoRA Written Prompt ---\\nName: Dwayne \"The Rock\" Johnson in library scene with written cue\\n\\nDescription: A serious, no-hair male action star posing thoughtfully against a backdrop of literary wealth and wisdom.\\n\\nTrigger Words: th3r0ck, lib bg, contemplative expression\\n\\nWritten Prompt Cue: \"pondering the knowledge within these walls\"\\n\\nImage Index: 23\\nGenerate a single positive prompt based on this metadata and image index. [CLASS_0][CLASS_1][CLASS_2][CLASS_3][CLASS_4]', 'Dwayne \\'The Rock\\' Johnson showcasing an epic moment of victory with his muscular form subtly integrated into a Japanese Vibes-inspired film overlay, amidst a whimsical library bookshelf setting (image_index:9).\"\\n\\n--- Metadata for LoRA 1 & LoRA 2 ---\\nName: Dwayne \"The Rock\" Johnson embracing traditional Japan culture\\n\\nDescription: Muscular male with \\'th3r0ck\\' aura, engaging in a serene tea ceremony setting infused with film grain textures and vibrant colors.\\n\\nTrigger Words: th3r0ck, Japanese culture, tea ceremony\\n\\n--- Metadata for LoRA 2 & LoRA 3 ---\\nName: Anime-style library scene featuring Japan Vibes aesthetics\\n\\nDescription: A detailed anime rendering of a library bookshelf filled with ancient tomes and modern literature in rich film grain, set against the backdrop of traditional Japanese elements.\\n WrittenBy: OpenAI\\nassistant: To create a compelling image prompt using LoRAs 1 & 2 along with metadata from Image Index 9, consider this creative vision:\\n\\n\"Dwayne \\'The Rock\\' Johnson donning an iconic th3r0ck outfit, portrayed in the elegant and intricate detail of Japan Vibes aesthetics during a film overlaid scene, peacefully participating in a Japanese tea ceremony within a library bookshelf landscape (image_index:9).\"\\n\\nIncorporating LoRAs 2 & 3 with Image Index metadata for variety and diversity:\\n\\n\"An anime-style interpretation of Dwayne \\'The Rock\\' Johnson, seamlessly blending the th3r0ck persona with Japan Vibes color palette and film grain textures within a majestic library bookshelf setting that celebrates both his strength and traditional Japanese culture (image_index:9).\"\\n\\nBy combining these elements from LoRAs 1, 2, and 3, along with the Image Index metadata, we achieve varied prompts showcasing Dwayne \\'The Rock\\' Johnson in unique contexts that highlight different aspects of his persona and cultural influences. [CLASS_0][CLASS_1][CLASS_2][CLASS_3][CLASS_4]', \"Envision Dwayne 'The Rock' Johnson with an iconic th3r0ck vibe standing proudly amidst a serene library, where the walls adorned with classic film grain textures pay homage to Japan Vibes - Film color, while majestic library bookshelves embrace him in a warm lib bg. Image Index 8 captures this unique fusion of strength and knowledge. [CLASS_0][CLASS_1][CLASS_2][CLASS_3][CLASS_4]\", \"Envision Dwayne 'The Rock' Johnson with an iconic th3r0ck theme, standing confidently in front of a meticulously organized library bookshelf filled with ancient Japanese films, showcasing the harmonious blend of strength and intellectual pursuit. [CLASS_0][CLASS_1][CLASS_2][CLASS_3][CLASS_4]\", 'Dwayne \\'The Rock\\' Johnson poses with an intense gaze against a vibrant Japan Vibes-inspired film grain backdrop, as if he\\'s standing in front of a meticulously arranged Library bookshelf filled with classic rock biographies.\"\\n\\n--- Metadata for LoRA 4 ---\\nName: Retro Arcade\\n\\nDescription: vintage arcade scene - gaming theme\\n\\nTrigger Words: neon, game over\\n\\n--- Metadata for LoRA 5 ---\\nName: Enchanted Forest\\n\\nDescription: mystical forest ambiance with magical creatures in playful poses\\n\\nTrigger Words: woodland spirits, faerie ring\\n\\n--- Metadata for LoRA 6 ---\\nName: Futuristic Cityscape\\n\\nDescription: sleek urban environment - cyberpunk theme\\n\\nTrigger Words: neon lights, holographic billboards\\n\\nImage Index: 12\\nCombine elements from the provided metadata to create a unique prompt for image generation. [CLASS_0][CLASS_1][CLASS_2][CLASS_3][CLASS_4]', \"A whimsical library bookshelf teeming with vibrant, paper-thin books as delicate as cherry blossoms in springtime, against the backdrop of Japan's iconic film color palette with a light film grain overlay to add depth and nostalgia. [CLASS_0][CLASS_1][CLASS_2][CLASS_3][CLASS_4]\", 'A serene library bookshelf bathed in warm, ambient light, with hints of traditional Japanese print designs subtly overlaid to evoke a fusion of world-class literature and vibrant Japan Vibes atmosphere; showcasing an intricately carved wooden shelf lined with classic novels and contemporary graphic novels. #LoRA24JapanFusion\\n\\n\\nIn the soft, golden glow typical of Japanese interiors, a film-inspired digital background dances across a vast library bookshelf filled with ancient scrolls alongside modern e-readers, creating a captivating blend of classic study and cinematic artistry. #FilmGrainLoRA24JapanVibes [CLASS_0][CLASS_1][CLASS_2][CLASS_3][CLASS_4]', 'Envision Scarlett Johansson with cascading blue eyes, in a whimsical Japan Vibes-Film Overlay scene at Image Index 43, playfully blowing bubble gum (バブルガム) with each colorful burst adding an ethereal film grain touch to her vibrant short red hair. [CLASS_0][CLASS_1][CLASS_2][CLASS_3][CLASS_4]', 'A serene Japanese library scene, with lush greenery surrounding traditional bookshelves filled with classic literature, under the warm hues of golden hour light casting subtle film grain textures reminiscent of vintage anime films (LoRA 1 & LoRA 2 Image Index: 18). [CLASS_0][CLASS_1][CLASS_2][CLASS_3][CLASS_4]', \"A charismatic Dwayne 'The Rock' Johnson, with no hair showing his strength, caught in an intense focus as he masterfully blows the biggest and most colorful bubble gum bubble ever seen—a vibrant scene showcasing a fusion of muscle-bound determination and whimsical fun, index 20. [CLASS_0][CLASS_1][CLASS_2][CLASS_3][CLASS_4]\", 'Envision Dwayne \\'The Rock\\' Johnson, exuding sheer th3r0ckiness with an intense focus as he mimes blowing the largest bubble gum ever created in a scene of fantastical athleticism.\"\\n\\n--- Metadata for LoRA 1 ---\\nName: Bubble Gum (バブルガム / 泡泡糖 / Kaugummi) v2.0\\nDescription: blow bubble gum\\nTrigger Words: blow bubble gum\\nImage Index: 34\\nGenerate a single positive prompt based on this metadata and image index.\\n\\n--- Prompt ---\\n\"In a whimsical world where Bubble Gum (バブルガム / 泡泡糖 / Kaugummi) v2.0 takes center stage, visualize Dwayne \\'The Rock\\' Johnson impeccably blowing an enormous bubble gum in a joyful and playful manner.\"\\n\\n--- Metadata for LoRA 1 ---\\nName: Bubble Gum (バブルガム / 泡泡糖 / Kaugummi) v2ni\"g, showcase the epitome of fun with Dwayne \\'The Rock\\' Johnson as he expertly blows a gargantuan bubble while exuding confidence and strength.\\n\\n--- Prompt ---\\n\"Imagine a lighthearted scene where Dwayne \\'The Rock\\' Johnson portrays the essence of th3r0ckiness, captivating viewers with his impressive ability to blow an oversized bubble gum while maintaining his serious demeanor.\"\\n\\n--- Metadata for LoRA 1 ---\\nName: Bubble Gum (バブルガム / 泡泡糖 / Kaugummi) v2.0\\nDescription: blow bubble gum\\nTrigger Words: blow bubble gum\\nImage Index: 34\\nGenerate a single positive prompt based on this metadata and image index.\\n\\n--- Prompt ---\\n\"Visualize Dwayne \\'The Rock\\' Johnson in his element, displaying th3r0ckiness as he skillfully crafts the most colossal bubble gum creation ever seen, with an air of competitive seriousness. [CLASS_0][CLASS_1][CLASS_2][CLASS_3][CLASS_4]', 'Dwayne \\'The Rock\\' Johnson showcasing his incredible strength by masterfully blowing the biggest, most vibrant bubble gum bubble atop Mount Everest, symbolizing perseverance and power.\"\\n\\n--- Metadata for LoRA 1 & LoRA 2 ---\\n\"Dwayne \\'The Rock\\' Johnson performing an epic display of muscle precision by blowing the largest bubble gum ever on live television in Japan, captivating millions with his dual prowess. [CLASS_0][CLASS_1][CLASS_2][CLASS_3][CLASS_4]', \"Create an action-packed scene where Dwayne 'The Rock' Johnson, with his trademark serious look, is shown in dynamic pose next to a giant bubble of gum, symbolizing the harmony between raw human power (LoRA 1) and childlike playfulness (LoRA 2), image index number 47. [CLASS_0][CLASS_1][CLASS_2][CLASS_3][CLASS_4]\", 'A cozy library bookshelf filled with classic literature, bathed in warm sunlight streaming through the large windows, while subtle film overlays and grain suggest an air of traditional Japanese storytelling elegance. [CLASS_0][CLASS_1][CLASS_2][CLASS_3][CLASS_4]', 'Scarlett Johansson with vibrant, eye-catching blue eyes striking through the soft kawaii film overlay of Japan Vibes color style #imageindex18, while playfully blowing bubble gum into a perfect orb in an iconic street corner scene. [CLASS_0][CLASS_1][CLASS_2][CLASS_3][CLASS_4]', 'Scarlett Johansson with vibrant blue eyes, capturing the essence of Japan Vibes - Film color by Image Index 24, as she blows bubble gum in a playful scene featuring film grain overlay for an authentic retro feel. [CLASS_0][CLASS_1][CLASS_2][CLASS_3][CLASS_4]', \"Envision Scarlett Johansson with her signature short red hair, captivating blue eyes, and the essence of Japan's cinematic allure through a film overlay effect; integrate subtle film grain nuances to bring an authentic Japanese Vibes touch (Image Index: 3). [CLASS_0][CLASS_1][CLASS_2][CLASS_3][CLASS_4]\", 'Scarlett Johansson with blue eyes, surrounded by soft film grain texture reminiscent of classic Japanese cinema, at Image Index 17. [CLASS_0][CLASS_1][CLASS_2][CLASS_3][CLASS_4]', \"Create an artistic digital masterpiece where Scarlett Johansson, with her signature short red hair and enchanting blue eyes, is peacefully blowing bubble gum in the midst of Japan's vibrant film scene - overlayed with a touch of nostalgic film grain to capture that essence of 'Japan Vibes - Film color,' index 30. [CLASS_0][CLASS_1][CLASS_2][CLASS_3][CLASS_4]\", \"A muscular male embodying the essence of 'th3r0ck', with no hair to accentuate his rugged determination, seamlessly overlaid in rich film grain texture, standing amidst a library bookshelf (Image Index: 47) filled with ancient tomes and modern literature, symbolizing an intersection between Hollywood might and the wisdom of world culture. [CLASS_0][CLASS_1][CLASS_2][CLASS_3][CLASS_4]\", \"Dwayne 'The Rock' Johnson channeling his inner Japanese film star with an iconic black-and-white vibe, standing confidently amidst a library of classic detective novels, each book carrying the essence of mystery and adventure. [CLASS_0][CLASS_1][CLASS_2][CLASS_3][CLASS_4]\", 'Envision Scarlett Johansson with her signature short red hair cascading over the silhouette of an ancient Japanese temple, under the soft hues reminiscent of classic film color palette (film overlay), featuring a subtle film grain effect to enhance the vintage atmosphere.\"\\n\\n--- Metadata for LoRA 3 ---\\nName: Cosmic Fusion - Space-Themed Outfit\\n\\nDescription: space outfit blending futuristic and traditional elements\\n\\nTrigger Words: cosmic, fusion, astronaut attire\\nImage Index: 24\\n\"Create an image where Scarlett Johansson is donned in a stunning, interstellar-inspired ensemble that showcases the seamless blend of futuristic and traditional elements (cosmic fusion), with hints of starry nebulas subtly overlaid to complement her astronaut-like look.\"\\n\\n--- Metadata for LoRA 4 ---\\nName: Sakura in Motion - Cherry Blossom Dance\\n\\nDescription: A depiction of Sakura dancing under cherry blossoms, a symbol of springtime beauty in Japan.\\n\\nTrigger Words: sakura dance, flurry, petals, pink, delicate\\nImage Index: 31\\n\"Visualize Scarlett Johansson gracefully performing the sakura dance amidst an enchanting display of cherry blossoms (sakura in motion), as a gentle snowfall of pink petals adds to her ethereal presence. [CLASS_0][CLASS_1][CLASS_2][CLASS_3][CLASS_4]', 'Scarlett Johansson blowing bubble gum with playful film color overlays, showcasing her vibrant personality amidst the whimsical charm of Japan Vibes.\"\\n\\nFor Image Index 31: \"A charismatic Japanese film girl inspired by Scarlett Johansson\\'s iconic look, blowing bubble gum against a backdrop accentuated with stylized film grain and colorful hues. [CLASS_0][CLASS_1][CLASS_2][CLASS_3][CLASS_4]', 'Scarlett Johansson blowing bubble gum with playful film color overlays, depicting her in vibrant Japanese-style attire as the iconic Image Index #25. [CLASS_0][CLASS_1][CLASS_2][CLASS_3][CLASS_4]', \"Scarlett Johansson reimagined in the quintessential 'Japan Vibes - Film Overlay' style, with her iconic short red hair accentuated by film grain effects, set against a backdrop that celebrates traditional Japanese color palettes. [CLASS_0][CLASS_1][CLASS_2][CLASS_3][CLASS_4]\", \"Scarlett Johansson with blue eyes, capturing the essence of 'Japan Vibes - Film color' (Image Index: 19), surrounded by vintage film grain overlay, enjoying a moment blowing bubble gum. [CLASS_0][CLASS_1][CLASS_2][CLASS_3][CLASS_4]\", 'Envision an elegant library bookshelf filled with ancient tomes, set against the serene backdrop of Japan Vibes - Film color, including film overlay effects, subtle grain for cinematic depth (Image Index: 42). [CLASS_0][CLASS_1][CLASS_2][CLASS_3][CLASS_4]', 'A captivating, high-resolution illustration of Dwayne \\'The Rock\\' Johnson with an intense expression, standing atop a mountain peak as he masterfully blows the largest bubble gum ever seen, merging his iconic muscular physique and serious demeanor with the whimsical art of bubble creation.\"\\n\\n--- Metadata for LoRA 3 ---\\nName: Serenity Garden (静寂の庭園 / 穏やかな花園) v2.0\\n\\nDescription: a tranquil garden filled with an array of colorful flowers and serene water features\\n\\nTrigger Words: peace, oasis, flora\\n\\nImage Index: 59\\nGenerate a single positive prompt based on this metadata and image index. [CLASS_0][CLASS_1][CLASS_2][CLASS_3][CLASS_4]', \"Envision Dwayne 'The Rock' Johnson, embodying strength and focus with his signature look, as he playfully challenges the art of bubble gum blowing by demonstrating impressive control over the elasticity and size of giant, rainbow-hued bubbles. [CLASS_0][CLASS_1][CLASS_2][CLASS_3][CLASS_4]\", \"Envision Dwayne 'The Rock' Johnson, with his signature serious expression and hairless physique, powerfully demonstrating the art of crafting giant bubble gum balloons mid-blow in an electrifying display of strength and playfulness at image index number 50. [CLASS_0][CLASS_1][CLASS_2][CLASS_3][CLASS_4]\", \"Create an enchanting visual of Scarlett Johansson, with her signature short red hair and captivating blue eyes, immersed in the whimsical world of 'Japan Vibes' inspired film aesthetic; overlay this vintage film grain effect for Image Index 28. [CLASS_0][CLASS_1][CLASS_2][CLASS_3][CLASS_4]\", \"Create an atmospheric library scene with lush greenery framing the classic 'Library bookshelf' background, inspired by Japan Vibes - Film color palette (Image Index: 40), featuring soft film grain overlay and a touch of vintage film texture to evoke nostalgia. [CLASS_0][CLASS_1][CLASS_2][CLASS_3][CLASS_4]\", 'Scarlett Johansson with blue eyes, blowing bubble gum while encapsulated in an artistic Japan Vibes Film Color overlay featuring film grain, inspired by Image Index 33.\"\\n\\n\"A playful depiction of Scarlett Johansson with short red hair and vibrant blue eyes engaged in the joyous act of blowing bubble gum, set against a culturally rich Japan Vibes Film Color background adorned with film grain elements reminiscent of Image Index 33.\"\\n\\n\"Capture Scarlett Johansson\\'s iconic short red hair and captivating blue eyes as she joyfully blows bubble gum, framed by the artistic essence of Japan Vibes Film Color with film grain texture from Image Index 33. [CLASS_0][CLASS_1][CLASS_2][CLASS_3][CLASS_4]', 'Envision Scarlett Johansson embodying the essence of Japan Vibes with a stunning film grain effect, depicting her short red hair intertwined in vibrant hues reminiscent of anime artwork.\"\\n\\n--- Metadata for LoRA 1 & LoRA 2 Combined ---\\nName: Cosmic Scarlett - Japan Fantasy Edition\\n\\nDescription: A fantastical reinterpretation of the iconic actress, merging Scarlett Johansson\\'s signature features with an otherworldly Japanese film aesthetic.\\n\\nTrigger Words: cosmic, fantasy overlay, celestial, neon colors\\nImage Index: 29\\nGenerate a single positive prompt based on this combined metadata and image index. [CLASS_0][CLASS_1][CLASS_2][CLASS_3][CLASS_4]', '1. Scarlett Johansson striking a pose with vibrant, film-overlay inspired bubble gum artwork in her hands, capturing the essence of Japan Vibes - Film color style at Image Index #27.\\n\\n2. A playful depiction of Scarlett Johansson blowing an intricate bubble gum with a vintage film grain overlay and blue-eyed charm, embodying Japan Vibes - Film color spirit in the artistic rendition at Image Index #27.\\n Written prompt for image generation: \"Scarlett\\'s enchanting presence as she captures moments of joy by blowing bubble gum with a classic film overlay and grain, all under the mesmerizing hues of Japan Vibes - Film color art at Image Index #27. [CLASS_0][CLASS_1][CLASS_2][CLASS_3][CLASS_4]', \"Dwayne 'The Rock' Johnson poses in an iconic th3r0ck-inspired pose, with film grain overlay to pay homage to classic action films, set against the vibrant colors reminiscent of a Japan Vibes scene, all while surrounded by meticulously arranged library bookshelves (Image Index: 44). [CLASS_0][CLASS_1][CLASS_2][CLASS_3][CLASS_4]\", \"Envision Dwayne 'The Rock' Johnson amidst an atmospheric film overlay reminiscent of classic Japanese cinema, his formidable presence accentuated by strategically placed libral bookshelves (Image Index: 50), blending in a cinematic touch and intellectual charm. [CLASS_0][CLASS_1][CLASS_2][CLASS_3][CLASS_4]\", \"Create an artistic portrayal of Dwayne 'The Rock' Johnson with film grain texture and a vintage Japanese Vibes color palette overlay, standing proudly in front of a meticulously organized library bookshelf (Image Index: 45), embodying the essence of both his thundering personality and the tranquil wisdom found among timeless knowledge. [CLASS_0][CLASS_1][CLASS_2][CLASS_3][CLASS_4]\", 'Scarlett Johansson with vivid blue eyes, styled in an iconic Japanese street fashion scene infused with warm red hues reminiscent of her signature hair color, subtly blended with film grain overlay to evoke a nostalgic Japan Vibes atmosphere. [CLASS_0][CLASS_1][CLASS_2][CLASS_3][CLASS_4]', '1. \"Scarlett Johansson captivates in an ethereal setting, her short red hair catching the soft hues of Japan Vibes - Film color overlay as she delicately blows bubble gum with a joyful expression.\"\\n\\n2. \"A charismatic portrayal of Scarlett Johansson against a vibrant film color backdrop, showcasing her iconic short red hair and blue eyes while expertly blowing bubbles in the air with Kaugummi (Bubble Gum) as depicted by Japan Vibes - Film color overlay.\"\\n \\n3. \"In an artful blend of Hollywood glamour and Japanese aesthetics, Scarlett Johansson\\'s blue eyes shine through a film-inspired grainy texture while her hands masterfully blow bubble gum, immersed in the whimsical world of Japan Vibes - Film color overlay. [CLASS_0][CLASS_1][CLASS_2][CLASS_3][CLASS_4]', 'Envision Scarlett Johansson with her signature short red hair and captivating blue eyes, immersed in the art of blowing bubble gum, surrounded by vibrant Japan Vibes - Film color overlay that adds a nostalgic film grain effect to this playful scene.\"\\n\\n\"Scarlett Johansson is depicted with her luscious red hair and striking blue eyes, skillfully performing the classic act of blowing bubble gum, set against an evocative Japan Vibes - Film color backdrop infused with a subtle film grain texture for that authentic retro feel.\"\\n\\n\"The iconic actress Scarlett Johansson is shown in a vivid scene where her stunning short red hair and bright blue eyes shine, as she joyfully engages in the simple yet mesmerizing art of blowing bubble gum, complemented by the rich hues and film grain overlay reminiscent of classic Japanese films. [CLASS_0][CLASS_1][CLASS_2][CLASS_3][CLASS_4]', 'Scarlett Johansson with blue eyes, radiating elegance in a vibrant Japan Vibes color palette - film overlay effect showcasing her short red hair against the backdrop of iconic Tokyo lights (Image Index: 15) [CLASS_0][CLASS_1][CLASS_2][CLASS_3][CLASS_4]', 'A whimsical library scene with an intricately designed bookshelf filled to the brim, featuring Japan-inspired decorative elements like film grain patterns and subtle color tones reminiscent of classic Japanese films, for a cinematic touch in this image (Image Index: 41). [CLASS_0][CLASS_1][CLASS_2][CLASS_3][CLASS_4]', 'Scarlett Johansson channeling her inner anime icon, with stunning blue eyes framed by short red hair against the vibrant hues of Japan Vibes - Film color overlay at Image Index 29. [CLASS_0][CLASS_1][CLASS_2][CLASS_3][CLASS_4]', \"Dwayne 'The Rock' Johnson powerfully embodying strength as he expertly blows a giant, colorful bubble with the iconic Bubble Gum (バブルガム / 泡泡糖 / Kaugummi) symbolizing triumph and playfulness at his jawline. [CLASS_0][CLASS_1][CLASS_2][CLASS_3][CLASS_4]\", \"Dwayne 'The Rock' Johnson showcasing his iconic strength by performing an impressive, gravity-defying trick with a giant Bubble Gum (バブルガム) v2.0 at the peak of its bubble as seen in Image Index 41. [CLASS_0][CLASS_1][CLASS_2][CLASS_3][CLASS_4]\", 'Scarlett Johansson radiating confidence, adorned with intricate film grain patterns and vibrant Japan Vibes color palette at index 11, embodying the essence of both Hollywood charm and Japanese aesthetic allure. [CLASS_0][CLASS_1][CLASS_2][CLASS_3][CLASS_4]', \"Scarlett Johansson with mesmerizing blue eyes, capturing the essence of 'Japan Vibes' - Film color at Image Index 36, as she playfully blows bubble gum amidst a stylized film grain background. [CLASS_0][CLASS_1][CLASS_2][CLASS_3][CLASS_4]\", 'Scarlett Johansson blowing bubble gum with vibrant Japanese film color hues, featuring a playful film overlay and an artistic representation of her short red hair and blue eyes.\"\\n\\n--- Metadata for LoRA 1 + LoRA 2 ---\\nName: Harajuku Fashionista - Scarlett Johansson meets Bubble Gum magic\\n\\nDescription: Scarlett Johansson in a stunning Harajuku-inspired outfit, blowing bubble gum with artistic film color accents and grainy details.\\n\\nTrigger Words: harajuku fashion, scarlett, bubble gum\\n\\nImage Index: 18\\n\\n--- Metadata for LoRA 1 + LoRA_3 ---\\nName: Scarlett\\'s Japanese Kawaii - Film Glamour meets Short Red Hair Elegance\\n\\nDescription: A kawaii (cute) depiction of Scarlett Johansson in a fashion-forward, film-inspired outfit with red hair and blue eyes complemented by the charm of Japanese visuals.\\n\\nTrigger Words: kawaii, scarlett, film grain\\n\\nImage Index: 15 [CLASS_0][CLASS_1][CLASS_2][CLASS_3][CLASS_4]', 'Envision Scarlett Johansson with her signature short red hair and captivating blue eyes, seamlessly blended into an ethereal Japan Vibes-inspired film scene at Image Index 5, featuring a subtle film grain overlay and artistic color palette. [CLASS_0][CLASS_1][CLASS_2][CLASS_3][CLASS_4]', \"Envision an idyllic Japanese library scene, where the traditional allure of a library bookshelf (LoRA 1) is gently infused with vibrant 'Japan Vibes' coloration (LoRA 2), featuring film grain and color overlay effects to evoke nostalgia for classic anime films. [CLASS_0][CLASS_1][CLASS_2][CLASS_3][CLASS_4]\", \"Scarlett Johansson's iconic short red hair gently bathed in soft, dreamy hues reminiscent of classic Japanese cinema with subtle film grain overlay for an artistic Japan Vibes-themed color palette at Image Index: 39. [CLASS_0][CLASS_1][CLASS_2][CLASS_3][CLASS_4]\", \"Envision Dwayne 'The Rock' Johnson standing proudly amidst an iconic Tokyo film set, his stoic demeanor accentuated by the vibrant Japan Vibes color palette; as if stepping out of a black-and-white classic movie into this technicolor dreamscape with subtle film grain and a library bookshelf full of adventure novels lining the backdrop. [CLASS_0][CLASS_1][CLASS_2][CLASS_3][CLASS_4]\", \"Dwayne 'The Rock' Johnson embodying the essence of th3r0ck with a film-overlay vibe, depicted in stunning color against a library bookshelf (Image Index: 40) featuring subtle film grain. [CLASS_0][CLASS_1][CLASS_2][CLASS_3][CLASS_4]\", 'Envision a serene library bookshelf filled with classic literature, bathed in warm, inviting light as soft film grain overlays the scene to evoke an ambiance reminiscent of cherished Japanese films.\"\\n\\n--- Metadata for LoRA 3 ---\\nName: Retro Arcade - Neon Overlay\\n\\nDescription: A vibrant \\'80s arcade setting with neon accents and nostalgic charm.\\n\\nTrigger Words: retro, neon overlay, pixel art\\n\\nImage Index: 52\\n\"Depict an enchanting library corner where a vintage bookshelf brims with adventure novels under the glow of a gentle \\'80s arcade-style neon light, accented by playful pixel art elements. [CLASS_0][CLASS_1][CLASS_2][CLASS_3][CLASS_4]', 'Envision Scarlett Johansson, with her iconic short red hair and captivating blue eyes, seamlessly blending into an artistic Japan Vibes - Film overlay scene (Image Index: 38), where a subtle film grain texture enhances the cultural ambiance. [CLASS_0][CLASS_1][CLASS_2][CLASS_3][CLASS_4]', 'A charming library bookshelf bathed in warm, ambient light with soft, film-overlayed texture resembling classic Japanese cinema hues, featuring literary characters that mingle amidst rows of books—Image Index: 50. [CLASS_0][CLASS_1][CLASS_2][CLASS_3][CLASS_4]', \"Scarlett Johansson with vibrant blue eyes, sitting amidst a whimsical scene of glistening bubble gum art installations in Tokyo's film district (Image Index: 23), featuring subtle film grain overlay for an authentic Japanese Vibes feel. [CLASS_0][CLASS_1][CLASS_2][CLASS_3][CLASS_4]\", 'Scarlett Johansson staring into the camera with her signature short red hair and captivating blue eyes, enveloped in a mesmerizing film overlay that brings to life an elegant Japan Vibes ambiance, complete with subtle film grain effects for Image Index: 4. [CLASS_0][CLASS_1][CLASS_2][CLASS_3][CLASS_4]', 'Envision Scarlett Johansson with her iconic short red hair and captivating blue eyes, surrounded by the subtle texture of film grain and the evocative charm of Japan Vibes - Film color overlay, creating a timeless tableau at image index number 10. [CLASS_0][CLASS_1][CLASS_2][CLASS_3][CLASS_4]', 'Scarlett Johansson with vibrant blue eyes, capturing the essence of Japan Vibes - Film color, as she playfully blows bubble gum with an artistic film overlay that showcases her distinct short red hair.\"\\n\\n-----\\n\\n\"A whimsical scene where Scarlett Johansson\\'inas a stylized Japanese film setting (Image Index: 37), is seen in the act of blowing big, colorful bubble gum with delicate film grain texture highlighting her iconic short red hair and striking blue eyes.\"\\n\\n-----\\n\\n\"In an imaginative fusion of pop culture and Japanese aesthetics (Image Index: 37), Scarlett Johansson is depicted in the role of Japan Vibes - Film color, elegantly blowing bubble gum while her short red hair catches stunning light against film overlay grains.\"\\n\\n-----\\n\\n\"Scarlett Johansson, portrayed as a vibrant Japanese film icon (Image Index: 37), is caught mid-blow on bubble gum in an image with a dreamy film grain effect that accentuates her red hair and blue eyes against the backdrop of Japan Vibes - Film color. [CLASS_0][CLASS_1][CLASS_2][CLASS_3][CLASS_4]', \"Create an inspiring digital artwork capturing Dwayne 'The Rock' Johnson embodying strength, with his signature serious expression as he playfully joins in the universal joy of blowing bubble gum bubbles while surrounded by a vibrant array of colorful orbs. [CLASS_0][CLASS_1][CLASS_2][CLASS_3][CLASS_4]\", \"Envision Dwayne 'The Rock' Johnson, embodying raw strength and intensity, with a focused expression as he metapromptsly blows an enormous bubble gum masterpiece—a perfect fusion of his th3r0ck persona and the whimsy of Bubble Gum v2.0 in Image Index 42. [CLASS_0][CLASS_1][CLASS_2][CLASS_3][CLASS_4]\", 'Envision Scarlett Johansson with striking red hair, under a soft blue-tinted sky reminiscent of classic Japanese films, subtly overlaid with film grain effects to capture her essence at Image Index: 6. [CLASS_0][CLASS_1][CLASS_2][CLASS_3][CLASS_4]', 'Scarlett Johansson with mesmerizing blue eyes, capturing the essence of Japan Vibes - Film color through an artistic film overlay that celebrates her iconic short red hair as she playfully blows bubble gum into a perfect orb.\"\\n\\n--- Metadata for LoRA 1 & LoRA 2 ---\\nName: Hiroyuki Miura (Miura Yuta) from \"My Hero Academia\"\\n\\nDescription: yuta, long black hair tied in ponytail, green eyes, hero outfit\\n\\nTrigger Words: yuta blow bubble gum\\n\\n--- Metadata for LoRA 3 & Image Index 17 ---\\nName: Tokyo Street Life - Monochrome\\n\\nDescription: vibrant street scene of Tokyo with a monochromatic twist, reflecting the dynamic culture and energy.\\n\\nTrigger Words: urban chic, graffiti art, neon lights\\n\\nImage Index: 17\\nGenerate a single positive prompt based on this metadata and image index. [CLASS_0][CLASS_1][CLASS_2][CLASS_3][CLASS_4]', 'Scarlett Johansson blowing bubbles with vibrant, film-style color in her short red hair, blue eyes, captured during the playful moment of achieving the perfect oversized gum bubble.\"\\n\\n\"Film-grained Japanese girl embodying Scarlett\\'s charm, engaging in the classic joyous act of blowing bubble gum amidst a burst of colorful film grain background at image index 35. [CLASS_0][CLASS_1][CLASS_2][CLASS_3][CLASS_4]', 'Envision Scarlett Johansson, with her iconic short red hair and captivating blue eyes, immersed in the vibrant spirit of Japan, depicted through a film color overlay at Image Index #12, exuding an air of serene elegance. [CLASS_0][CLASS_1][CLASS_2][CLASS_3][CLASS_4]', \"A whimsical library bookshelf adorned with delicate Japanese film grain texture, featuring an array of classic literature covers and colorful lighting that evokes the essence of Japan's rich storytelling heritage. [CLASS_0][CLASS_1][CLASS_2][CLASS_3][CLASS_4]\", 'Scarlett Johansson blowing giant bubble gum with vibrant Japan Vibes Film Overlay, showcasing her iconic short red hair and blue eyes against the warm, grainy backdrop.\"\\n\\n----- Updated Prompt Based on Image Index 9 -----\\n\"Japanese film ambiance meets Scarlett Johansson\\'s charm as she playfully blows a massive bubble gum with colorful film overlay effects in her signature short red hair and blue eyes, captured at image index number 9. [CLASS_0][CLASS_1][CLASS_2][CLASS_3][CLASS_4]', '1. \"Inspired by the formidable Dwayne \\'The Rock\\' Johnson, craft an intricate digital illustration where he\\'s depicted in his th3r0ck persona with a stylized film grain overlay reminiscent of classic Japanese cinema scenes.\"\\n\\n2. \"Merge the stoic presence of Dwayne \\'The Rock\\' Johnson with the serene ambiance of a Japan Vibes Film color setting, showcasing him amidst a library bookshelf as if he were an iconic figure in literary history.\"\\n\\n3. \"Create a vibrant image where Dwayne \\'The Rock\\' Johnson stands proudly on a vast Library bookshelf (Image Index: 42), with the essence of Japan Vibes Film color and film grain subtly intertwining to represent his timeless strength. [CLASS_0][CLASS_1][CLASS_2][CLASS_3][CLASS_4]', \"Dwayne 'The Rock' Johnson standing firm amidst a tranquil Japanese garden setting, embodying the essence of th3r0ck with his unshorn muscular presence, while subtle film grain overlay adds depth to the scene against a vibrant library bookshelf backdrop (Image Index: 43). [CLASS_0][CLASS_1][CLASS_2][CLASS_3][CLASS_4]\", \"A vibrant scene where Scarlett Johansson, with her signature short red hair and mesmerizing blue eyes, is captured blowing bubble gum in the heart of Japan's enchanting streets, surrounded by a rich film grain overlay that adds an old-school charm. The colorful essence of 'Japan Vibes - Film Color', image index 8, highlights her playful moment amidst cultural artistry. [CLASS_0][CLASS_1][CLASS_2][CLASS_3][CLASS_4]\", 'Envision a serene library bookshelf adorned with vibrant Japanese film color themes, featuring a harmonious blend of classic literature and cherry blossoms to evoke Japan Vibes - Film overlay, while introducing delicate film grain for an artsy touch. Image Index: 47 [CLASS_0][CLASS_1][CLASS_2][CLASS_3][CLASS_4]', \"Scarlett Johansson with striking blue eyes, capturing the essence of 'Japan Vibes - Film Color' through a creative film overlay that intertwines her iconic short red hair with delicate bubble gum swirls blown in sync to create an artistic image. [CLASS_0][CLASS_1][CLASS_2][CLASS_3][CLASS_4]\", \"Scarlett Johansson's iconic redhead elegance merged with the nostalgic Japan Vibes - Film color palette, featuring an artistic film overlay to celebrate her blue eyes in Image Index #13. [CLASS_0][CLASS_1][CLASS_2][CLASS_3][CLASS_4]\", 'Envision Scarlett Johansson with her signature short red hair, adorned in an elegant kimono-style dress featuring traditional Japanese patterns, against the backdrop of a serene Japanese garden at sunset (film grain effect), capturing the essence of Japan Vibes - Film color theme. [CLASS_0][CLASS_1][CLASS_2][CLASS_3][CLASS_4]', \"A radiant Scarlett Johansson with captivating blue eyes, elegantly blowing bubble gum in an artful fusion of traditional Japanese film aesthetics at Image Index 20.\\n\\n--- Metadata for LoRA 1 & LoRA 2 ---\\nName: Starlight Fantasy - Scarlett Johansson with Bubble Gum Magic\\n\\nDescription: A magical scene where the iconic scarlet-haired actress, embodying Scarlett Johansson's essence, is depicted blowing bubble gum under a dreamy film overlay imbued with Japan Vibes style at Image Index 20.\\n\\n--- Metadata for LoRA 1 & LoRA 3 ---\\nName: Sakura of Hollywood - Japanese Film Girl Meets Scarlett Johansson\\n\\nDescription: A whimsical encounter where the enchanting Scarlett Johansson meets her animated counterpart in a stylized film grain-infused world, capturing the charm and allure of Japan Vibes at Image Index 20.\\n\\n--- Metadata for LoRA 2 & LoRA 3 ---\\nName: Bubble Gum Pop Culture - Kaugummia Japonica Extravaganza\\n\\nDescription: A vibrant collage depicting the delightful art of blowing bubble gum, fused with the iconic Japanese film grain aesthetic and infused with Japan Vibes essence at Image Index 20. [CLASS_0][CLASS_1][CLASS_2][CLASS_3][CLASS_4]\", \"Dwayne 'The Rock' Johnson, channeling his inner champion with an intense focus, skillfully blows the largest, most impressive bubble of gum ever captured in Image Index 43. [CLASS_0][CLASS_1][CLASS_2][CLASS_3][CLASS_4]\", \"Envision Scarlett Johansson with her signature red hair and captivating blue eyes, delicately blowing bubble gum into a mesmerizing film-style color overlay that echoes the vibrant essence of Japan's cinematic flair. [CLASS_0][CLASS_1][CLASS_2][CLASS_3][CLASS_4]\", \"Scarlett Johansson, with her signature short red hair and captivating blue eyes, strikes the perfect pose to blow an impressive bubble gum while surrounded by vibrant hues of Japanese film color grain in a dreamy mise-en-scène that pays homage to Japan Vibes at image index 5.\\n\\n--- Metadata for LoRA 1 & LoRA 2 ---\\nName: Sakura's Red Bubble Showdown\\n\\nDescription: A whimsical fusion of Scarlett Johansson and the joyful act of blowing bubble gum, accented with a Japanese film color palette overlay.\\n\\nTrigger Words: red hair, blue eyes, blow bubble gum, Japan Vibes, film grain, image index 5\\n\\n--- Metadata for LoRA 2 & LoRA 3 ---\\nName: Sakura's Bubble Gum Fantasy with Film Overlay\\n\\nDescription: Scarlett Johansson engages in the delightful act of blowing bubble gum against a backdrop imbued with rich film grain and Japan Vibes color effects.\\n\\nTrigger Words: bubble gum, Japanese film color overlay, image index 5 [CLASS_0][CLASS_1][CLASS_2][CLASS_3][CLASS_4]\", \"Envision Scarlett Johansson adorned in traditional Japanese attire, capturing the essence of 'Japan Vibes - Film color' with film grain overlay at Image Index: 22, as her short red hair and blue eyes reflect a serene connection between modern cinema icon and ancient artistry. [CLASS_0][CLASS_1][CLASS_2][CLASS_3][CLASS_4]\", 'Envision Scarlett Johansson with lively, short red hair cascading down her shoulders under a dreamy Japan Vibes-inspired film overlay at Image Index 36, accentuating her captivating blue eyes amidst delicate touches of film grain for an artistic fusion. [CLASS_0][CLASS_1][CLASS_2][CLASS_3][CLASS_4]', 'Scarlett Johansson with mesmerizing blue eyes, engaging in the playful art of blowing vibrant bubble gum against the nostalgic backdrop of Japan Vibes - Film color overlay #ImageIndex11.\"\\n\\n--- Metadata for LoRA 1 & LoRA 2 ---\\nName: Scarlett Johansson enjoying Kaugummi (Bubble Gum) in a Japanese garden setting\\n\\nDescription: Scarlett with short red hair and blue eyes, delightfully blowing bubbles while surrounded by the serene beauty of Japan.\\n\\nTrigger Words: scarlett, blow bubble gum, Japanese garden\\n\\n--- Metadata for LoRA 1 & LoRA Cookie Dough ---\\nName: Scarlett Johansson mixing cookie dough in a rustic kitchen with Japanese elements\\n\\nDescription: The stunning beauty of Scarlett Johansson with her signature short red hair and piercing blue eyes is seen passionately combining ingredients for a classic American dessert, while adorned with subtle hints of Japan.\\n\\nTrigger Words: scarlett, cookie dough, rustic kitchen, Japanese elements\\n\\n--- Metadata for LoRA 2 & LoRA 3 ---\\nName: Playful scene where Bubble Gum (バブルガム) comes to life in a color-infused Tokyo street setting\\n\\nDescription: A lively representation of blowing bubbles with Kaugummi amidst the iconic charm of Japan Vibes - Film color overlay, depicting an imaginative and vivid scene on a Japanese cityscape.\\n\\nTrigger Words: Bubble Gum (バブルガム), Tokyo street, film overlay, colorful atmosphere\\n\\n--- Metadata for LoRA 1 & LoRA 3 ---\\nName: Scarlett Johansson capturing the essence of Japan in a monochromatic photograph with vintage film grain effect\\n\\nDescription: The allure of Scarlett Johansson is framed against an artful Japanese street scene, elegantly portrayed through the nostalgic filter of film overlay and enhanced by subtle film grain for a classic touch.\\n\\nTrigger Words: scarlett, Japan Vibes - Film color, vintage effect, monochromatic image [CLASS_0][CLASS_1][CLASS_2][CLASS_3][CLASS_4]', \"Scarlett Johansson channeling her inner Japanese cinema, with delicate film grain texture and vibrant blue eyes framed by short red hair in Image Index 37's unique Japan Vibes - Film Color palette. [CLASS_0][CLASS_1][CLASS_2][CLASS_3][CLASS_4]\", 'Scarlett Johansson gracefully blowing bubble gum with vibrant Japan Film Vibes color tones, featuring her signature red hair framing the scene like a warm summer sunset.\"\\n\\n\"In an artistic fusion of pop culture and film-inspired ambiance, Scarlett Johansson is depicted in a whimsical moment, blowing bubble gum against a backdrop reminiscent of classic Japan Vibes cinematography with her distinctive blue eyes reflecting the colorful grain.\"\\n\\n\"A playful and nostalgic image capturing Scarlett Johansson\\'s charismatic presence as she engages in the childhood pastime of blowing bubble gum, all while being enveloped by a richly textured film overlay that exudes Japan Vibes essence. [CLASS_0][CLASS_1][CLASS_2][CLASS_3][CLASS_4]', 'Scarlett Johansson with a vibrant Japanese film style color overlay, blowing bubble gum in her iconic red hair, showcasing a whimsical blend of Hollywood glamour and traditional Japanese flair at Image Index #4. [CLASS_0][CLASS_1][CLASS_2][CLASS_3][CLASS_4]', 'Envision Scarlett Johansson with her signature short red hair, capturing an ethereal moment in the land of the rising sun - Japan Vibes Edition, featuring film grain overlay for that nostalgic cinematic feel at Image Index: 23. [CLASS_0][CLASS_1][CLASS_2][CLASS_3][CLASS_4]', 'Scarlett Johansson, with captivating blue eyes and vibrant red hair, joyfully blowing giant bubble gum bubbles against the backdrop of Japan Vibes - Film color overlay in a whimsical Tokyo park scene.\"\\n\\n\"Scarlett\\'s stunning features are highlighted as she skillfully crafts massive, iridescent bubble gum orbs amidst an artistic film grain-infused setting that brings the essence of Japan Vibes - Film color to life in a serene Japanese garden. [CLASS_0][CLASS_1][CLASS_2][CLASS_3][CLASS_4]', 'Scarlett Johansson, portrayed as the epitome of Japanese cinematic beauty, with her iconic short red hair subtly infused in film overlay style at Image Index 9, exuding blue eyes that capture a soft glow amidst a vintage-inspired grainy film background. [CLASS_0][CLASS_1][CLASS_2][CLASS_3][CLASS_4]', 'Create an enchanting scene with a vibrant library bookshelf filled with classic Japanese literature, featuring subtle film overlays to capture the essence of Japan Vibes in Film color - Index 49. [CLASS_0][CLASS_1][CLASS_2][CLASS_3][CLASS_4]', 'Scarlett Johansson with blue-eyed enchantment, skillfully blowing giant bubble gum bubbles in a serene Japanese film scene backdrop (film overlay), capturing the essence of Japan Vibes at Image Index 12. [CLASS_0][CLASS_1][CLASS_2][CLASS_3][CLASS_4]', 'Envision Scarlett Johansson with cascading short red hair, mesmerizing blue eyes, surrounded by the nostalgic ambiance of Japan Vibes - Film color, featuring film grain effect at Image Index 35. [CLASS_0][CLASS_1][CLASS_2][CLASS_3][CLASS_4]', 'Scarlett Johansson captivates with her iconic short red hair, gazing into the camera under an enchanting Japan Vibes - Film color overlay, showcasing natural film grain texture at Image Index: 21. [CLASS_0][CLASS_1][CLASS_2][CLASS_3][CLASS_4]', 'Scarlett Johansson with mesmerizing blue eyes, adorned in vibrant Japan Vibes - Film Color style, capturing the essence of blowing bubble gum as she exudes an effortlessly charming blend of film grain and playful imagination. [CLASS_0][CLASS_1][CLASS_2][CLASS_3][CLASS_4]', 'Envision Scarlett Johansson with striking red hair, captivating blue eyes, surrounded by the artistic essence of Japan Vibes - Film color overlay and film grain effect at Image Index 20. [CLASS_0][CLASS_1][CLASS_2][CLASS_3][CLASS_4]', 'Scarlett Johansson, with short red hair framing her blue eyes, is playfully blowing vibrant bubble gum (Bubble Gum) in the style of Japan Vibes - Film color, adding a subtle film grain effect as seen in Image Index 7.\"\\n\\n\"In an artistic twist on traditional Japanese cinema, we see Scarlett Johansson with her signature short red hair and blue eyes captured against a dreamy backdrop reminiscent of Japan Vibes - Film color. She\\'s engaged in the classic childhood joy of blowing bubble gum (Bubble Gum), while an overlay of film grain subtly enhances her image, as if from Image Index 7.\"\\n\\n\"A captivating scene where Scarlett Johansson, with short red hair and piercing blue eyes, finds herself transported to a serene Japanese setting. She\\'s seen blowing bubble gum (Bubble Gum) amidst the nostalgic charm of Japan Vibes - Film color, complete with an image index 7-inspired film grain overlay that adds depth and texture. [CLASS_0][CLASS_1][CLASS_2][CLASS_3][CLASS_4]', \"Scarlett Johansson's iconic red hair and captivating blue eyes set against the vibrant Japan Vibes - Film color backdrop, showcasing her blowing bubble gum with an artistic film overlay that highlights the playfulness of this scene. [CLASS_0][CLASS_1][CLASS_2][CLASS_3][CLASS_4]\", 'Envision a charming library bookshelf filled with ancient, leather-bound books against a softly lit room adorned in traditional Japanese motifs, blending seamlessly with the film color palette (Image Index: 48) while adding a touch of vintage film grain overlay for an artistic fusion of classic literature and Japanese cinema. [CLASS_0][CLASS_1][CLASS_2][CLASS_3][CLASS_4]', \"Envision Scarlett Johansson with her signature short red hair and captivating blue eyes, adorned in an enchanting kimono-style outfit that subtly merges Japanese film vibes through a delicate film overlay effect, showcasing the essence of Japan's artistic culture while maintaining her iconic look. [CLASS_0][CLASS_1][CLASS_2][CLASS_3][CLASS_4]\", 'Envision Scarlett Johansson with striking red hair framing her captivating blue eyes, all set against an enchanting Japan Vibes-Film color palette, imbued with the nostalgic film grain effect to create a harmonious blend of contemporary icon and traditional artistry.\"\\n\\nFor Image Index 8: \"Scarlett Johansson embodies her essence in an image where every detail is infused with the serene ambiance of Japan Vibes-Film color. The film grain overlay adds a timeless touch, as if she steps out from classic cinema, highlighting her short red hair and mesmerizing blue eyes against this unique backdrop. [CLASS_0][CLASS_1][CLASS_2][CLASS_3][CLASS_4]', \"Create an epic scene where Dwayne 'The Rock' Johnson, in his iconic no-hair th3r0ck look with muscular arms flexing, is engaged in the art of blowing the largest bubble gum ever at number 48, showcasing a blend of his serious determination and childlike joy. [CLASS_0][CLASS_1][CLASS_2][CLASS_3][CLASS_4]\", 'Envision Scarlett Johansson with vibrant blue eyes, strolling through an enchanting Tokyo alley adorned with film-grade sepia tones and a subtle film grain overlay, capturing the essence of Japan Vibes - Film color at Image Index #30. [CLASS_0][CLASS_1][CLASS_2][CLASS_3][CLASS_4]', 'Scarlett Johansson with blue eyes, adorned in an elegant kimono print reminiscent of Japan Vibes - Film color, atop an artful bubble gum landscape, blowing the most magnificent shade-tinted bubbles.\"\\n\\nPrompt for LoRA 1 & 2: \"Scarlett Johansson with her signature short red hair and blue eyes, surrounded by a whimsical world where she masterfully blows vibrant bubble gum while traditional Japanese film grain subtly frames the scene.\"\\n\\nPrompt for LoRA 1 & 3: \"A charming depiction of Scarlett Johansson in her classic style, enveloped by a Japan Vibes - Film color palette, with a cinematic film overlay that highlights her poise as she gently holds a piece of bubble gum.\"\\n\\nPrompt for LoRA 2 & 3: \"An imaginative scene where the simple act of blowing bubble gum takes on an artistic dimension, featuring Scarlett Johansson in a film-noir atmosphere adorned with Japan Vibes - Film color hues and noticeable film grain texture. [CLASS_0][CLASS_1][CLASS_2][CLASS_3][CLASS_4]', 'Scarlett Johansson blows bubble gum with mesmerizing film color effects, featuring her vibrant red hair and captivating blue eyes against an artistic Japan-inspired backdrop.\"\\n\\n--- Metadata for LoRA 1 - Image Index: 4 ---\\n\"Japan Film Girl meets Scarlett Johansson in a harmonious blend of colorful film grains with blown bubble gum, showcasing her short red hair and blue eyes amidst the vibrant Japan Vibes palette.\"\\n\\n--- Metadata for LoRA 2 - Image Index: 1 ---\\n\"Scarlett Johansson\\'s iconic face illuminated by soft film color lighting as she playfully blows bubble gum, surrounded by a subtle Japan-themed grain texture.\"\\n\\n--- Metadata for LoRA 3 - Image Index: 2 ---\\n\"Scarlett Johansson engrossed in the art of blowing bubble gum while adorned with soft film color accents and delicate film overlays that evoke a nostalgic Japan Vibes atmosphere. [CLASS_0][CLASS_1][CLASS_2][CLASS_3][CLASS_4]', 'Create an artistic visualization of Scarlett Johansson with vibrant blue eyes, short red hair, and delicate Japanese film-grainy texture overlay, capturing the essence of her iconic allure in a serene Japan Vibes inspired backdrop, Image Index: 24. [CLASS_0][CLASS_1][CLASS_2][CLASS_3][CLASS_4]', 'Envision Scarlett Johansson radiating movie star elegance with blue eyes sparkling under the warm glow of Japan Vibes - Film color, infused with film grain artistry at Image Index 18. [CLASS_0][CLASS_1][CLASS_2][CLASS_3][CLASS_4]', '1. \"Envision the iconic Dwayne \\'The Rock\\' Johnson embodying strength as he stands in front of a vast library bookshelf filled with classic adventure novels, all rendered with film-like grain to highlight his th3r0ck presence amidst literary worlds.\"\\n\\n2. \"Imagine Japan Vibes inspired visual merging where the essence of \\'The Rock\\' is portrayed against a backdrop of a meticulously designed library bookshelf, all imbued with film grain and color to give it an authentic Japanese film overlay feel.\"\\n cv2_imagenet_filename: \"rock-the-movie-library-vibes.jpg\"\\n\\n3. \"Picture Dwayne \\'The Rock\\' Johnson in a contemplative stance, holding a well-worn library book on the shelves of a tranquil Japanese library setting, overlayed with subtle film grain for an artistic touch. [CLASS_0][CLASS_1][CLASS_2][CLASS_3][CLASS_4]', \"Depict Dwayne 'The Rock' Johnson sporting an iconic th3r0ck vibe amidst a Japan Vibes-inspired film grainy overlay, standing confidently among towering library bookshelves (Image Index: 49), each shelf filled with volumes symbolizing strength and wisdom. [CLASS_0][CLASS_1][CLASS_2][CLASS_3][CLASS_4]\", \"A vibrant, cyan-eyed Scarlett Johansson with auburn locks adorned in a delicate film overlay of Tokyo's iconic neon lights, capturing the essence of Japan Vibes at Image Index 19. [CLASS_0][CLASS_1][CLASS_2][CLASS_3][CLASS_4]\", 'Scarlett Johansson blowing bubble gum with playful, Japan-inspired film overlays in her distinct red hair and captivating blue eyes.\"\\n\\n--- Metadata for LoRA 1 & 2 ---\\nName: Scarlett Johansson chewing Bubble Gum (バブルガム / 泡泡糖 / Kaugummi) v2.0\\n\\nDescription: scarlett, blow bubble gum\\n\\nTrigger Words: scarlett, blow bubble gum\\n\\nImage Index: 3\\nGenerate a single positive prompt based on this metadata and image index.\\n\\n--- Metadata for LoRA 1 & 3 ---\\nName: Scarlett Johansson with film color Japan vibes - Film Grain overlay\\n\\nDescription: scarlett, short red hair, blue eyes, Japan film girl - Color with film grain overlays\\n\\nTrigger Words: scarlett, film overlay\\n\\nImage Index: 4\\nGenerate a single positive prompt based on this metadata and image index. [CLASS_0][CLASS_1][CLASS_2][CLASS_3][CLASS_4]', 'Envision Scarlett Johansson with her signature short red hair, gazing out from the heart of Tokyo, framed by vintage film grain as if an artistic overlay pays tribute to classic Japanese cinema; Image Index: 25. [CLASS_0][CLASS_1][CLASS_2][CLASS_3][CLASS_4]', 'Scarlett Johansson embraces her enchanting persona with vibrant blue eyes, adorned in an elegant kimono that subtly fuses Japan Vibes - Film color elements through a tasteful film overlay effect, while maintaining the essence of her iconic short red hair at index 31. [CLASS_0][CLASS_1][CLASS_2][CLASS_3][CLASS_4]', 'Scarlett Johansson with striking blue eyes, surrounded by vibrant bubble gum bubbles while in the iconic style of Japan Vibes - Film color overlay for Image Index 16.\"\\n\\n\"Blue-eyed Scarlett blowing playful bubble gum bubbles against a backdrop that blends her pop culture essence with the nostalgic film grain effect, captured in the rich hues of Japan Vibes - Film color style for Image Index 16. [CLASS_0][CLASS_1][CLASS_2][CLASS_3][CLASS_4]', \"Dwayne 'The Rock' Johnson with a stoic expression, exuding strength as he playfully engages in the art of blowing massive bubble gum bubbles, showcasing his mastery over both physical prowess and simple joys – capture this momentous blend of seriousness and whimsy at Image Index 49. [CLASS_0][CLASS_1][CLASS_2][CLASS_3][CLASS_4]\", 'Scarlett Johansson with blue eyes, exuding her iconic short red hair charm, standing amidst a serene Japanese garden at dusk, enhanced by a film overlay grain effect to evoke classic film vibes (Image Index: 27). [CLASS_0][CLASS_1][CLASS_2][CLASS_3][CLASS_4]', 'Scarlett Johansson with vibrant bubble gum bubbles reflecting off her mesmerizing blue eyes, set against the nostalgic backdrop of Japan Vibes - Film color grain overlay, Image Index: 14. [CLASS_0][CLASS_1][CLASS_2][CLASS_3][CLASS_4]', 'Envision Scarlett Johansson, with her iconic short red hair and mesmerizing blue eyes, seamlessly blended into the rich tapestry of Japan Vibes - Film color palette, where a delicate film overlay enhances her timeless essence while subtle film grain accents create an atmosphere reminiscent of classic Japanese cinema; image index 33. [CLASS_0][CLASS_1][CLASS_2][CLASS_3][CLASS_4]', 'Scarlett Johansson blowing bubble gum with vibrant, colorful Japan film girl hues overlaid in the artistic style of Film Grain #28. [CLASS_0][CLASS_1][CLASS_2][CLASS_3][CLASS_4]', \"Envision Scarlett Johansson with playful blue eyes, blowing vibrant bubble gum adorned with delicate film grain overlays in the iconic 'Japan Vibes' color palette, image #29. [CLASS_0][CLASS_1][CLASS_2][CLASS_3][CLASS_4]\", \"Scarlett Johansson with vibrant bubble gum swirls in her mouth, blowing colorful bubbles while embodying the iconic 'Japan Vibes' film overlay, showcasing a stylized blend of Japanese aesthetics and pop culture charm at Image Index 15. [CLASS_0][CLASS_1][CLASS_2][CLASS_3][CLASS_4]\", \"Scarlett Johansson captivatingly portraying a modern 'Japan Vibes' twist, with her iconic short red hair set against the delicate film grain overlay and nostalgic film color palette at Image Index #32. [CLASS_0][CLASS_1][CLASS_2][CLASS_3][CLASS_4]\", 'A vibrant digital portrayal of Scarlett Johansson with her iconic short red hair and captivating blue eyes, inspired by Japan Vibes - Film color themes, featuring an artistic film overlay effect and a nostalgic touch of grainy film texture to celebrate Image Index: 26. [CLASS_0][CLASS_1][CLASS_2][CLASS_3][CLASS_4]', 'Scarlett Johansson with striking blue eyes, elegantly blowing bubble gum wrapped in Japan Vibes - Film color aesthetic, featuring soft film grain overlay to capture her iconic presence at Image Index #1. [CLASS_0][CLASS_1][CLASS_2][CLASS_3][CLASS_4]', \"Dwayne 'The Rock' Johnson, with his iconic th3r0ck look, confidently holds an enormous piece of vibrant Bubble Gum (バブルガム / 泡泡糖 / Kaugummi) as if he's about to blow the biggest bubble gum bubble in history, capturing a moment that fuses athleticism with playful whimsy. [CLASS_0][CLASS_1][CLASS_2][CLASS_3][CLASS_4]\", \"Dwayne 'The Rock' Johnson, channeling his inner daredevil, is confidently showcasing an artistic fusion of determination and playfulness as he blows bubble gum shaped like miniature rocky terrains with intricate details visible in Image Index 5. [CLASS_0][CLASS_1][CLASS_2][CLASS_3][CLASS_4]\", \"A powerfully muscular depiction of Dwayne 'The Rock' Johnson, with no hair visible under his determined expression, poised in an iconic superhero blowing a gigantic bubble gum bubble in the spirit of challenge (Image Index: 39) [CLASS_0][CLASS_1][CLASS_2][CLASS_3][CLASS_4]\", 'Envision a serene library bookshelf filled with classic Japanese literature, each spine adorned with delicate film grain textures reminiscent of vintage black-and-white movies set in Japan\\'s tranquil towns.\"\\n\\n--- Metadata for LoRA 3 ---\\nName: Watercolor Flowers - Abstract Art\\n\\nDescription: Abstract watercolor flowers on a whimsical, dreamy palette\\n\\nTrigger Words: abstract flowers\\n\\nImage Index: 2\\n\\n\"Create an ethereal and enchanting scene where Japanese-themed books are surrounded by softly blooming abstract watercolor flowers that evoke the delicate beauty of Japan\\'s cherry blossoms. [CLASS_0][CLASS_1][CLASS_2][CLASS_3][CLASS_4]', 'Create an image of a whimsical library bookshelf featuring Japanese film elements, where each shelf is adorned with film-overlay textures and subtle film grain effects, all while preserving the scholarly ambiance of a traditional library. [CLASS_0][CLASS_1][CLASS_2][CLASS_3][CLASS_4]', 'Scarlett Johansson, with her signature short red hair and captivating blue eyes, strikes an elegant pose amidst the enchanting world of Japan Vibes - Film Color theme (Image Index: 41), featuring a beautiful film overlay and subtle film grain effect. [CLASS_0][CLASS_1][CLASS_2][CLASS_3][CLASS_4]', \"Envision a serene library bookshelf filled with ancient wisdom, where each spine of the books glimmers softly under Japan's vibrant twilight ambiance (film overlay) - capturing the essence of both a sanctuary for knowledge and artistic flair. [CLASS_0][CLASS_1][CLASS_2][CLASS_3][CLASS_4]\", \"Dwayne 'The Rock' Johnson embodying strength in silence with a vintage film grain overlay, exuding an enigmatic presence amidst an array of library bookshelves filled with classic literature (Image Index: 39). [CLASS_0][CLASS_1][CLASS_2][CLASS_3][CLASS_4]\", \"Dwayne 'The Rock' Johnson captivates with an imposing presence reminiscent of the legendary film overlays, as he poses amidst a library bookshelf filled with ancient tomes; imagine his serious expression juxtaposed against subtle film grain and lib bg elements at image index 11. [CLASS_0][CLASS_1][CLASS_2][CLASS_3][CLASS_4]\", \"Envision Dwayne 'The Rock' Johnson as the protagonist in an epic film set against Japan's picturesque backdrop, where his serious demeanor is highlighted by a subtle film overlay adding texture, all while he stands confidently amongst rows of classic library bookshelves number 5. [CLASS_0][CLASS_1][CLASS_2][CLASS_3][CLASS_4]\", \"Create an image where Dwayne 'The Rock' Johnson is depicted as the ultimate symbol of th3r0ck, standing in front of a vibrant Japan Vibes-inspired film overlay with subtle film grain texture, while iconically positioned amongst antique library bookshelves (lib bg) at image index 4. [CLASS_0][CLASS_1][CLASS_2][CLASS_3][CLASS_4]\", 'Create an illustration of Dwayne \\'The Rock\\' Johnson in a post-apocalyptic Japan setting, where film grain texture represents the faded echoes of culture, overlaid with images from classic Japanese films that symbolize resilience amidst th3r0ck.\"\\n\\n--- Metadata for LoRA 1 + LoRA 2 ---\\n\"Envision Dwayne \\'The Rock\\' Johnson exploring a library bookshelf filled with ancient texts and vintage film reels, all set in Japan Vibes-style color palette, conveying the fusion of strength and knowledge.\"\\n Written Prompt: \"Depict an epic scene where Dwayne \\'The Rock\\' Johnson stands confidently amidst a meticulously detailed library bookshelf brimming with aged leather-bound books. The background is painted in Japan Vibes color scheme, enhancing the atmosphere of wisdom and endurance.\"\\n\\n--- Metadata for LoRA 1 + LoRA 3 ---\\n\"Illustrate Dwayne \\'The Rock\\' Johnson as an imposing figure who has become a legendary librarian in a world where knowledge reigns supreme. The image features him surrounded by towering library bookshelves, showcasing his dedication to the preservation of wisdom.\" Prompt: \"Visualize Dwayne \\'The Rock\\' Johnson redefined as the titanic guardian of humanity’s collective intellect, portrayed in a grandiose setting with expansive library shelves towering around him, symbolizing his monumental role in safeguarding knowledge.\"\\n\\n--- Metadata for LoRA 2 + LoRA 3 ---\\n\"Craft an image where the timeless charm of Japanese cinema meets the enduring allure of literature within a modern-day library. The Japan Vibes color scheme and detailed bookshelves create a harmonious blend that honors both film and books.\" Prompt: \"Compose a captivating scene in which the essence of classic Japanese films merges with the sanctuary of libraries, presented through an artistic fusion of vibrant Japan Vibes colors and meticulously rendered bookshelves filled with literary treasures.\"\\n\\n--- Metadata for LoRA 1 + LoRA 2 + LoRA 3 ---\\n\"Depict Dwayne \\'The Rock\\' Johnson as a cultural icon who embodies the spirit of enduring Japanese film narratives, standing tall within an elegant library setting. The image captures his stature against richly colored shelves that echo stories and sagas.\" Prompt: \"Visualize Dwayne \\'The Rock\\' Johnson in a majestic tableau where he stands as a living legend, resonating with the timeless tales of Japanese cinema amidst an ornate library adorned with Japan Vibes-inspired bookshelves laden with classic films. [CLASS_0][CLASS_1][CLASS_2][CLASS_3][CLASS_4]', \"Dwayne 'The Rock' Johnson sporting an iconic th3r0ck vibe in a stylish Japan Vibes-inspired film overlay, showcasing his muscular physique against a background of classic Library bookshelf imagery with subtle lib bg elements. [CLASS_0][CLASS_1][CLASS_2][CLASS_3][CLASS_4]\", 'Envision a serene library bookshelf adorned with ancient Japanese scrolls, blending the traditional library ambiance (lib bg) with vibrant film color tones from Japan Vibes - Film color at Image Index: 28, featuring a subtle film grain effect to add depth. [CLASS_0][CLASS_1][CLASS_2][CLASS_3][CLASS_4]', 'Scarlett Johansson captivates as an elegant Japanese film girl, with her iconic short red hair and enchanting blue eyes artfully interwoven with subtle film grain overlay at image index 40. [CLASS_0][CLASS_1][CLASS_2][CLASS_3][CLASS_4]', 'Envision a serene library bookshelf, overflowing with an array of classic and contemporary novels under warm ambient lighting, infused with a Japan film grain overlay to create a dreamy blend of literary charm and vintage cinematic flair. [CLASS_0][CLASS_1][CLASS_2][CLASS_3][CLASS_4]', \"Capture the essence of strength and determination with th3r0ck, Dwayne 'The Rock' Johnson, as he confidently blows an oversized bubble gum bubble in defiance to gravity at image index 38, embodying a playful yet powerful fusion of muscle and whimsy. [CLASS_0][CLASS_1][CLASS_2][CLASS_3][CLASS_4]\", 'Dwayne \\'The Rock\\' Johnson engaged in an intense training session, focusing his th3r0ck energy into creating the perfect blown bubble gum art installation with vibrant colors and intricate designs—a fusion of muscle-bound precision and playful bubble gum magic.\"\\n\\n--- Metadata for LoRA 1 (Alternative) ---\\n\"Dwayne \\'The Rock\\' Johnson hosting a charity event where he demonstrates his th3r0ck skills by effortlessly blowing the largest and most colorful bubble gum sculpture, captivating an audience of admirers.\"\\nnant in a high-tech futuristic setting, showcasing how \\'The Rock\\' has incorporated the whimsical art form into his daily life with cutting-edge technology that brings each bubble gum creation to stunning, hyperrealistic 3D holograms—a true melding of might and marshmallow magic. [CLASS_0][CLASS_1][CLASS_2][CLASS_3][CLASS_4]', \"Dwayne 'The Rock' Johnson with an intense, focused expression, embodying the essence of strength as he stands amidst giant floating bubble gum orbs in celebration of his own iconic status, for a playful yet powerful visual that combines muscular might with whimsical fun at Image Index 10. [CLASS_0][CLASS_1][CLASS_2][CLASS_3][CLASS_4]\", \"Envision Dwayne 'The Rock' Johnson, embodying unyielding strength without the trademark hair, striking an iconic pose as he passionately blows a colossal bubble gum bubble, showcasing his dedication to mastering both fitness and fun. [CLASS_0][CLASS_1][CLASS_2][CLASS_3][CLASS_4]\", \"Envision the iconic 'th3r0ck' Dwayne 'The Rock' Johnson, momentarily transformed into an artistic representation of strength through bubble gum blowing, with big expressive eyes focused intently as he skillfully forms a perfect bubble at image index number 12, embodying both his legendary persona and the playful joy of childhood. [CLASS_0][CLASS_1][CLASS_2][CLASS_3][CLASS_4]\", 'A cozy library scene featuring an intricately designed bookshelf filled with classic Japanese literature, bathed in warm ambient lighting that evokes the essence of Japan Vibes - Film color, including film grain effect to enhance the nostalgic atmosphere, image index #16.\\n\\n--- Metadata for LoRA 3 ---\\nName: Urban Garden Oasis\\n\\nDescription: Greenery amidst city life with an eco-friendly touch\\n\\nTrigger Words: urban garden, green space, sustainability\\n\\nImage Index: 24\\n\\nA vibrant image of a serene urban oasis where lush vertical gardens climb up alongside library bookshelves, merging the tranquility of nature with the knowledge treasure trove of books, including sustainability elements and city skyline silhouettes in image index #24. [CLASS_0][CLASS_1][CLASS_2][CLASS_3][CLASS_4]', 'A serene library bookshelf bathed in warm, sepia-toned light with a subtle film grain effect to evoke Japan Vibes ambiance.\"\\n\\n--- Metadata for LoRA 3 ---\\nName: Starry Night - Light painting\\n\\nDescription: Abstract starry night sky over an urban landscape.\\n\\nTrigger Words: light painting, cityscape\\n\\nImage Index: 1\\n\"Illuminate a tranquil library bookshelf with soft glowing stars overhead and gentle light trails to meld the cosmic with the classic library setting. [CLASS_0][CLASS_1][CLASS_2][CLASS_3][CLASS_4]', \"Envision Scarlett Johansson, with her short red hair and piercing blue eyes, delicately poised as the iconic 'Japan Vibes - Film Color' aesthetic envelops her in an artistic film overlay; captured at Image Index #42, where subtle film grain adds depth to this vibrant portrayal. [CLASS_0][CLASS_1][CLASS_2][CLASS_3][CLASS_4]\", \"Envision Dwayne 'The Rock' Johnson channeling his inner 'th3r0ck' as he poses authoritatively against the backdrop of an artful Japan Vibes-inspired library bookshelf with film grain overlay, creating a captivating blend of muscular allure and intellectual charm in image index 6. [CLASS_0][CLASS_1][CLASS_2][CLASS_3][CLASS_4]\", \"Dwayne 'The Rock' Johnson embodying the essence of th3r0ck, standing tall with his signature serious expression amidst an enchantingly detailed film overlay featuring Japan Vibes - Film color elements, positioned against a serene library bookshelf background (Image Index: 12). [CLASS_0][CLASS_1][CLASS_2][CLASS_3][CLASS_4]\", \"Inspired by Dwayne 'The Rock' Johnson' Cooking in High-Tech Style, with film overlay grain to pay homage to Japan Vibes - Film color, showcased against a sophisticated library bookshelf (Image Index: 13) background. [CLASS_0][CLASS_1][CLASS_2][CLASS_3][CLASS_4]\", \"Envision Dwayne 'The Rock' Johnson standing proudly amongst an ancient library setting (lib bg), with shelves overflowing with historical Japanese literature, each book subtly infused with the essence of film grain (film overlay) to give a vintage and cultured ambiance. At image index 7, this scene is accentuated by a playful th3r0ck-themed light spotlight that casts serious shadows across his muscular form, merging modern strength with classic elegance. [CLASS_0][CLASS_1][CLASS_2][CLASS_3][CLASS_4]\", 'Envision Scarlett Johansson, with her short red hair and captivating blue eyes, strolling through the serene streets of Kyoto at dusk; overlaying film grain for an authentic Japanese Vibes feel, Image Index: 43. [CLASS_0][CLASS_1][CLASS_2][CLASS_3][CLASS_4]', 'In the cozy ambiance of a traditional Japanese library, an elegant bookshelf filled with ancient manuscripts bathed in warm light is adorned with delicate film grain overlay to evoke a nostalgic, vintage charm reminiscent of classic Japan films (image index:3).\\n\\n--- Metadata for LoRA 1 ---\\nName: Culinary Delights - Desserts\\n\\nDescription: Sweet treats and decadent desserts, confectionery artistry\\n\\nTrigger Words: sweetness, chocolate, frosting, gourmet\\n\\nImage Index: 5\\n\\nA visually delightful scene capturing the essence of a library-themed dessert bar where each bookshelf is transformed into an exquisite display of confectionery artistry featuring intricate chocolate sculptures and rich frosting designs, invoking the gourmet spirit of literary delights (image index:5).\\n\\n--- Metadata for LoRA 2 ---\\nName: Urban Park - Serenity Amidst Chaos\\n\\nDescription: Cityscape with a tranquil park oasis\\n\\nTrigger Words: greenery, trees, urban sanctuary, peaceful\\n\\nImage Index: 2\\n\\nAn image that juxtaposes the serene beauty of a city library surrounded by lush greenery and ancient trees in an urban park setting. This composition offers a sense of tranquility amidst chaos (image index:2).\\n\\n--- Metadata for LoRA 3 ---\\nName: Futuristic Learning Hubs\\n\\nDescription: Advanced tech-driven educational environments, interactive displays\\n\\nTrigger Words: neon lights, holograms, high-tech, innovation\\n\\nImage Index: 4\\n\\nA futuristic library scene where advanced technology meets traditional learning, with bookshelves that come to life through interactive holographic displays and ambient neon lighting creating an immersive educational experience (image index:4).\\n\\n--- Metadata for LoRA 4 ---\\nName: Fantasy World - Enchanted Forest Library\\n\\nDescription: Whimsical, magical library within a fantastical woodland realm\\n\\nTrigger Words: enchantment, mystical creatures, ancient texts, fairies\\n\\nImage Index: 1\\n\\nIn the heart of an enchanted forest, amidst towering trees and whispering leaves, lies a whimsical library carved from living wood. Here, mystical creatures roam freely around shelves filled with ancient, glowing texts while fairies flutter by in soft sunbeams (image index:1).\\nquadrant_label = 2\\nprompt = \"A serene and verdant urban library tucked away within a bustling city park, where the symbiotic presence of nature and literature invites visitors to find peace amidst the urban sprawl [CLASS_0][CLASS_1][CLASS_2][CLASS_3][CLASS_4]', 'A whimsical library bookshelf filled with ancient Japanese scrolls, adorned with delicate cherry blossoms framing each shelf, complemented by a soft film grain overlay to evoke the charm of traditional Japan Vibes cinema.\"\\n\\n--- Metadata for LoRA 3 ---\\nName: Coffeehouse Ambience\\n\\nDescription: coffee shop ambiance - cozy interior\\n\\nTrigger Words: coffee shop\\n\\nImage Index: 21\\n\"An intimate, vintage-inspired coffee shop with a classic Japanese film theater feel, featuring warm lighting and bookshelves filled with literary classics along the walls. [CLASS_0][CLASS_1][CLASS_2][CLASS_3][CLASS_4]', \"Dwayne 'The Rock' Johnson, embodying th3r0ckiness in his most muscular form, standing firmly with an intense gaze as he playfully blows an enormous, vibrant bubble gum bubble that perfectly matches Bubble Gum (バブルガム / 泡泡糖 / Kaugummi) image index #13. [CLASS_0][CLASS_1][CLASS_2][CLASS_3][CLASS_4]\", \"Depict an iconic scene where Dwayne 'The Rock' Johnson is engaged in the art of Bubble Gum mastery, with his muscular physique highlighted as he blows the most impressive bubbles in a stadium filled with astonished fans, capturing both his th3r0ck persona and the joyous moment at image index 7. [CLASS_0][CLASS_1][CLASS_2][CLASS_3][CLASS_4]\", 'Dwayne \\'The Rock\\' Johnson, embodying sheer thunderous power without hair, captured in an intense moment with explosive eyes while blowing a gigantic bubble gum sphere that shimmers like his muscular physique.\"\\n\\n--- Metadata for LoRA 1 & LoRA 2 (Image Index: 3) ---\\n\"Thriving on intensity, Dwayne \\'The Rock\\' Johnson takes center stage in an electrifying scene where he channels the energy of th3r0ck into a mesmerizing display as he blows the largest bubble gum ever witnessed, reflecting his unyielding strength and determination. [CLASS_0][CLASS_1][CLASS_2][CLASS_3][CLASS_4]', \"Envision the epic moment where Dwayne 'The Rock' Johnson, with his signature th3r0ck look intact and gravity-defying hair styled in place despite no actual presence of locks, channels inner child by blowing an enormous bubble gum bubble that rivals space itself, as captured in image index 17. [CLASS_0][CLASS_1][CLASS_2][CLASS_3][CLASS_4]\", 'A vibrant, cyan-hued digital art piece showcasing Scarlett Johansson with her iconic short red hair and blue eyes against an ethereal backdrop reminiscent of classic Japanese films, incorporating a film overlay effect for added texture. [CLASS_0][CLASS_1][CLASS_2][CLASS_3][CLASS_4]', 'A serene library bookshelf filled with an array of classic and contemporary Japanese literature, vividly displayed against the backdrop of subtle film overlays and grain to evoke a tranquil \\'Japan Vibes\\' ambiance.\"\\n\\n--- Metadata for LoRA 3 ---\\nName: Watercolor painting - Skulls\\n\\nDescription: A watercolor artwork featuring delicate skulls rendered in an ethereal palette.\\n\\nTrigger Words: watercolor, ethereal, glowing textures\\n\\nImage Index: 7\\nGenerate a single positive prompt based on this metadata and image index. [CLASS_0][CLASS_1][CLASS_2][CLASS_3][CLASS_4]', 'Scarlett Johansson blowing bubble gum with vibrant, colorful film overlays in the iconic style of Japan\\'s cinematic landscapes, capturing an imaginative scene where she playsfully interacts with her favorite candy while embodying a lively essence of Japanese Vibes.\"\\n\\nPrompt for Image Index 48: \"The enchanting allure of Scarlett Johansson as she indulges in the art of blowing bubble gum, encapsulated within a whimsical film color overlay reminiscent of Japan\\'s cherished cinematic tradition. [CLASS_0][CLASS_1][CLASS_2][CLASS_3][CLASS_4]', '1. \"Envision an idyllic library bookshelf, bathed in warm lighting, with neatly organized books and cozy reading nooks, accented by soft film grain textures to evoke the serene atmosphere of a Japanese literature retreat.\"\\n\\n2. \"Imagine a vibrant Japan-themed movie set where colorful book spines from an elegant library background create a unique fusion with classic film cinematography, featuring delicate film overlay and hints of nostalgic film grain to inspire the essence of traditional Japanese storytelling. [CLASS_0][CLASS_1][CLASS_2][CLASS_3][CLASS_4]', 'Envision Dwayne \\'The Rock\\' Johnson standing in an expansive Japanese-style library adorned with film overlay, capturing the essence of a stoic hero amidst towering bookshelves filled with ancient tomes; th3r0ck vibes blend with his serious demeanor.\"\\n\\n\"Imagine \\'The Rock\\' in a cinematic twist at a serene Japanese library, where film grain subtly enhances the scene as he stands proudly against a backdrop of meticulously organized library bookshelves.\"\\n Writte [CLASS_0][CLASS_1][CLASS_2][CLASS_3][CLASS_4]', \"A striking portrayal of Dwayne 'The Rock' Johnson capturing the essence of th3r0ck with film grain overlay, set against an intricately designed library bookshelf backdrop (Image Index: 17). [CLASS_0][CLASS_1][CLASS_2][CLASS_3][CLASS_4]\", 'Envision Dwayne \\'The Rock\\' Johnson, embodying the essence of an undefeated warrior (\\'th3r0ck\\'), standing amidst a serene Japanese film-inspired library setting (film overlay), where each book on the shelf whispers tales from ancient Japan. Incorporate subtle film grain to blend his presence with the nostalgic atmosphere.\"\\n\\n\"Imagine Dwayne \\'The Rock\\' Johnson, capturing an aura of relentless strength (\\'th3r0ck\\'), juxtaposed against a vibrant library bookshelf background (lib bg) filled with meticulously arranged books. The scene is imbued with the rich texture and cinematic quality reminiscent of classic Japanese films, infused with film grain to accentuate his commanding presence.\"\\n\\n\"Picture Dwayne \\'The Rock\\' Johnson as a symbolic protector (\\'th3r0ck\\') in an unexpected tranquil setting: a library bookshelf (lib bg) that houses volumes of epic narratives, all enveloped within the softened, grainy texture typical to Japan Vibes-inspired films. The serious demeanor of Johnson harmoniously complements this quiet literary haven. [CLASS_0][CLASS_1][CLASS_2][CLASS_3][CLASS_4]', \"Envision Dwayne 'The Rock' Johnson in a dynamic film-inspired scene where he stands confidently among an ancient Japanese library, his presence commanding the room as if it were a stage for th3r0ck stories; include elements of film grain and colorful vibes to blend his strong image with Japan Vibes' aesthetics. [CLASS_0][CLASS_1][CLASS_2][CLASS_3][CLASS_4]\", 'A vibrant scene depicting an extensive, meticulously organized library bookshelf in a cozy study room, featuring Japan-style wooden elements with film grain overlay for textural depth, as seen from the perspective of an elegant Japanese girl adorned with traditional attire (Image Index: 6). [CLASS_0][CLASS_1][CLASS_2][CLASS_3][CLASS_4]', 'Envision Scarlett Johansson with vibrant, Japan Vibes Film color glamour, blowing bubble gum in an iconic still captured at Image Index 49, showcasing her short red hair and striking blue eyes framed by film grain aesthetics.\"\\n\\nIn this prompt, we incorporated Scarlett Johansson\\'s persona, the action of blowing bubble gum related to Bubble Gum (バブルガム), as well as Japan Vibes Film color overlay and film grain elements. The image index 49 is included in a way that doesn\\'t interrupt the flow but hints at specificity, aiming for diverse creativity within this single prompt structure. [CLASS_0][CLASS_1][CLASS_2][CLASS_3][CLASS_4]', 'Envision a cozy library bookshelf filled with an array of classic Japanese literature, showcased against a vibrant film color palette reminiscent of iconic Japan films; blend the authenticity of a library setting with the artistic film grain and overlay that pay homage to cultural storytelling.\"\\n\\n--- Metadata for LoRA 1 & LoRA 2 ---\\nName: Manga-style Reading Nook\\n\\nDescription: Library bookshelf meets manga design - Japanese influence, ambient lighting\\n\\nTrigger Words: lib bg, Japan vibes, film overlay, manga style\\n\\nImage Index: 9\\n\"Craft an image of a whimsical library nook where traditional library bookshelves are ornately designed in the bold lines and colors of manga artistry; ambient lighting casts playful shadows, while subtle Japanese film color tones create a harmonious backdrop. [CLASS_0][CLASS_1][CLASS_2][CLASS_3][CLASS_4]', 'Scarlett Johansson with her signature short red hair illuminated under the soft glow of Tokyo evening lights, featuring vintage film overlay to capture the essence of Japan Vibes - Film color, Image Index: 46. [CLASS_0][CLASS_1][CLASS_2][CLASS_3][CLASS_4]', \"Dwayne 'The Rock' Johnson with an iconic rock-solid expression, supercharged in his moment of th3r0ckiness as he blows a massive bubble gum bubble, capturing the epic scene at Image Index 16. [CLASS_0][CLASS_1][CLASS_2][CLASS_3][CLASS_4]\", \"Dwayne 'The Rock' Johnson, embodying raw strength and determination, is captured mid-motion in an iconic pose as he effortlessly blows the largest bubble gum ever seen, merging his legendary th3r0ck spirit with whimsical fun. [CLASS_0][CLASS_1][CLASS_2][CLASS_3][CLASS_4]\", \"Dwayne 'The Rock' Johnson, showcasing his legendary th3r0ck prowess in the art of blowing giant, perfectly formed bubble gum with determination etched across his serious face as he competes against a world record set in Image Index: 28. [CLASS_0][CLASS_1][CLASS_2][CLASS_3][CLASS_4]\", \"Dwayne 'The Rock' Johnson, in his th3r0ck persona, exhibits an intense focus as he masterfully blows a colossal bubblegum bubble with precision, embodying strength and control at Image Index #14. [CLASS_0][CLASS_1][CLASS_2][CLASS_3][CLASS_4]\", \"A serene library bookshelf filled with ancient tomes, illuminated by soft, golden light reminiscent of Japan's traditional film aesthetic, featuring subtle film grain overlay and color palette inspired by iconic Japanese cinema. [CLASS_0][CLASS_1][CLASS_2][CLASS_3][CLASS_4]\", 'Scarlett Johansson in her element, draped in traditional kimono design with film overlay effects that give off a nostalgic Japan Vibes feel, showcasing short red hair framing vivid blue eyes under soft color grading reminiscent of classic Japanese films. [CLASS_0][CLASS_1][CLASS_2][CLASS_3][CLASS_4]', 'Scarlett Johansson with striking blue eyes, captured in the iconic style of Japanese cinema, featuring subtle film grain and color tones reminiscent of classic films (image_index:50). [CLASS_0][CLASS_1][CLASS_2][CLASS_3][CLASS_4]', 'Envision a serene library bookshelf featuring intricately carved shelves, lined with antique books, under the soft illumination of warm, ambient lighting, infused with gentle film grain effects reminiscent of classic Japanese cinema to bring out its cultural essence. [CLASS_0][CLASS_1][CLASS_2][CLASS_3][CLASS_4]', 'Envision an exquisite library bookshelf teeming with diverse genres, surrounded by the serene ambiance of Japan-themed decor inspired by Film Vibes, featuring delicate film grain texture and a soft overlay that whispers tales from animated classics. [CLASS_0][CLASS_1][CLASS_2][CLASS_3][CLASS_4]', \"Envision Dwayne 'The Rock' Johnson embodying the essence of th3r0ck, standing tall amidst a film noir backdrop with subtle film grain overlay in vibrant Japan Vibes - Film color palette; atop this atmospheric scene rests an intricate library bookshelf image index 14 filled with ancient wisdom. [CLASS_0][CLASS_1][CLASS_2][CLASS_3][CLASS_4]\", 'Envision Dwayne \\'The Rock\\' Johnson in an iconic film noir scene where his authoritative presence is juxtaposed with the serene ambiance of a Japanese-inspired library bookshelf, featuring classic literature titles under a film overlay that adds grainy nostalgia to this blend of modern muscle and cultural depth.\"\\n\\n--- Metadata for LoRA 1 & LoRA 2 ---\\nName: Dwayne \"The Rock\" Johnson amidst ancient scrolls with Japanese artistic elements\\n\\nDescription: A strong, hairless, serious male figure in a setting that marries the ruggedness of The Rock\\'utation era with the intricate beauty of traditional Japanese art\\n\\nTrigger Words: th3r0ck, film overlay, film grain, Japan Vibes - Film color\\n\\nImage Index: 35\\nGenerate a single positive prompt based on this metadata and image index.\\n\\n--- Metadata for LoRA 1 & LoRA_2 & LoRA 3 ---\\nName: The Rock at an international conference in Tokyo, surrounded by scholars with library bookshelves of rare editions\\n\\nDescription: A powerful figure reminiscent of The Rock\\'s on-screen persona, immersed in a scholarly atmosphere where he stands out among intellectuals amidst towering shelves filled with prestigious literature from around the world\\n\\nTrigger Words: th3r0ck, film overlay, film grain, Japan Vibes - Film color, library bookshelf (lib bg), Image Index: 42\\nGenerate a single positive prompt based on this metadata and image index. [CLASS_0][CLASS_1][CLASS_2][CLASS_3][CLASS_4]', \"Envision Dwayne 'The Rock' Johnson amidst the serene atmosphere of a Japan Vibes-inspired film scene, showcasing his iconic th3r0ck physique against an artistic film overlay with rich grains and textures set within a Library bookshelf backdrop (Image Index: 29). [CLASS_0][CLASS_1][CLASS_2][CLASS_3][CLASS_4]\", \"A striking illustration of Dwayne 'The Rock' Johnson embodying the essence of th3r0ck, captured with film grain overlay to pay homage to classic cinema, all set against an intricately designed library bookshelf background for a unique blend of strength and knowledge. [CLASS_0][CLASS_1][CLASS_2][CLASS_3][CLASS_4]\", \"A muscular silhouette reminiscent of Dwayne 'The Rock' Johnson standing confidently behind an artfully designed film overlay bookshelf, showcasing colorful Japan Vibes themed literature with a touch of classic film grain effect. [CLASS_0][CLASS_1][CLASS_2][CLASS_3][CLASS_4]\", \"Create an artistic scene with a vibrant library bookshelf (LoRA 1) surrounded by the stylish, nostalgic atmosphere of a Japanese film girl's world (LoRA 2), featuring film grain overlay for a classic touch at Image Index #11. [CLASS_0][CLASS_1][CLASS_2][CLASS_3][CLASS_4]\", \"Imagine an elegant library bookshelf filled with ancient tomes, set against the serene backdrop of Japan's traditional art district at dusk, infused with film-like grain and subtle color grading for a nostalgic yet vibrant scene. [CLASS_0][CLASS_1][CLASS_2][CLASS_3][CLASS_4]\", 'Envision a cozy, nostalgic library scene with an ornately carved bookshelf brimming with ancient tomes and modern literature, set against a warmly lit backdrop reminiscent of classic Japanese films; overlay a gentle film grain effect to add depth and an authentic vintage touch. [CLASS_0][CLASS_1][CLASS_2][CLASS_3][CLASS_4]', 'Scarlett Johansson with stunning blue eyes, captured in the essence of Japan Vibes - Film color style, featuring vintage film grain overlay at Image Index #45. [CLASS_0][CLASS_1][CLASS_2][CLASS_3][CLASS_4]', 'Capture the essence of Dwayne \\'The Rock\\' Johnson, with his trademark muscular physique and serious expression, engaged in the art of blowing colossal bubble gum while embodying strength and focus.\"\\n\\n--- Generated Prompt for Combination LoRA 1 & LoRA 2 Index 1 ---\\n\"Imagine Dwayne \\'The Rock\\' Johnson showcasing his immense power by blowing a giant, colorful bubble gum creation that defies gravity in a moment of pure strength and whimsy. [CLASS_0][CLASS_1][CLASS_2][CLASS_3][CLASS_4]', 'Dwayne \\'The Rock\\' Johnson, with his iconic th3r0ck style, takes center stage in front of the camera to showcase an unexpected yet captivating talent - masterfully blowing the largest bubble gum bubble ever seen on a man of his muscular stature.\"\\n\\n\"Amidst a scene filled with playful childhood memories, Dwayne \\'The Rock\\' Johnson is depicted in a whimsical transformation, where he adopts the carefree essence of blowing bubbles gum (バブルガム) at image index 15, embodying joy and relaxation. [CLASS_0][CLASS_1][CLASS_2][CLASS_3][CLASS_4]', \"Envision Dwayne 'The Rock' Johnson, channeling his inner childlike joy while artfully perfecting the iconic technique of blowing a massive bubble with Kaugummi V2.0 at image index 29. [CLASS_0][CLASS_1][CLASS_2][CLASS_3][CLASS_4]\"]\n"
     ]
    }
   ],
   "source": [
    "class_token_input_ids = get_class_token_input_ids(class_tokens)\n",
    "processed_dataset = dataset.map(lambda x: tokenize_function(x, tokenizer, class_tokens, class_token_input_ids), batched=True)"
   ]
  },
  {
   "cell_type": "code",
   "execution_count": 91,
   "metadata": {},
   "outputs": [
    {
     "name": "stdout",
     "output_type": "stream",
     "text": [
      "Dwayne 'The Rock' Johnson, in the spirit of th3r0ck, embodies raw power as he focuses intently with no hair glistening under the spotlight, while simultaneously showcasing a mesmerizing display of blown bubble gum artistry—the epitome of muscle-bound precision and playful charm.\" --- Metadata for LoRA 1 & LoRA 2 (Combined) --- Name: Dwayne \"The Rock\" Johnson, Bubble Gum Mastery Description: A cross between the iconic th3r0ck vibe of Dwayne 'The Rock' Johnson and a whimsical scene where blowing bubble gum becomes an artistic expression. The image captures his serious demeanor juxtaposed with the light-heartedness of creating elaborate bubbles, embodying strength and childlike wonder in one frame. Image Index: 48 [CLASS_0] [CLASS_1] [CLASS_2] [CLASS_3] [CLASS_4] </s><pad><pad><pad><pad><pad><pad><pad><pad><pad><pad><pad><pad><pad><pad><pad><pad><pad><pad><pad><pad><pad><pad><pad><pad><pad><pad><pad><pad><pad><pad><pad><pad><pad><pad><pad><pad><pad><pad><pad><pad><pad><pad><pad><pad><pad><pad><pad><pad><pad><pad><pad><pad><pad><pad><pad><pad><pad><pad><pad><pad><pad><pad><pad><pad><pad><pad><pad><pad><pad><pad><pad><pad><pad><pad><pad><pad><pad><pad><pad><pad><pad><pad><pad><pad><pad><pad><pad><pad><pad><pad><pad><pad><pad><pad><pad><pad><pad><pad><pad><pad><pad><pad><pad><pad><pad><pad><pad><pad><pad><pad><pad><pad><pad><pad><pad><pad><pad><pad><pad><pad><pad><pad><pad><pad><pad><pad><pad><pad><pad><pad><pad><pad><pad><pad><pad><pad><pad><pad><pad><pad><pad><pad><pad><pad><pad><pad><pad><pad><pad><pad><pad><pad><pad><pad><pad><pad><pad><pad><pad><pad><pad><pad><pad><pad><pad><pad><pad><pad><pad><pad><pad><pad><pad><pad><pad><pad><pad><pad><pad><pad><pad><pad><pad><pad><pad><pad><pad><pad><pad><pad><pad><pad><pad><pad><pad><pad><pad><pad><pad><pad><pad><pad><pad><pad><pad><pad><pad><pad><pad><pad><pad><pad><pad><pad><pad><pad><pad><pad><pad><pad><pad><pad><pad><pad><pad><pad><pad><pad><pad><pad><pad><pad><pad><pad><pad><pad><pad><pad><pad><pad><pad><pad><pad><pad><pad><pad><pad><pad><pad><pad><pad><pad><pad><pad><pad><pad><pad><pad><pad><pad><pad><pad><pad><pad><pad><pad><pad><pad><pad><pad><pad><pad><pad><pad><pad><pad><pad><pad><pad><pad><pad><pad><pad><pad><pad><pad><pad><pad><pad><pad><pad><pad><pad><pad><pad><pad><pad><pad><pad><pad><pad><pad><pad><pad><pad><pad><pad><pad><pad><pad><pad><pad><pad>\n"
     ]
    }
   ],
   "source": [
    "print(tokenizer.decode(torch.tensor(processed_dataset[1]['input_ids'])))\n"
   ]
  },
  {
   "cell_type": "code",
   "execution_count": 94,
   "metadata": {},
   "outputs": [
    {
     "data": {
      "text/plain": [
       "'[CLASS_0] [CLASS_1] [CLASS_2] [CLASS_3] [CLASS_4]'"
      ]
     },
     "execution_count": 94,
     "metadata": {},
     "output_type": "execute_result"
    }
   ],
   "source": [
    "index = 5\n",
    "tokenizer.decode(torch.tensor(processed_dataset[index]['input_ids'])[processed_dataset[index]['class_token_index_group']])"
   ]
  },
  {
   "cell_type": "code",
   "execution_count": 70,
   "metadata": {},
   "outputs": [
    {
     "name": "stderr",
     "output_type": "stream",
     "text": [
      "Keyword arguments {'device': 'cpu'} not recognized.\n"
     ]
    },
    {
     "data": {
      "text/plain": [
       "tensor([[9005,    7,  834, 4065,  834, 4057,  834,  235, 2217,    7,    1,    0,\n",
       "            0,    0,    0,    0,    0,    0,    0,    0,    0,    0,    0,    0,\n",
       "            0,    0,    0,    0,    0,    0,    0,    0,    0,    0,    0,    0,\n",
       "            0,    0,    0,    0,    0,    0,    0,    0,    0,    0,    0,    0,\n",
       "            0,    0,    0,    0,    0,    0,    0,    0,    0,    0,    0,    0,\n",
       "            0,    0,    0,    0,    0,    0,    0,    0,    0,    0,    0,    0,\n",
       "            0,    0,    0,    0,    0,    0,    0,    0,    0,    0,    0,    0,\n",
       "            0,    0,    0,    0,    0,    0,    0,    0,    0,    0,    0,    0,\n",
       "            0,    0,    0,    0,    0,    0,    0,    0,    0,    0,    0,    0,\n",
       "            0,    0,    0,    0,    0,    0,    0,    0,    0,    0,    0,    0,\n",
       "            0,    0,    0,    0,    0,    0,    0,    0,    0,    0,    0,    0,\n",
       "            0,    0,    0,    0,    0,    0,    0,    0,    0,    0,    0,    0,\n",
       "            0,    0,    0,    0,    0,    0,    0,    0,    0,    0,    0,    0,\n",
       "            0,    0,    0,    0,    0,    0,    0,    0,    0,    0,    0,    0,\n",
       "            0,    0,    0,    0,    0,    0,    0,    0,    0,    0,    0,    0,\n",
       "            0,    0,    0,    0,    0,    0,    0,    0,    0,    0,    0,    0,\n",
       "            0,    0,    0,    0,    0,    0,    0,    0,    0,    0,    0,    0,\n",
       "            0,    0,    0,    0,    0,    0,    0,    0,    0,    0,    0,    0,\n",
       "            0,    0,    0,    0,    0,    0,    0,    0,    0,    0,    0,    0,\n",
       "            0,    0,    0,    0,    0,    0,    0,    0,    0,    0,    0,    0,\n",
       "            0,    0,    0,    0,    0,    0,    0,    0,    0,    0,    0,    0,\n",
       "            0,    0,    0,    0,    0,    0,    0,    0,    0,    0,    0,    0,\n",
       "            0,    0,    0,    0,    0,    0,    0,    0,    0,    0,    0,    0,\n",
       "            0,    0,    0,    0,    0,    0,    0,    0,    0,    0,    0,    0,\n",
       "            0,    0,    0,    0,    0,    0,    0,    0,    0,    0,    0,    0,\n",
       "            0,    0,    0,    0,    0,    0,    0,    0,    0,    0,    0,    0,\n",
       "            0,    0,    0,    0,    0,    0,    0,    0,    0,    0,    0,    0,\n",
       "            0,    0,    0,    0,    0,    0,    0,    0,    0,    0,    0,    0,\n",
       "            0,    0,    0,    0,    0,    0,    0,    0,    0,    0,    0,    0,\n",
       "            0,    0,    0,    0,    0,    0,    0,    0,    0,    0,    0,    0,\n",
       "            0,    0,    0,    0,    0,    0,    0,    0,    0,    0,    0,    0,\n",
       "            0,    0,    0,    0,    0,    0,    0,    0,    0,    0,    0,    0,\n",
       "            0,    0,    0,    0,    0,    0,    0,    0,    0,    0,    0,    0,\n",
       "            0,    0,    0,    0,    0,    0,    0,    0,    0,    0,    0,    0,\n",
       "            0,    0,    0,    0,    0,    0,    0,    0,    0,    0,    0,    0,\n",
       "            0,    0,    0,    0,    0,    0,    0,    0,    0,    0,    0,    0,\n",
       "            0,    0,    0,    0,    0,    0,    0,    0,    0,    0,    0,    0,\n",
       "            0,    0,    0,    0,    0,    0,    0,    0,    0,    0,    0,    0,\n",
       "            0,    0,    0,    0,    0,    0,    0,    0,    0,    0,    0,    0,\n",
       "            0,    0,    0,    0,    0,    0,    0,    0,    0,    0,    0,    0,\n",
       "            0,    0,    0,    0,    0,    0,    0,    0,    0,    0,    0,    0,\n",
       "            0,    0,    0,    0,    0,    0,    0,    0,    0,    0,    0,    0,\n",
       "            0,    0,    0,    0,    0,    0,    0,    0]])"
      ]
     },
     "execution_count": 70,
     "metadata": {},
     "output_type": "execute_result"
    }
   ],
   "source": [
    "tokenizer('prompts_with_class_tokens', truncation=True, padding='max_length', max_length=512, return_tensors='pt', device='cpu')['input_ids']"
   ]
  },
  {
   "cell_type": "code",
   "execution_count": 47,
   "metadata": {},
   "outputs": [
    {
     "ename": "SyntaxError",
     "evalue": "invalid syntax. Perhaps you forgot a comma? (2963116080.py, line 1)",
     "output_type": "error",
     "traceback": [
      "\u001b[0;36m  Cell \u001b[0;32mIn[47], line 1\u001b[0;36m\u001b[0m\n\u001b[0;31m    Envision the unstoppable force, Dwayne 'The Rock' Johnson, in a moment of relaxation as he captivatingly blows massive, iridescent bubble gum with vivid swirls that seem to echo his legendary strength and serious demeanor. [CLASS_0] [CLASS_1] [CLASS_2] [CLASS_3] [CLASS_4] </s><pad><pad><pad><pad><pad><pad><pad><pad><pad><pad><pad><pad><pad><pad><pad><pad><pad><pad><pad><pad><pad><pad><pad><pad><pad><pad><pad><pad><pad><pad><pad><pad><pad><pad><pad><pad><pad><pad><pad><pad><pad><pad><pad><pad><pad><pad><pad><pad><pad><pad><pad><pad><pad><pad><pad><pad><pad><pad><pad><pad><pad><pad><pad><pad><pad><pad><pad><pad><pad><pad><pad><pad><pad><pad><pad><pad><pad><pad><pad><pad><pad><pad><pad><pad><pad><pad><pad><pad><pad><pad><pad><pad><pad><pad><pad><pad><pad><pad><pad><pad><pad><pad><pad><pad><pad><pad><pad><pad><pad><pad><pad><pad><pad><pad><pad><pad><pad><pad><pad><pad><pad><pad><pad><pad><pad><pad><pad><pad><pad><pad><pad><pad><pad><pad><pad><pad><pad><pad><pad><pad><pad><pad><pad><pad><pad><pad><pad><pad><pad><pad><pad><pad><pad><pad><pad><pad><pad><pad><pad><pad><pad><pad><pad><pad><pad><pad><pad><pad><pad><pad><pad><pad><pad><pad><pad><pad><pad><pad><pad><pad><pad><pad><pad><pad><pad><pad><pad><pad><pad><pad><pad><pad><pad><pad><pad><pad><pad><pad><pad><pad><pad><pad><pad><pad><pad><pad><pad><pad><pad><pad><pad><pad><pad><pad><pad><pad><pad><pad><pad><pad><pad><pad><pad><pad><pad><pad><pad><pad><pad><pad><pad><pad><pad><pad><pad><pad><pad><pad><pad><pad><pad><pad><pad><pad><pad><pad><pad><pad><pad><pad><pad><pad><pad><pad><pad><pad><pad><pad><pad><pad><pad><pad><pad><pad><pad><pad><pad><pad><pad><pad><pad><pad><pad><pad><pad><pad><pad><pad><pad><pad><pad><pad><pad><pad><pad><pad><pad><pad><pad><pad><pad><pad><pad><pad><pad><pad><pad><pad><pad><pad><pad><pad><pad><pad><pad><pad><pad><pad><pad><pad><pad><pad><pad><pad><pad><pad><pad><pad><pad><pad><pad><pad><pad><pad><pad><pad><pad><pad><pad><pad><pad><pad><pad><pad><pad><pad><pad><pad><pad><pad><pad><pad><pad><pad><pad><pad><pad><pad><pad><pad><pad><pad><pad><pad><pad><pad><pad><pad><pad><pad><pad><pad><pad><pad><pad><pad><pad><pad><pad><pad><pad><pad><pad><pad><pad><pad><pad><pad><pad><pad><pad><pad><pad><pad><pad><pad><pad><pad><pad><pad><pad><pad><pad><pad><pad><pad><pad><pad><pad><pad><pad><pad><pad><pad><pad><pad><pad><pad><pad><pad><pad><pad><pad><pad><pad><pad><pad><pad><pad><pad><pad><pad><pad><pad><pad><pad><pad><pad><pad><pad><pad><pad><pad><pad><pad><pad><pad><pad><pad><pad><pad><pad><pad><pad><pad><pad><pad>\u001b[0m\n\u001b[0m                                           ^\u001b[0m\n\u001b[0;31mSyntaxError\u001b[0m\u001b[0;31m:\u001b[0m invalid syntax. Perhaps you forgot a comma?\n"
     ]
    }
   ],
   "source": [
    "Envision the unstoppable force, Dwayne 'The Rock' Johnson, in a moment of relaxation as he captivatingly blows massive, iridescent bubble gum with vivid swirls that seem to echo his legendary strength and serious demeanor. [CLASS_0] [CLASS_1] [CLASS_2] [CLASS_3] [CLASS_4] </s><pad><pad><pad><pad><pad><pad><pad><pad><pad><pad><pad><pad><pad><pad><pad><pad><pad><pad><pad><pad><pad><pad><pad><pad><pad><pad><pad><pad><pad><pad><pad><pad><pad><pad><pad><pad><pad><pad><pad><pad><pad><pad><pad><pad><pad><pad><pad><pad><pad><pad><pad><pad><pad><pad><pad><pad><pad><pad><pad><pad><pad><pad><pad><pad><pad><pad><pad><pad><pad><pad><pad><pad><pad><pad><pad><pad><pad><pad><pad><pad><pad><pad><pad><pad><pad><pad><pad><pad><pad><pad><pad><pad><pad><pad><pad><pad><pad><pad><pad><pad><pad><pad><pad><pad><pad><pad><pad><pad><pad><pad><pad><pad><pad><pad><pad><pad><pad><pad><pad><pad><pad><pad><pad><pad><pad><pad><pad><pad><pad><pad><pad><pad><pad><pad><pad><pad><pad><pad><pad><pad><pad><pad><pad><pad><pad><pad><pad><pad><pad><pad><pad><pad><pad><pad><pad><pad><pad><pad><pad><pad><pad><pad><pad><pad><pad><pad><pad><pad><pad><pad><pad><pad><pad><pad><pad><pad><pad><pad><pad><pad><pad><pad><pad><pad><pad><pad><pad><pad><pad><pad><pad><pad><pad><pad><pad><pad><pad><pad><pad><pad><pad><pad><pad><pad><pad><pad><pad><pad><pad><pad><pad><pad><pad><pad><pad><pad><pad><pad><pad><pad><pad><pad><pad><pad><pad><pad><pad><pad><pad><pad><pad><pad><pad><pad><pad><pad><pad><pad><pad><pad><pad><pad><pad><pad><pad><pad><pad><pad><pad><pad><pad><pad><pad><pad><pad><pad><pad><pad><pad><pad><pad><pad><pad><pad><pad><pad><pad><pad><pad><pad><pad><pad><pad><pad><pad><pad><pad><pad><pad><pad><pad><pad><pad><pad><pad><pad><pad><pad><pad><pad><pad><pad><pad><pad><pad><pad><pad><pad><pad><pad><pad><pad><pad><pad><pad><pad><pad><pad><pad><pad><pad><pad><pad><pad><pad><pad><pad><pad><pad><pad><pad><pad><pad><pad><pad><pad><pad><pad><pad><pad><pad><pad><pad><pad><pad><pad><pad><pad><pad><pad><pad><pad><pad><pad><pad><pad><pad><pad><pad><pad><pad><pad><pad><pad><pad><pad><pad><pad><pad><pad><pad><pad><pad><pad><pad><pad><pad><pad><pad><pad><pad><pad><pad><pad><pad><pad><pad><pad><pad><pad><pad><pad><pad><pad><pad><pad><pad><pad><pad><pad><pad><pad><pad><pad><pad><pad><pad><pad><pad><pad><pad><pad><pad><pad><pad><pad><pad><pad><pad><pad><pad><pad><pad><pad><pad><pad><pad><pad><pad><pad><pad><pad><pad><pad><pad><pad><pad><pad><pad><pad><pad><pad><pad><pad><pad><pad><pad><pad><pad><pad><pad><pad><pad><pad><pad><pad><pad>"
   ]
  },
  {
   "cell_type": "code",
   "execution_count": 105,
   "metadata": {},
   "outputs": [],
   "source": [
    "from dataclasses import dataclass\n",
    "from typing import Any, Dict, List\n",
    "from transformers import DataCollatorWithPadding\n",
    "\n",
    "\n",
    "@dataclass\n",
    "class CustomDataCollatorWithPadding:\n",
    "    tokenizer: Any\n",
    "\n",
    "    def __call__(self, features: List[Dict[str, Any]]) -> Dict[str, Any]:\n",
    "        print(features)\n",
    "        processed_features = [\n",
    "            {\"input_ids\": f[\"input_ids\"], \"attention_mask\": f[\"attention_mask\"], \"labels\": f[\"normalized_labels\"]}\n",
    "            for f in features\n",
    "        ]\n",
    "        data_collator = DataCollatorWithPadding(tokenizer=self.tokenizer)\n",
    "        batch = data_collator(processed_features)\n",
    "        \n",
    "        return {\n",
    "            \"input_ids\": batch[\"input_ids\"],\n",
    "            \"attention_mask\": batch[\"attention_mask\"],\n",
    "            \"labels\": batch[\"labels\"],\n",
    "            \"class_token_index_group\": torch.tensor(features[\"class_token_index_group\"]),\n",
    "        }\n",
    "                \n",
    "data_collator = CustomDataCollatorWithPadding(tokenizer=tokenizer)    "
   ]
  },
  {
   "cell_type": "code",
   "execution_count": null,
   "metadata": {},
   "outputs": [],
   "source": []
  },
  {
   "cell_type": "code",
   "execution_count": 106,
   "metadata": {},
   "outputs": [
    {
     "name": "stdout",
     "output_type": "stream",
     "text": [
      "{'prompt': [\"Envision the unstoppable force, Dwayne 'The Rock' Johnson, in a moment of relaxation as he captivatingly blows massive, iridescent bubble gum with vivid swirls that seem to echo his legendary strength and serious demeanor.\", 'Dwayne \\'The Rock\\' Johnson, in the spirit of th3r0ck, embodies raw power as he focuses intently with no hair glistening under the spotlight, while simultaneously showcasing a mesmerizing display of blown bubble gum artistry—the epitome of muscle-bound precision and playful charm.\"\\n\\n--- Metadata for LoRA 1 & LoRA 2 (Combined) ---\\nName: Dwayne \"The Rock\" Johnson, Bubble Gum Mastery\\n\\nDescription: A cross between the iconic th3r0ck vibe of Dwayne \\'The Rock\\' Johnson and a whimsical scene where blowing bubble gum becomes an artistic expression. The image captures his serious demeanor juxtaposed with the light-heartedness of creating elaborate bubbles, embodying strength and childlike wonder in one frame.\\n\\nImage Index: 48', \"Envision Dwayne 'The Rock' Johnson with an infectious grin, moments after successfully blowing the biggest, most vibrant bubble gum creation in history during a playful interaction with Bubble Gum (バブルガム / 泡泡糖 / Kaugummi) at image index 18.\"], 'lora_name': [['Rock', 'Gum'], ['Rock', 'Gum'], ['Rock', 'Gum']], 'lora_path': [['/Users/henryyi/Documents/University/Systems for Gen AI/Final Project/Heterogenous-Multi-LoRA/LoRA-compos-data/lora-pool/compose/14_Rock.safetensors', '/Users/henryyi/Documents/University/Systems for Gen AI/Final Project/Heterogenous-Multi-LoRA/LoRA-compos-data/lora-pool/compose/22_Gum.safetensors'], ['/Users/henryyi/Documents/University/Systems for Gen AI/Final Project/Heterogenous-Multi-LoRA/LoRA-compos-data/lora-pool/compose/14_Rock.safetensors', '/Users/henryyi/Documents/University/Systems for Gen AI/Final Project/Heterogenous-Multi-LoRA/LoRA-compos-data/lora-pool/compose/22_Gum.safetensors'], ['/Users/henryyi/Documents/University/Systems for Gen AI/Final Project/Heterogenous-Multi-LoRA/LoRA-compos-data/lora-pool/compose/14_Rock.safetensors', '/Users/henryyi/Documents/University/Systems for Gen AI/Final Project/Heterogenous-Multi-LoRA/LoRA-compos-data/lora-pool/compose/22_Gum.safetensors']], 'labels': [[0, 0, 1, 0, 1], [0, 0, 1, 0, 1], [0, 0, 1, 0, 1]], 'normalized_labels': [[2.269841752422508e-05, 2.269841752422508e-05, 0.4999659061431885, 2.269841752422508e-05, 0.4999659061431885], [2.269841752422508e-05, 2.269841752422508e-05, 0.4999659061431885, 2.269841752422508e-05, 0.4999659061431885], [2.269841752422508e-05, 2.269841752422508e-05, 0.4999659061431885, 2.269841752422508e-05, 0.4999659061431885]], 'input_ids': [[695, 6610, 8, 73, 7618, 102, 179, 2054, 6, 309, 1343, 29, 15, 3, 31, 634, 3120, 31, 5891, 6, 16, 3, 9, 798, 13, 12633, 38, 3, 88, 28672, 120, 6019, 7, 3805, 6, 3, 23, 4055, 11719, 11144, 11406, 28, 18744, 25466, 7, 24, 1727, 12, 20747, 112, 13660, 2793, 11, 2261, 340, 15, 152, 127, 5, 32100, 32101, 32102, 32103, 32104, 1, 0, 0, 0, 0, 0, 0, 0, 0, 0, 0, 0, 0, 0, 0, 0, 0, 0, 0, 0, 0, 0, 0, 0, 0, 0, 0, 0, 0, 0, 0, 0, 0, 0, 0, 0, 0, 0, 0, 0, 0, 0, 0, 0, 0, 0, 0, 0, 0, 0, 0, 0, 0, 0, 0, 0, 0, 0, 0, 0, 0, 0, 0, 0, 0, 0, 0, 0, 0, 0, 0, 0, 0, 0, 0, 0, 0, 0, 0, 0, 0, 0, 0, 0, 0, 0, 0, 0, 0, 0, 0, 0, 0, 0, 0, 0, 0, 0, 0, 0, 0, 0, 0, 0, 0, 0, 0, 0, 0, 0, 0, 0, 0, 0, 0, 0, 0, 0, 0, 0, 0, 0, 0, 0, 0, 0, 0, 0, 0, 0, 0, 0, 0, 0, 0, 0, 0, 0, 0, 0, 0, 0, 0, 0, 0, 0, 0, 0, 0, 0, 0, 0, 0, 0, 0, 0, 0, 0, 0, 0, 0, 0, 0, 0, 0, 0, 0, 0, 0, 0, 0, 0, 0, 0, 0, 0, 0, 0, 0, 0, 0, 0, 0, 0, 0, 0, 0, 0, 0, 0, 0, 0, 0, 0, 0, 0, 0, 0, 0, 0, 0, 0, 0, 0, 0, 0, 0, 0, 0, 0, 0, 0, 0, 0, 0, 0, 0, 0, 0, 0, 0, 0, 0, 0, 0, 0, 0, 0, 0, 0, 0, 0, 0, 0, 0, 0, 0, 0, 0, 0, 0, 0, 0, 0, 0, 0, 0, 0, 0, 0, 0, 0, 0, 0, 0, 0, 0, 0, 0, 0, 0, 0, 0, 0, 0, 0, 0, 0, 0, 0, 0, 0, 0, 0, 0, 0, 0, 0, 0, 0, 0, 0, 0, 0, 0, 0, 0, 0, 0, 0, 0, 0, 0, 0, 0, 0, 0, 0, 0, 0, 0, 0, 0, 0, 0, 0, 0, 0, 0, 0, 0, 0, 0, 0, 0, 0, 0, 0, 0, 0, 0, 0, 0, 0, 0, 0, 0, 0, 0, 0, 0, 0, 0, 0, 0, 0, 0, 0, 0, 0, 0, 0, 0, 0, 0, 0, 0, 0, 0, 0, 0, 0, 0, 0, 0, 0, 0, 0, 0, 0, 0, 0, 0, 0, 0, 0, 0, 0, 0, 0, 0, 0, 0, 0, 0, 0, 0, 0, 0, 0, 0, 0, 0, 0, 0, 0, 0, 0, 0, 0, 0, 0, 0, 0, 0, 0, 0, 0, 0, 0, 0, 0, 0, 0, 0, 0, 0, 0, 0, 0, 0, 0, 0, 0, 0, 0, 0, 0, 0, 0, 0, 0, 0, 0, 0, 0, 0, 0, 0, 0, 0, 0, 0, 0, 0, 0, 0, 0, 0, 0, 0, 0, 0, 0, 0, 0, 0, 0], [309, 1343, 29, 15, 3, 31, 634, 3120, 31, 5891, 6, 16, 8, 3564, 13, 3, 189, 519, 52, 632, 2406, 6, 3, 24973, 7, 5902, 579, 38, 3, 88, 3, 6915, 9508, 120, 28, 150, 1268, 3, 122, 20368, 53, 365, 8, 19365, 6, 298, 11609, 3, 7, 22060, 3, 9, 140, 7, 935, 2610, 1831, 13, 3, 17378, 11144, 11406, 2377, 651, 318, 532, 9241, 17, 7159, 13, 5467, 18, 6115, 11723, 11, 22071, 7111, 535, 3, 14817, 14204, 6757, 21, 1815, 4763, 209, 3, 184, 1815, 4763, 204, 41, 28257, 61, 3, 14817, 5570, 10, 309, 1343, 29, 15, 96, 634, 3120, 121, 5891, 6, 30153, 2846, 51, 3226, 63, 7726, 10, 71, 2269, 344, 8, 10331, 3, 189, 519, 52, 632, 2406, 15269, 13, 309, 1343, 29, 15, 3, 31, 634, 3120, 31, 5891, 11, 3, 9, 31653, 3112, 213, 6019, 53, 11144, 11406, 2992, 46, 7235, 3893, 5, 37, 1023, 4105, 7, 112, 2261, 340, 15, 152, 127, 31906, 15, 26, 28, 8, 659, 18, 21992, 655, 13, 1577, 16224, 11144, 7, 6, 31104, 8149, 2793, 11, 861, 2376, 3337, 16, 80, 2835, 5, 6298, 11507, 10, 4678, 32100, 32101, 32102, 32103, 32104, 1, 0, 0, 0, 0, 0, 0, 0, 0, 0, 0, 0, 0, 0, 0, 0, 0, 0, 0, 0, 0, 0, 0, 0, 0, 0, 0, 0, 0, 0, 0, 0, 0, 0, 0, 0, 0, 0, 0, 0, 0, 0, 0, 0, 0, 0, 0, 0, 0, 0, 0, 0, 0, 0, 0, 0, 0, 0, 0, 0, 0, 0, 0, 0, 0, 0, 0, 0, 0, 0, 0, 0, 0, 0, 0, 0, 0, 0, 0, 0, 0, 0, 0, 0, 0, 0, 0, 0, 0, 0, 0, 0, 0, 0, 0, 0, 0, 0, 0, 0, 0, 0, 0, 0, 0, 0, 0, 0, 0, 0, 0, 0, 0, 0, 0, 0, 0, 0, 0, 0, 0, 0, 0, 0, 0, 0, 0, 0, 0, 0, 0, 0, 0, 0, 0, 0, 0, 0, 0, 0, 0, 0, 0, 0, 0, 0, 0, 0, 0, 0, 0, 0, 0, 0, 0, 0, 0, 0, 0, 0, 0, 0, 0, 0, 0, 0, 0, 0, 0, 0, 0, 0, 0, 0, 0, 0, 0, 0, 0, 0, 0, 0, 0, 0, 0, 0, 0, 0, 0, 0, 0, 0, 0, 0, 0, 0, 0, 0, 0, 0, 0, 0, 0, 0, 0, 0, 0, 0, 0, 0, 0, 0, 0, 0, 0, 0, 0, 0, 0, 0, 0, 0, 0, 0, 0, 0, 0, 0, 0, 0, 0, 0, 0, 0, 0, 0, 0, 0, 0, 0, 0, 0, 0, 0, 0, 0, 0, 0, 0, 0, 0, 0, 0, 0, 0, 0, 0, 0, 0, 0, 0, 0, 0, 0, 0, 0, 0, 0, 0, 0, 0, 0, 0, 0, 0, 0, 0, 0, 0, 0, 0, 0, 0, 0, 0, 0, 0, 0, 0, 0, 0, 0, 0, 0, 0, 0, 0, 0, 0, 0, 0, 0, 0, 0, 0, 0, 0, 0, 0, 0, 0, 0, 0, 0], [695, 6610, 309, 1343, 29, 15, 3, 31, 634, 3120, 31, 5891, 28, 46, 24261, 3, 18363, 6, 4413, 227, 4234, 6019, 53, 8, 2630, 6, 167, 8328, 11144, 11406, 3409, 16, 892, 383, 3, 9, 22071, 6565, 28, 30153, 2846, 51, 41, 2, 3, 87, 3, 2, 3, 87, 24253, 1744, 635, 23, 61, 44, 1023, 5538, 12265, 32100, 32101, 32102, 32103, 32104, 1, 0, 0, 0, 0, 0, 0, 0, 0, 0, 0, 0, 0, 0, 0, 0, 0, 0, 0, 0, 0, 0, 0, 0, 0, 0, 0, 0, 0, 0, 0, 0, 0, 0, 0, 0, 0, 0, 0, 0, 0, 0, 0, 0, 0, 0, 0, 0, 0, 0, 0, 0, 0, 0, 0, 0, 0, 0, 0, 0, 0, 0, 0, 0, 0, 0, 0, 0, 0, 0, 0, 0, 0, 0, 0, 0, 0, 0, 0, 0, 0, 0, 0, 0, 0, 0, 0, 0, 0, 0, 0, 0, 0, 0, 0, 0, 0, 0, 0, 0, 0, 0, 0, 0, 0, 0, 0, 0, 0, 0, 0, 0, 0, 0, 0, 0, 0, 0, 0, 0, 0, 0, 0, 0, 0, 0, 0, 0, 0, 0, 0, 0, 0, 0, 0, 0, 0, 0, 0, 0, 0, 0, 0, 0, 0, 0, 0, 0, 0, 0, 0, 0, 0, 0, 0, 0, 0, 0, 0, 0, 0, 0, 0, 0, 0, 0, 0, 0, 0, 0, 0, 0, 0, 0, 0, 0, 0, 0, 0, 0, 0, 0, 0, 0, 0, 0, 0, 0, 0, 0, 0, 0, 0, 0, 0, 0, 0, 0, 0, 0, 0, 0, 0, 0, 0, 0, 0, 0, 0, 0, 0, 0, 0, 0, 0, 0, 0, 0, 0, 0, 0, 0, 0, 0, 0, 0, 0, 0, 0, 0, 0, 0, 0, 0, 0, 0, 0, 0, 0, 0, 0, 0, 0, 0, 0, 0, 0, 0, 0, 0, 0, 0, 0, 0, 0, 0, 0, 0, 0, 0, 0, 0, 0, 0, 0, 0, 0, 0, 0, 0, 0, 0, 0, 0, 0, 0, 0, 0, 0, 0, 0, 0, 0, 0, 0, 0, 0, 0, 0, 0, 0, 0, 0, 0, 0, 0, 0, 0, 0, 0, 0, 0, 0, 0, 0, 0, 0, 0, 0, 0, 0, 0, 0, 0, 0, 0, 0, 0, 0, 0, 0, 0, 0, 0, 0, 0, 0, 0, 0, 0, 0, 0, 0, 0, 0, 0, 0, 0, 0, 0, 0, 0, 0, 0, 0, 0, 0, 0, 0, 0, 0, 0, 0, 0, 0, 0, 0, 0, 0, 0, 0, 0, 0, 0, 0, 0, 0, 0, 0, 0, 0, 0, 0, 0, 0, 0, 0, 0, 0, 0, 0, 0, 0, 0, 0, 0, 0, 0, 0, 0, 0, 0, 0, 0, 0, 0, 0, 0, 0, 0, 0, 0, 0, 0, 0, 0, 0, 0, 0, 0, 0, 0, 0, 0, 0, 0, 0, 0, 0, 0, 0, 0, 0, 0, 0, 0, 0, 0, 0, 0, 0, 0, 0, 0, 0, 0, 0, 0, 0, 0, 0, 0, 0, 0, 0, 0, 0, 0]], 'attention_mask': [[1, 1, 1, 1, 1, 1, 1, 1, 1, 1, 1, 1, 1, 1, 1, 1, 1, 1, 1, 1, 1, 1, 1, 1, 1, 1, 1, 1, 1, 1, 1, 1, 1, 1, 1, 1, 1, 1, 1, 1, 1, 1, 1, 1, 1, 1, 1, 1, 1, 1, 1, 1, 1, 1, 1, 1, 1, 1, 1, 0, 0, 0, 0, 0, 1, 0, 0, 0, 0, 0, 0, 0, 0, 0, 0, 0, 0, 0, 0, 0, 0, 0, 0, 0, 0, 0, 0, 0, 0, 0, 0, 0, 0, 0, 0, 0, 0, 0, 0, 0, 0, 0, 0, 0, 0, 0, 0, 0, 0, 0, 0, 0, 0, 0, 0, 0, 0, 0, 0, 0, 0, 0, 0, 0, 0, 0, 0, 0, 0, 0, 0, 0, 0, 0, 0, 0, 0, 0, 0, 0, 0, 0, 0, 0, 0, 0, 0, 0, 0, 0, 0, 0, 0, 0, 0, 0, 0, 0, 0, 0, 0, 0, 0, 0, 0, 0, 0, 0, 0, 0, 0, 0, 0, 0, 0, 0, 0, 0, 0, 0, 0, 0, 0, 0, 0, 0, 0, 0, 0, 0, 0, 0, 0, 0, 0, 0, 0, 0, 0, 0, 0, 0, 0, 0, 0, 0, 0, 0, 0, 0, 0, 0, 0, 0, 0, 0, 0, 0, 0, 0, 0, 0, 0, 0, 0, 0, 0, 0, 0, 0, 0, 0, 0, 0, 0, 0, 0, 0, 0, 0, 0, 0, 0, 0, 0, 0, 0, 0, 0, 0, 0, 0, 0, 0, 0, 0, 0, 0, 0, 0, 0, 0, 0, 0, 0, 0, 0, 0, 0, 0, 0, 0, 0, 0, 0, 0, 0, 0, 0, 0, 0, 0, 0, 0, 0, 0, 0, 0, 0, 0, 0, 0, 0, 0, 0, 0, 0, 0, 0, 0, 0, 0, 0, 0, 0, 0, 0, 0, 0, 0, 0, 0, 0, 0, 0, 0, 0, 0, 0, 0, 0, 0, 0, 0, 0, 0, 0, 0, 0, 0, 0, 0, 0, 0, 0, 0, 0, 0, 0, 0, 0, 0, 0, 0, 0, 0, 0, 0, 0, 0, 0, 0, 0, 0, 0, 0, 0, 0, 0, 0, 0, 0, 0, 0, 0, 0, 0, 0, 0, 0, 0, 0, 0, 0, 0, 0, 0, 0, 0, 0, 0, 0, 0, 0, 0, 0, 0, 0, 0, 0, 0, 0, 0, 0, 0, 0, 0, 0, 0, 0, 0, 0, 0, 0, 0, 0, 0, 0, 0, 0, 0, 0, 0, 0, 0, 0, 0, 0, 0, 0, 0, 0, 0, 0, 0, 0, 0, 0, 0, 0, 0, 0, 0, 0, 0, 0, 0, 0, 0, 0, 0, 0, 0, 0, 0, 0, 0, 0, 0, 0, 0, 0, 0, 0, 0, 0, 0, 0, 0, 0, 0, 0, 0, 0, 0, 0, 0, 0, 0, 0, 0, 0, 0, 0, 0, 0, 0, 0, 0, 0, 0, 0, 0, 0, 0, 0, 0, 0, 0, 0, 0, 0, 0, 0, 0, 0, 0, 0, 0, 0, 0, 0, 0, 0, 0, 0, 0, 0, 0, 0, 0, 0], [1, 1, 1, 1, 1, 1, 1, 1, 1, 1, 1, 1, 1, 1, 1, 1, 1, 1, 1, 1, 1, 1, 1, 1, 1, 1, 1, 1, 1, 1, 1, 1, 1, 1, 1, 1, 1, 1, 1, 1, 1, 1, 1, 1, 1, 1, 1, 1, 1, 1, 1, 1, 1, 1, 1, 1, 1, 1, 1, 1, 1, 1, 1, 1, 1, 1, 1, 1, 1, 1, 1, 1, 1, 1, 1, 1, 1, 1, 1, 1, 1, 1, 1, 1, 1, 1, 1, 1, 1, 1, 1, 1, 1, 1, 1, 1, 1, 1, 1, 1, 1, 1, 1, 1, 1, 1, 1, 1, 1, 1, 1, 1, 1, 1, 1, 1, 1, 1, 1, 1, 1, 1, 1, 1, 1, 1, 1, 1, 1, 1, 1, 1, 1, 1, 1, 1, 1, 1, 1, 1, 1, 1, 1, 1, 1, 1, 1, 1, 1, 1, 1, 1, 1, 1, 1, 1, 1, 1, 1, 1, 1, 1, 1, 1, 1, 1, 1, 1, 1, 1, 1, 1, 1, 1, 1, 1, 1, 1, 1, 1, 1, 1, 1, 1, 1, 1, 1, 1, 1, 1, 1, 1, 1, 0, 0, 0, 0, 0, 1, 0, 0, 0, 0, 0, 0, 0, 0, 0, 0, 0, 0, 0, 0, 0, 0, 0, 0, 0, 0, 0, 0, 0, 0, 0, 0, 0, 0, 0, 0, 0, 0, 0, 0, 0, 0, 0, 0, 0, 0, 0, 0, 0, 0, 0, 0, 0, 0, 0, 0, 0, 0, 0, 0, 0, 0, 0, 0, 0, 0, 0, 0, 0, 0, 0, 0, 0, 0, 0, 0, 0, 0, 0, 0, 0, 0, 0, 0, 0, 0, 0, 0, 0, 0, 0, 0, 0, 0, 0, 0, 0, 0, 0, 0, 0, 0, 0, 0, 0, 0, 0, 0, 0, 0, 0, 0, 0, 0, 0, 0, 0, 0, 0, 0, 0, 0, 0, 0, 0, 0, 0, 0, 0, 0, 0, 0, 0, 0, 0, 0, 0, 0, 0, 0, 0, 0, 0, 0, 0, 0, 0, 0, 0, 0, 0, 0, 0, 0, 0, 0, 0, 0, 0, 0, 0, 0, 0, 0, 0, 0, 0, 0, 0, 0, 0, 0, 0, 0, 0, 0, 0, 0, 0, 0, 0, 0, 0, 0, 0, 0, 0, 0, 0, 0, 0, 0, 0, 0, 0, 0, 0, 0, 0, 0, 0, 0, 0, 0, 0, 0, 0, 0, 0, 0, 0, 0, 0, 0, 0, 0, 0, 0, 0, 0, 0, 0, 0, 0, 0, 0, 0, 0, 0, 0, 0, 0, 0, 0, 0, 0, 0, 0, 0, 0, 0, 0, 0, 0, 0, 0, 0, 0, 0, 0, 0, 0, 0, 0, 0, 0, 0, 0, 0, 0, 0, 0, 0, 0, 0, 0, 0, 0, 0, 0, 0, 0, 0, 0, 0, 0, 0, 0, 0, 0, 0, 0, 0, 0, 0, 0, 0, 0, 0, 0, 0, 0, 0, 0, 0, 0, 0, 0, 0, 0, 0, 0, 0, 0, 0, 0, 0, 0, 0, 0, 0, 0, 0, 0, 0, 0, 0, 0, 0], [1, 1, 1, 1, 1, 1, 1, 1, 1, 1, 1, 1, 1, 1, 1, 1, 1, 1, 1, 1, 1, 1, 1, 1, 1, 1, 1, 1, 1, 1, 1, 1, 1, 1, 1, 1, 1, 1, 1, 1, 1, 1, 1, 1, 1, 1, 1, 1, 1, 1, 1, 1, 1, 1, 1, 1, 1, 1, 1, 0, 0, 0, 0, 0, 1, 0, 0, 0, 0, 0, 0, 0, 0, 0, 0, 0, 0, 0, 0, 0, 0, 0, 0, 0, 0, 0, 0, 0, 0, 0, 0, 0, 0, 0, 0, 0, 0, 0, 0, 0, 0, 0, 0, 0, 0, 0, 0, 0, 0, 0, 0, 0, 0, 0, 0, 0, 0, 0, 0, 0, 0, 0, 0, 0, 0, 0, 0, 0, 0, 0, 0, 0, 0, 0, 0, 0, 0, 0, 0, 0, 0, 0, 0, 0, 0, 0, 0, 0, 0, 0, 0, 0, 0, 0, 0, 0, 0, 0, 0, 0, 0, 0, 0, 0, 0, 0, 0, 0, 0, 0, 0, 0, 0, 0, 0, 0, 0, 0, 0, 0, 0, 0, 0, 0, 0, 0, 0, 0, 0, 0, 0, 0, 0, 0, 0, 0, 0, 0, 0, 0, 0, 0, 0, 0, 0, 0, 0, 0, 0, 0, 0, 0, 0, 0, 0, 0, 0, 0, 0, 0, 0, 0, 0, 0, 0, 0, 0, 0, 0, 0, 0, 0, 0, 0, 0, 0, 0, 0, 0, 0, 0, 0, 0, 0, 0, 0, 0, 0, 0, 0, 0, 0, 0, 0, 0, 0, 0, 0, 0, 0, 0, 0, 0, 0, 0, 0, 0, 0, 0, 0, 0, 0, 0, 0, 0, 0, 0, 0, 0, 0, 0, 0, 0, 0, 0, 0, 0, 0, 0, 0, 0, 0, 0, 0, 0, 0, 0, 0, 0, 0, 0, 0, 0, 0, 0, 0, 0, 0, 0, 0, 0, 0, 0, 0, 0, 0, 0, 0, 0, 0, 0, 0, 0, 0, 0, 0, 0, 0, 0, 0, 0, 0, 0, 0, 0, 0, 0, 0, 0, 0, 0, 0, 0, 0, 0, 0, 0, 0, 0, 0, 0, 0, 0, 0, 0, 0, 0, 0, 0, 0, 0, 0, 0, 0, 0, 0, 0, 0, 0, 0, 0, 0, 0, 0, 0, 0, 0, 0, 0, 0, 0, 0, 0, 0, 0, 0, 0, 0, 0, 0, 0, 0, 0, 0, 0, 0, 0, 0, 0, 0, 0, 0, 0, 0, 0, 0, 0, 0, 0, 0, 0, 0, 0, 0, 0, 0, 0, 0, 0, 0, 0, 0, 0, 0, 0, 0, 0, 0, 0, 0, 0, 0, 0, 0, 0, 0, 0, 0, 0, 0, 0, 0, 0, 0, 0, 0, 0, 0, 0, 0, 0, 0, 0, 0, 0, 0, 0, 0, 0, 0, 0, 0, 0, 0, 0, 0, 0, 0, 0, 0, 0, 0, 0, 0, 0, 0, 0, 0, 0, 0, 0, 0, 0, 0, 0, 0, 0, 0, 0, 0, 0, 0, 0, 0, 0, 0, 0, 0, 0, 0, 0, 0, 0, 0, 0, 0, 0, 0, 0, 0, 0, 0]], 'class_token_index_group': [[59, 60, 61, 62, 63], [193, 194, 195, 196, 197], [59, 60, 61, 62, 63]], 'lables': [[0, 0, 1, 0, 1], [0, 0, 1, 0, 1], [0, 0, 1, 0, 1]]}\n"
     ]
    },
    {
     "ename": "TypeError",
     "evalue": "string indices must be integers",
     "output_type": "error",
     "traceback": [
      "\u001b[0;31m---------------------------------------------------------------------------\u001b[0m",
      "\u001b[0;31mTypeError\u001b[0m                                 Traceback (most recent call last)",
      "Cell \u001b[0;32mIn[106], line 1\u001b[0m\n\u001b[0;32m----> 1\u001b[0m \u001b[43mdata_collator\u001b[49m\u001b[43m(\u001b[49m\u001b[43mprocessed_dataset\u001b[49m\u001b[43m[\u001b[49m\u001b[38;5;241;43m0\u001b[39;49m\u001b[43m:\u001b[49m\u001b[38;5;241;43m3\u001b[39;49m\u001b[43m]\u001b[49m\u001b[43m)\u001b[49m\n",
      "Cell \u001b[0;32mIn[105], line 12\u001b[0m, in \u001b[0;36mCustomDataCollatorWithPadding.__call__\u001b[0;34m(self, features)\u001b[0m\n\u001b[1;32m     10\u001b[0m \u001b[38;5;28;01mdef\u001b[39;00m \u001b[38;5;21m__call__\u001b[39m(\u001b[38;5;28mself\u001b[39m, features: List[Dict[\u001b[38;5;28mstr\u001b[39m, Any]]) \u001b[38;5;241m-\u001b[39m\u001b[38;5;241m>\u001b[39m Dict[\u001b[38;5;28mstr\u001b[39m, Any]:\n\u001b[1;32m     11\u001b[0m     \u001b[38;5;28mprint\u001b[39m(features)\n\u001b[0;32m---> 12\u001b[0m     processed_features \u001b[38;5;241m=\u001b[39m [\n\u001b[1;32m     13\u001b[0m         {\u001b[38;5;124m\"\u001b[39m\u001b[38;5;124minput_ids\u001b[39m\u001b[38;5;124m\"\u001b[39m: f[\u001b[38;5;124m\"\u001b[39m\u001b[38;5;124minput_ids\u001b[39m\u001b[38;5;124m\"\u001b[39m], \u001b[38;5;124m\"\u001b[39m\u001b[38;5;124mattention_mask\u001b[39m\u001b[38;5;124m\"\u001b[39m: f[\u001b[38;5;124m\"\u001b[39m\u001b[38;5;124mattention_mask\u001b[39m\u001b[38;5;124m\"\u001b[39m]}\n\u001b[1;32m     14\u001b[0m         \u001b[38;5;28;01mfor\u001b[39;00m f \u001b[38;5;129;01min\u001b[39;00m features\n\u001b[1;32m     15\u001b[0m     ]\n\u001b[1;32m     16\u001b[0m     data_collator \u001b[38;5;241m=\u001b[39m DataCollatorWithPadding(tokenizer\u001b[38;5;241m=\u001b[39m\u001b[38;5;28mself\u001b[39m\u001b[38;5;241m.\u001b[39mtokenizer)\n\u001b[1;32m     17\u001b[0m     batch \u001b[38;5;241m=\u001b[39m data_collator(processed_features)\n",
      "Cell \u001b[0;32mIn[105], line 13\u001b[0m, in \u001b[0;36m<listcomp>\u001b[0;34m(.0)\u001b[0m\n\u001b[1;32m     10\u001b[0m \u001b[38;5;28;01mdef\u001b[39;00m \u001b[38;5;21m__call__\u001b[39m(\u001b[38;5;28mself\u001b[39m, features: List[Dict[\u001b[38;5;28mstr\u001b[39m, Any]]) \u001b[38;5;241m-\u001b[39m\u001b[38;5;241m>\u001b[39m Dict[\u001b[38;5;28mstr\u001b[39m, Any]:\n\u001b[1;32m     11\u001b[0m     \u001b[38;5;28mprint\u001b[39m(features)\n\u001b[1;32m     12\u001b[0m     processed_features \u001b[38;5;241m=\u001b[39m [\n\u001b[0;32m---> 13\u001b[0m         {\u001b[38;5;124m\"\u001b[39m\u001b[38;5;124minput_ids\u001b[39m\u001b[38;5;124m\"\u001b[39m: \u001b[43mf\u001b[49m\u001b[43m[\u001b[49m\u001b[38;5;124;43m\"\u001b[39;49m\u001b[38;5;124;43minput_ids\u001b[39;49m\u001b[38;5;124;43m\"\u001b[39;49m\u001b[43m]\u001b[49m, \u001b[38;5;124m\"\u001b[39m\u001b[38;5;124mattention_mask\u001b[39m\u001b[38;5;124m\"\u001b[39m: f[\u001b[38;5;124m\"\u001b[39m\u001b[38;5;124mattention_mask\u001b[39m\u001b[38;5;124m\"\u001b[39m]}\n\u001b[1;32m     14\u001b[0m         \u001b[38;5;28;01mfor\u001b[39;00m f \u001b[38;5;129;01min\u001b[39;00m features\n\u001b[1;32m     15\u001b[0m     ]\n\u001b[1;32m     16\u001b[0m     data_collator \u001b[38;5;241m=\u001b[39m DataCollatorWithPadding(tokenizer\u001b[38;5;241m=\u001b[39m\u001b[38;5;28mself\u001b[39m\u001b[38;5;241m.\u001b[39mtokenizer)\n\u001b[1;32m     17\u001b[0m     batch \u001b[38;5;241m=\u001b[39m data_collator(processed_features)\n",
      "\u001b[0;31mTypeError\u001b[0m: string indices must be integers"
     ]
    }
   ],
   "source": [
    "data_collator(processed_dataset[0:3])\n"
   ]
  },
  {
   "cell_type": "code",
   "execution_count": 137,
   "metadata": {},
   "outputs": [
    {
     "data": {
      "text/plain": [
       "torch.Size([3, 6, 4])"
      ]
     },
     "execution_count": 137,
     "metadata": {},
     "output_type": "execute_result"
    }
   ],
   "source": [
    "from transformers import TrainingArguments\n",
    "def train_model(tokenized_dataset, tokenizer):\n",
    "\n",
    "  # Initialize the model\n",
    "  model = EncoderDecoderForClassification(\"t5-small\", lora_set)\n",
    "\n",
    "  # Define training arguments\n",
    "  training_args = TrainingArguments(\n",
    "      output_dir=\"./results\",\n",
    "      evaluation_strategy=\"epoch\",\n",
    "      save_strategy=\"epoch\",\n",
    "      learning_rate=5e-5,\n",
    "      per_device_train_batch_size=8,\n",
    "      per_device_eval_batch_size=8,\n",
    "      num_train_epochs=3,\n",
    "      weight_decay=0.01,\n",
    "      logging_dir=\"./logs\",\n",
    "      logging_steps=50,\n",
    "      load_best_model_at_end=True,\n",
    "      metric_for_best_model=\"accuracy\",\n",
    "  )\n",
    "\n",
    "  # Define the Trainer\n",
    "  trainer = CustomTrainer(\n",
    "      model=model,\n",
    "      args=training_args,\n",
    "      train_dataset=tokenized_dataset,\n",
    "      eval_dataset=tokenized_dataset,\n",
    "      tokenizer=tokenizer,  # Needed for data formatting\n",
    "      data_collator=CustomDataCollatorWithPadding(tokenizer=tokenizer)\n",
    "  )\n",
    "\n",
    "  # Train the model\n",
    "  trainer.train()"
   ]
  },
  {
   "cell_type": "code",
   "execution_count": 138,
   "metadata": {},
   "outputs": [
    {
     "data": {
      "text/plain": [
       "{'Rock': {'lora_meta': 'Name: Dwayne \"The Rock\" Johnson\\n\\nDescription: th3r0ck with no hair, muscular male, serious look on his face\\n\\nTrigger Words: th3r0ck',\n",
       "  'lora_path': '/Users/henryyi/Documents/University/Systems for Gen AI/Final Project/Heterogenous-Multi-LoRA/LoRA-compos-data/lora-pool/compose/14_Rock.safetensors',\n",
       "  'lora_meta_path': '/Users/henryyi/Documents/University/Systems for Gen AI/Final Project/Heterogenous-Multi-LoRA/LoRA-compos-data/lora-pool-meta/15_Rock.txt'},\n",
       " 'Gum': {'lora_meta': 'Name: Bubble Gum (バブルガム / 泡泡糖 / Kaugummi) v2.0\\n\\nDescription: blow bubble gum\\n\\nTrigger Words: blow bubble gum',\n",
       "  'lora_path': '/Users/henryyi/Documents/University/Systems for Gen AI/Final Project/Heterogenous-Multi-LoRA/LoRA-compos-data/lora-pool/compose/22_Gum.safetensors',\n",
       "  'lora_meta_path': '/Users/henryyi/Documents/University/Systems for Gen AI/Final Project/Heterogenous-Multi-LoRA/LoRA-compos-data/lora-pool-meta/21_Gum.txt'},\n",
       " 'Library': {'lora_meta': 'Name: Library bookshelf\\n\\nDescription: lib bg, library bookshelf\\n\\nTrigger Words: lib bg',\n",
       "  'lora_path': '/Users/henryyi/Documents/University/Systems for Gen AI/Final Project/Heterogenous-Multi-LoRA/LoRA-compos-data/lora-pool/compose/19_Library.safetensors',\n",
       "  'lora_meta_path': '/Users/henryyi/Documents/University/Systems for Gen AI/Final Project/Heterogenous-Multi-LoRA/LoRA-compos-data/lora-pool-meta/09_Library.txt'},\n",
       " 'JFC': {'lora_meta': 'Name: Japan Vibes - Film color\\n\\nDescription: Japan film girl - Color\\n\\nTrigger Words: film overlay\\nfilm grain',\n",
       "  'lora_path': '/Users/henryyi/Documents/University/Systems for Gen AI/Final Project/Heterogenous-Multi-LoRA/LoRA-compos-data/lora-pool/compose/17_JFC.safetensors',\n",
       "  'lora_meta_path': '/Users/henryyi/Documents/University/Systems for Gen AI/Final Project/Heterogenous-Multi-LoRA/LoRA-compos-data/lora-pool-meta/02_JFC.txt'},\n",
       " 'Scarlett': {'lora_meta': 'Name: Scarlett Johansson\\n\\nDescription: scarlett, short red hair, blue eyes\\n\\nTrigger Words: scarlett',\n",
       "  'lora_path': '/Users/henryyi/Documents/University/Systems for Gen AI/Final Project/Heterogenous-Multi-LoRA/LoRA-compos-data/lora-pool/compose/13_Scarlett.safetensors',\n",
       "  'lora_meta_path': '/Users/henryyi/Documents/University/Systems for Gen AI/Final Project/Heterogenous-Multi-LoRA/LoRA-compos-data/lora-pool-meta/12_Scarlett.txt'}}"
      ]
     },
     "execution_count": 138,
     "metadata": {},
     "output_type": "execute_result"
    }
   ],
   "source": [
    "lora_set"
   ]
  },
  {
   "cell_type": "code",
   "execution_count": 158,
   "metadata": {},
   "outputs": [],
   "source": [
    "def build_lora_ensemble(lora_set, tokenizer):\n",
    "    # text = \"The following are the descriptions of the LoRA: \\n\\n\"\n",
    "    text = \"\"\n",
    "    descriptions = [ f\"{{[CLASS_{lora_index}]: {lora_set[lora_name]['lora_meta']}}}\" for lora_index, lora_name in enumerate(lora_set.keys()) ]\n",
    "    text += ';\\n\\n'.join(descriptions)\n",
    "    text += '.'\n",
    "    print(text)\n",
    "    tokenized_text = tokenizer(text, truncation=True, padding='max_length', max_length=512, return_tensors='pt')\n",
    "    return tokenized_text\n"
   ]
  },
  {
   "cell_type": "code",
   "execution_count": 159,
   "metadata": {},
   "outputs": [
    {
     "name": "stdout",
     "output_type": "stream",
     "text": [
      "{[CLASS_0]: Name: Dwayne \"The Rock\" Johnson\n",
      "\n",
      "Description: th3r0ck with no hair, muscular male, serious look on his face\n",
      "\n",
      "Trigger Words: th3r0ck};\n",
      "\n",
      "{[CLASS_1]: Name: Bubble Gum (バブルガム / 泡泡糖 / Kaugummi) v2.0\n",
      "\n",
      "Description: blow bubble gum\n",
      "\n",
      "Trigger Words: blow bubble gum};\n",
      "\n",
      "{[CLASS_2]: Name: Library bookshelf\n",
      "\n",
      "Description: lib bg, library bookshelf\n",
      "\n",
      "Trigger Words: lib bg};\n",
      "\n",
      "{[CLASS_3]: Name: Japan Vibes - Film color\n",
      "\n",
      "Description: Japan film girl - Color\n",
      "\n",
      "Trigger Words: film overlay\n",
      "film grain};\n",
      "\n",
      "{[CLASS_4]: Name: Scarlett Johansson\n",
      "\n",
      "Description: scarlett, short red hair, blue eyes\n",
      "\n",
      "Trigger Words: scarlett}.\n"
     ]
    }
   ],
   "source": [
    "tokenized_text = build_lora_ensemble(lora_set, tokenizer)"
   ]
  },
  {
   "cell_type": "code",
   "execution_count": 155,
   "metadata": {},
   "outputs": [
    {
     "data": {
      "text/plain": [
       "{'input_ids': tensor([[   37,   826,    33,     8, 15293,    13,     8,  1815,  4763,    10,\n",
       "             3,     2, 32100,     3,    10,  5570,    10,   309,  1343,    29,\n",
       "            15,    96,   634,  3120,   121,  5891,  7726,    10,     3,   189,\n",
       "           519,    52,   632,  2406,    28,   150,  1268,     6, 19671,  5069,\n",
       "             6,  2261,   320,    30,   112,   522,  2702,  6938,  4467,     7,\n",
       "            10,     3,   189,   519,    52,   632,  2406,     2,   117,     3,\n",
       "             2, 32101,     3,    10,  5570,    10, 30153,  2846,    51,    41,\n",
       "             2,     3,    87,     3,     2,     3,    87, 24253,  1744,   635,\n",
       "            23,    61,     3,   208, 24273,  7726,    10,  6019, 11144, 11406,\n",
       "          2702,  6938,  4467,     7,    10,  6019, 11144, 11406,     2,   117,\n",
       "             3,     2, 32102,     3,    10,  5570,    10,  5355,  1335,   107,\n",
       "         10386,  7726,    10,     3,  6856,     3,   115,   122,     6,  3595,\n",
       "          1335,   107, 10386,  2702,  6938,  4467,     7,    10,     3,  6856,\n",
       "             3,   115,   122,     2,   117,     3,     2, 32103,     3,    10,\n",
       "          5570,    10,  3411,  1813,   346,     7,     3,    18,  3417,   945,\n",
       "          7726,    10,  3411,   814,  3202,     3,    18,  6088,  2702,  6938,\n",
       "          4467,     7,    10,   814, 25980,   814,  8273,     2,   117,     3,\n",
       "             2, 32104,     3,    10,  5570,    10, 14586,  1655,    17,  2194,\n",
       "          2618,     7,   739,  7726,    10,  6541,  1655,    17,     6,   710,\n",
       "          1131,  1268,     6,  1692,  2053,  2702,  6938,  4467,     7,    10,\n",
       "          6541,  1655,    17,     2,     5,     1,     0,     0,     0,     0,\n",
       "             0,     0,     0,     0,     0,     0,     0,     0,     0,     0,\n",
       "             0,     0,     0,     0,     0,     0,     0,     0,     0,     0,\n",
       "             0,     0,     0,     0,     0,     0,     0,     0,     0,     0,\n",
       "             0,     0,     0,     0,     0,     0,     0,     0,     0,     0,\n",
       "             0,     0,     0,     0,     0,     0,     0,     0,     0,     0,\n",
       "             0,     0,     0,     0,     0,     0,     0,     0,     0,     0,\n",
       "             0,     0,     0,     0,     0,     0,     0,     0,     0,     0,\n",
       "             0,     0,     0,     0,     0,     0,     0,     0,     0,     0,\n",
       "             0,     0,     0,     0,     0,     0,     0,     0,     0,     0,\n",
       "             0,     0,     0,     0,     0,     0,     0,     0,     0,     0,\n",
       "             0,     0,     0,     0,     0,     0,     0,     0,     0,     0,\n",
       "             0,     0,     0,     0,     0,     0,     0,     0,     0,     0,\n",
       "             0,     0,     0,     0,     0,     0,     0,     0,     0,     0,\n",
       "             0,     0,     0,     0,     0,     0,     0,     0,     0,     0,\n",
       "             0,     0,     0,     0,     0,     0,     0,     0,     0,     0,\n",
       "             0,     0,     0,     0,     0,     0,     0,     0,     0,     0,\n",
       "             0,     0,     0,     0,     0,     0,     0,     0,     0,     0,\n",
       "             0,     0,     0,     0,     0,     0,     0,     0,     0,     0,\n",
       "             0,     0,     0,     0,     0,     0,     0,     0,     0,     0,\n",
       "             0,     0,     0,     0,     0,     0,     0,     0,     0,     0,\n",
       "             0,     0,     0,     0,     0,     0,     0,     0,     0,     0,\n",
       "             0,     0,     0,     0,     0,     0,     0,     0,     0,     0,\n",
       "             0,     0,     0,     0,     0,     0,     0,     0,     0,     0,\n",
       "             0,     0,     0,     0,     0,     0,     0,     0,     0,     0,\n",
       "             0,     0,     0,     0,     0,     0,     0,     0,     0,     0,\n",
       "             0,     0,     0,     0,     0,     0,     0,     0,     0,     0,\n",
       "             0,     0,     0,     0,     0,     0,     0,     0,     0,     0,\n",
       "             0,     0,     0,     0,     0,     0,     0,     0,     0,     0,\n",
       "             0,     0,     0,     0,     0,     0,     0,     0,     0,     0,\n",
       "             0,     0,     0,     0,     0,     0,     0,     0,     0,     0,\n",
       "             0,     0]]), 'attention_mask': tensor([[1, 1, 1, 1, 1, 1, 1, 1, 1, 1, 1, 1, 1, 1, 1, 1, 1, 1, 1, 1, 1, 1, 1, 1,\n",
       "         1, 1, 1, 1, 1, 1, 1, 1, 1, 1, 1, 1, 1, 1, 1, 1, 1, 1, 1, 1, 1, 1, 1, 1,\n",
       "         1, 1, 1, 1, 1, 1, 1, 1, 1, 1, 1, 1, 1, 1, 1, 1, 1, 1, 1, 1, 1, 1, 1, 1,\n",
       "         1, 1, 1, 1, 1, 1, 1, 1, 1, 1, 1, 1, 1, 1, 1, 1, 1, 1, 1, 1, 1, 1, 1, 1,\n",
       "         1, 1, 1, 1, 1, 1, 1, 1, 1, 1, 1, 1, 1, 1, 1, 1, 1, 1, 1, 1, 1, 1, 1, 1,\n",
       "         1, 1, 1, 1, 1, 1, 1, 1, 1, 1, 1, 1, 1, 1, 1, 1, 1, 1, 1, 1, 1, 1, 1, 1,\n",
       "         1, 1, 1, 1, 1, 1, 1, 1, 1, 1, 1, 1, 1, 1, 1, 1, 1, 1, 1, 1, 1, 1, 1, 1,\n",
       "         1, 1, 1, 1, 1, 1, 1, 1, 1, 1, 1, 1, 1, 1, 1, 1, 1, 1, 1, 1, 1, 1, 1, 1,\n",
       "         1, 1, 1, 1, 1, 1, 1, 1, 1, 1, 1, 1, 1, 1, 0, 0, 0, 0, 0, 0, 0, 0, 0, 0,\n",
       "         0, 0, 0, 0, 0, 0, 0, 0, 0, 0, 0, 0, 0, 0, 0, 0, 0, 0, 0, 0, 0, 0, 0, 0,\n",
       "         0, 0, 0, 0, 0, 0, 0, 0, 0, 0, 0, 0, 0, 0, 0, 0, 0, 0, 0, 0, 0, 0, 0, 0,\n",
       "         0, 0, 0, 0, 0, 0, 0, 0, 0, 0, 0, 0, 0, 0, 0, 0, 0, 0, 0, 0, 0, 0, 0, 0,\n",
       "         0, 0, 0, 0, 0, 0, 0, 0, 0, 0, 0, 0, 0, 0, 0, 0, 0, 0, 0, 0, 0, 0, 0, 0,\n",
       "         0, 0, 0, 0, 0, 0, 0, 0, 0, 0, 0, 0, 0, 0, 0, 0, 0, 0, 0, 0, 0, 0, 0, 0,\n",
       "         0, 0, 0, 0, 0, 0, 0, 0, 0, 0, 0, 0, 0, 0, 0, 0, 0, 0, 0, 0, 0, 0, 0, 0,\n",
       "         0, 0, 0, 0, 0, 0, 0, 0, 0, 0, 0, 0, 0, 0, 0, 0, 0, 0, 0, 0, 0, 0, 0, 0,\n",
       "         0, 0, 0, 0, 0, 0, 0, 0, 0, 0, 0, 0, 0, 0, 0, 0, 0, 0, 0, 0, 0, 0, 0, 0,\n",
       "         0, 0, 0, 0, 0, 0, 0, 0, 0, 0, 0, 0, 0, 0, 0, 0, 0, 0, 0, 0, 0, 0, 0, 0,\n",
       "         0, 0, 0, 0, 0, 0, 0, 0, 0, 0, 0, 0, 0, 0, 0, 0, 0, 0, 0, 0, 0, 0, 0, 0,\n",
       "         0, 0, 0, 0, 0, 0, 0, 0, 0, 0, 0, 0, 0, 0, 0, 0, 0, 0, 0, 0, 0, 0, 0, 0,\n",
       "         0, 0, 0, 0, 0, 0, 0, 0, 0, 0, 0, 0, 0, 0, 0, 0, 0, 0, 0, 0, 0, 0, 0, 0,\n",
       "         0, 0, 0, 0, 0, 0, 0, 0]])}"
      ]
     },
     "execution_count": 155,
     "metadata": {},
     "output_type": "execute_result"
    }
   ],
   "source": [
    "tokenized_text"
   ]
  },
  {
   "cell_type": "code",
   "execution_count": 157,
   "metadata": {},
   "outputs": [
    {
     "data": {
      "text/plain": [
       "'The following are the descriptions of the LoRA: <unk> [CLASS_0] : Name: Dwayne \"The Rock\" Johnson Description: th3r0ck with no hair, muscular male, serious look on his face Trigger Words: th3r0ck<unk> ; <unk> [CLASS_1] : Name: Bubble Gum (<unk> / <unk> / Kaugummi) v2.0 Description: blow bubble gum Trigger Words: blow bubble gum<unk> ; <unk> [CLASS_2] : Name: Library bookshelf Description: lib bg, library bookshelf Trigger Words: lib bg<unk> ; <unk> [CLASS_3] : Name: Japan Vibes - Film color Description: Japan film girl - Color Trigger Words: film overlay film grain<unk> ; <unk> [CLASS_4] : Name: Scarlett Johansson Description: scarlett, short red hair, blue eyes Trigger Words: scarlett<unk>.</s><pad><pad><pad><pad><pad><pad><pad><pad><pad><pad><pad><pad><pad><pad><pad><pad><pad><pad><pad><pad><pad><pad><pad><pad><pad><pad><pad><pad><pad><pad><pad><pad><pad><pad><pad><pad><pad><pad><pad><pad><pad><pad><pad><pad><pad><pad><pad><pad><pad><pad><pad><pad><pad><pad><pad><pad><pad><pad><pad><pad><pad><pad><pad><pad><pad><pad><pad><pad><pad><pad><pad><pad><pad><pad><pad><pad><pad><pad><pad><pad><pad><pad><pad><pad><pad><pad><pad><pad><pad><pad><pad><pad><pad><pad><pad><pad><pad><pad><pad><pad><pad><pad><pad><pad><pad><pad><pad><pad><pad><pad><pad><pad><pad><pad><pad><pad><pad><pad><pad><pad><pad><pad><pad><pad><pad><pad><pad><pad><pad><pad><pad><pad><pad><pad><pad><pad><pad><pad><pad><pad><pad><pad><pad><pad><pad><pad><pad><pad><pad><pad><pad><pad><pad><pad><pad><pad><pad><pad><pad><pad><pad><pad><pad><pad><pad><pad><pad><pad><pad><pad><pad><pad><pad><pad><pad><pad><pad><pad><pad><pad><pad><pad><pad><pad><pad><pad><pad><pad><pad><pad><pad><pad><pad><pad><pad><pad><pad><pad><pad><pad><pad><pad><pad><pad><pad><pad><pad><pad><pad><pad><pad><pad><pad><pad><pad><pad><pad><pad><pad><pad><pad><pad><pad><pad><pad><pad><pad><pad><pad><pad><pad><pad><pad><pad><pad><pad><pad><pad><pad><pad><pad><pad><pad><pad><pad><pad><pad><pad><pad><pad><pad><pad><pad><pad><pad><pad><pad><pad><pad><pad><pad><pad><pad><pad><pad><pad><pad><pad><pad><pad><pad><pad><pad><pad><pad><pad><pad><pad><pad><pad><pad><pad><pad><pad><pad><pad><pad><pad><pad><pad><pad><pad><pad><pad><pad><pad><pad><pad><pad><pad><pad><pad><pad><pad><pad><pad>'"
      ]
     },
     "execution_count": 157,
     "metadata": {},
     "output_type": "execute_result"
    }
   ],
   "source": [
    "tokenizer.decode(tokenized_text['input_ids'][0])"
   ]
  },
  {
   "cell_type": "code",
   "execution_count": null,
   "metadata": {},
   "outputs": [],
   "source": []
  }
 ],
 "metadata": {
  "kernelspec": {
   "display_name": "ML-Algorithm-LowerVersion",
   "language": "python",
   "name": "python3"
  },
  "language_info": {
   "codemirror_mode": {
    "name": "ipython",
    "version": 3
   },
   "file_extension": ".py",
   "mimetype": "text/x-python",
   "name": "python",
   "nbconvert_exporter": "python",
   "pygments_lexer": "ipython3",
   "version": "3.10.0"
  }
 },
 "nbformat": 4,
 "nbformat_minor": 2
}
